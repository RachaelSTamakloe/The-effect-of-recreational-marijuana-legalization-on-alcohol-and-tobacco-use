{
  "cells": [
    {
      "cell_type": "markdown",
      "source": [
        "# Is Legalizing Weed as Lit as it Sounds? \n",
        "##The effect of recreational marijuana legalization on alcohol and tobacco use #"
      ],
      "metadata": {
        "id": "3KZl-7NuUd3I"
      }
    },
    {
      "cell_type": "markdown",
      "source": [
        "Authors: Gabrielle Bioteau, Mia Ginsberg, Justin Hong, Shriya Karam, Rachael Tamakloe"
      ],
      "metadata": {
        "id": "BAYigZkYUrmk"
      }
    },
    {
      "cell_type": "markdown",
      "source": [
        "# ABSTRACT #"
      ],
      "metadata": {
        "id": "MkeECcSQTKph"
      }
    },
    {
      "cell_type": "markdown",
      "source": [
        "Over a dozen states across the United States have legalized the usage of recreational marijuana and many more are considering passing similar laws. Along with this, due to government advertising of the harmful effects of alcohol, tobacco, and other drugs, the rates of use are already declining. In this project, we will examine if the legalization of recreational marijuana has an impact on the consumption of marijuana as well as other substances, including alcohol and tobacco. We will consider using a regression discontinuity design and difference-in-difference model to examine the effect of recreational marijuana legislation on the usage of these substances. We find that in states when recreational marijuana is legalized, rates of new users of marijuana increase among 18-25 year olds, while alcohol and tobacco consumption declines in the two years after legalization. Our findings suggest that the legalization of marijuana may provide a safer drug for people to turn to instead of alcohol and tobacco.\n"
      ],
      "metadata": {
        "id": "mxPsZgp4VAcM"
      }
    },
    {
      "cell_type": "markdown",
      "source": [
        "# INTRODUCTION #"
      ],
      "metadata": {
        "id": "Ie0TeBkzTQeZ"
      }
    },
    {
      "cell_type": "markdown",
      "source": [
        "Alcohol and tobacco have a long history of popular use in the United States, originating from or before its initial colonization, and continue to be popular in modern day. According to a research paper led by Linda R. Gowing in 2015, 5% of the world’s adult population have an alcohol use disorder, while over 22% of the world’s adult population smoke tobacco products. In addition, they estimate that 11% and 6% of male and female deaths, respectively, are due to tobacco products (Gowing, 2015). \n",
        "\n",
        "Marijuana is relatively new compared to alcohol and tobacco. It was not until the Mexican Revolution of 1910 that recreational marijuana was introduced by Mexican immigrants. By 1937, the Marijuana Tax Act was passed by Congress to criminalize marijuana entirely. Laws passed in 1970 decriminalized most drugs, but criminalizing laws were brought back in 1989. At the same time, individual states began decriminalizing medical marijuana for good. This created a tension between the criminalizing laws of the federal government versus the permitting laws of individual states (U of GA, 2020).\n",
        "\n",
        "According to a 2015 study by Dirk W. Lachenmeier and Jürgen Rehm, who analyzed the ratio between toxicological threshold (how much of a substance would cause death from overdose) and estimated human intake, alcohol and tobacco were seen as high risk drugs while cannabis was far safer, at low risk (Lachenmeier and Rehm, 2015). By numerous other studies, marijuana was analyzed to be less toxic, less addictive, and less harmful (both physically and mentally) than alcohol and tobacco. A few studies even propose that recreational marijuana has health benefits.\n",
        "\n",
        "In an attempt to reduce the use of tobacco and alcohol, which are high risk drugs, many states pass laws to restrict who can or how to buy them. However, it is known that this method often targets marginalized communities. In the case that the legalization of recreational marijuana decreases the use of more harmful substances such as alcohol and tobacco, the legalization of medical marijuana can be seen as an alternate solution to the banning of tobacco and alcohol, achieving the same result of their reduced use.\n",
        "\n",
        "This knowledge could help advise the ever increasing number of legislations deciding on whether or not to legalize marijuana. If alcohol and tobacco usage decreases with the legalization of marijuana, the legislation is given another reason to support its legalization. If alcohol and tobacco usage is not related to the legalization of marijuana, the supporting factors for the legalization of marijuana are unchanged.\n"
      ],
      "metadata": {
        "id": "_vXhP_MyVUR9"
      }
    },
    {
      "cell_type": "markdown",
      "source": [
        "# UNDERSTANDING THE DATA #"
      ],
      "metadata": {
        "id": "najzT38GTcmZ"
      }
    },
    {
      "cell_type": "markdown",
      "source": [
        "In this section, we load our data set and describe our data source. We also conduct some initial data processing and exploratory data analysis to observe the structure and general trends in our data.\n"
      ],
      "metadata": {
        "id": "jnL_uCcY07eX"
      }
    },
    {
      "cell_type": "markdown",
      "source": [
        "## Loading the Data\n",
        "\n",
        "The data set was acquired from the drug category of the CORGIS Dataset Project.\n",
        "CORGIS attributes the dataset to the National Survey on Drug Use and Health(NSDUH), which conducted voluntary, compensated surveys throughout 2002 to 2018. \n",
        "Each year that the survey is conducted, approximately 70,000 individuals ages 12+ in the United States will be selected to participate. \n",
        "NSDUH does not survey homeless persons that do not use shelters and people in jails and hospitals. (NSDUH, 2021).\n"
      ],
      "metadata": {
        "id": "6ZhsfQfGuukq"
      }
    },
    {
      "cell_type": "code",
      "execution_count": null,
      "metadata": {
        "id": "eL-7dQVoTtP5",
        "colab": {
          "base_uri": "https://localhost:8080/"
        },
        "outputId": "44900f4d-ee96-4297-fa47-ec86b2dbe547"
      },
      "outputs": [
        {
          "output_type": "stream",
          "name": "stderr",
          "text": [
            "/usr/local/lib/python3.7/dist-packages/statsmodels/tools/_testing.py:19: FutureWarning: pandas.util.testing is deprecated. Use the functions in the public API at pandas.testing instead.\n",
            "  import pandas.util.testing as tm\n"
          ]
        }
      ],
      "source": [
        "import numpy as np\n",
        "import pandas as pd\n",
        "\n",
        "#plotting\n",
        "import matplotlib.pyplot as plt\n",
        "import seaborn as sns\n",
        "\n",
        "#modeling\n",
        "import statsmodels.api as sm"
      ]
    },
    {
      "cell_type": "code",
      "source": [
        "#set pandas settings\n",
        "pd.set_option('display.max_columns', None)\n",
        "raw_df = pd.read_csv(\"https://corgis-edu.github.io/corgis/datasets/csv/drugs/drugs.csv\")"
      ],
      "metadata": {
        "id": "11SlUIdp1TdZ"
      },
      "execution_count": null,
      "outputs": []
    },
    {
      "cell_type": "code",
      "source": [
        "raw_df.head()"
      ],
      "metadata": {
        "colab": {
          "base_uri": "https://localhost:8080/",
          "height": 322
        },
        "id": "j6tDzkVs1YRt",
        "outputId": "27639e8e-eb35-4eae-b167-5bbb6baa92d1"
      },
      "execution_count": null,
      "outputs": [
        {
          "output_type": "execute_result",
          "data": {
            "text/plain": [
              "        State  Year  Population.12-17  Population.18-25  Population.26+  \\\n",
              "0     Alabama  2002            380805            499453         2812905   \n",
              "1      Alaska  2002             69400             62791          368460   \n",
              "2     Arizona  2002            485521            602265         3329482   \n",
              "3    Arkansas  2002            232986            302029         1687337   \n",
              "4  California  2002           3140739           3919577        21392421   \n",
              "\n",
              "   Totals.Alcohol.Use Disorder Past Year.12-17  \\\n",
              "0                                           18   \n",
              "1                                            4   \n",
              "2                                           36   \n",
              "3                                           14   \n",
              "4                                          173   \n",
              "\n",
              "   Totals.Alcohol.Use Disorder Past Year.18-25  \\\n",
              "0                                           68   \n",
              "1                                           12   \n",
              "2                                          117   \n",
              "3                                           53   \n",
              "4                                          581   \n",
              "\n",
              "   Totals.Alcohol.Use Disorder Past Year.26+  \\\n",
              "0                                        138   \n",
              "1                                         27   \n",
              "2                                        258   \n",
              "3                                        101   \n",
              "4                                       1298   \n",
              "\n",
              "   Rates.Alcohol.Use Disorder Past Year.12-17  \\\n",
              "0                                    0.048336   \n",
              "1                                    0.061479   \n",
              "2                                    0.073819   \n",
              "3                                    0.061457   \n",
              "4                                    0.055109   \n",
              "\n",
              "   Rates.Alcohol.Use Disorder Past Year.18-25  \\\n",
              "0                                    0.136490   \n",
              "1                                    0.187891   \n",
              "2                                    0.193626   \n",
              "3                                    0.175913   \n",
              "4                                    0.148312   \n",
              "\n",
              "   Rates.Alcohol.Use Disorder Past Year.26+  \\\n",
              "0                                  0.049068   \n",
              "1                                  0.073677   \n",
              "2                                  0.077521   \n",
              "3                                  0.059810   \n",
              "4                                  0.060692   \n",
              "\n",
              "   Totals.Alcohol.Use Past Month.12-17  Totals.Alcohol.Use Past Month.18-25  \\\n",
              "0                                   57                                  254   \n",
              "1                                   11                                   38   \n",
              "2                                   91                                  352   \n",
              "3                                   39                                  162   \n",
              "4                                  480                                 2176   \n",
              "\n",
              "   Totals.Alcohol.Use Past Month.26+  Rates.Alcohol.Use Past Month.12-17  \\\n",
              "0                               1048                            0.150033   \n",
              "1                                206                            0.158988   \n",
              "2                               1774                            0.186864   \n",
              "3                                664                            0.167065   \n",
              "4                              11847                            0.152791   \n",
              "\n",
              "   Rates.Alcohol.Use Past Month.18-25  Rates.Alcohol.Use Past Month.26+  \\\n",
              "0                            0.509551                          0.372703   \n",
              "1                            0.598311                          0.559151   \n",
              "2                            0.584521                          0.532858   \n",
              "3                            0.537894                          0.393372   \n",
              "4                            0.555278                          0.553801   \n",
              "\n",
              "   Totals.Tobacco.Cigarette Past Month.12-17  \\\n",
              "0                                         52   \n",
              "1                                          9   \n",
              "2                                         62   \n",
              "3                                         37   \n",
              "4                                        235   \n",
              "\n",
              "   Totals.Tobacco.Cigarette Past Month.18-25  \\\n",
              "0                                        196   \n",
              "1                                         28   \n",
              "2                                        234   \n",
              "3                                        154   \n",
              "4                                       1245   \n",
              "\n",
              "   Totals.Tobacco.Cigarette Past Month.26+  \\\n",
              "0                                      728   \n",
              "1                                       92   \n",
              "2                                      919   \n",
              "3                                      539   \n",
              "4                                     4028   \n",
              "\n",
              "   Rates.Tobacco.Cigarette Past Month.12-17  \\\n",
              "0                                  0.136906   \n",
              "1                                  0.132517   \n",
              "2                                  0.128357   \n",
              "3                                  0.160479   \n",
              "4                                  0.074824   \n",
              "\n",
              "   Rates.Tobacco.Cigarette Past Month.18-25  \\\n",
              "0                                  0.392404   \n",
              "1                                  0.439749   \n",
              "2                                  0.388473   \n",
              "3                                  0.509682   \n",
              "4                                  0.317661   \n",
              "\n",
              "   Rates.Tobacco.Cigarette Past Month.26+  \\\n",
              "0                                0.258844   \n",
              "1                                0.249578   \n",
              "2                                0.275990   \n",
              "3                                0.319224   \n",
              "4                                0.188269   \n",
              "\n",
              "   Totals.Illicit Drugs.Cocaine Used Past Year.12-17  \\\n",
              "0                                                  6   \n",
              "1                                                  2   \n",
              "2                                                 16   \n",
              "3                                                  4   \n",
              "4                                                 53   \n",
              "\n",
              "   Totals.Illicit Drugs.Cocaine Used Past Year.18-25  \\\n",
              "0                                                 27   \n",
              "1                                                  5   \n",
              "2                                                 51   \n",
              "3                                                 18   \n",
              "4                                                259   \n",
              "\n",
              "   Totals.Illicit Drugs.Cocaine Used Past Year.26+  \\\n",
              "0                                               49   \n",
              "1                                                5   \n",
              "2                                               86   \n",
              "3                                               26   \n",
              "4                                              410   \n",
              "\n",
              "   Rates.Illicit Drugs.Cocaine Used Past Year.12-17  \\\n",
              "0                                          0.016556   \n",
              "1                                          0.024400   \n",
              "2                                          0.032411   \n",
              "3                                          0.018643   \n",
              "4                                          0.016995   \n",
              "\n",
              "   Rates.Illicit Drugs.Cocaine Used Past Year.18-25  \\\n",
              "0                                          0.054892   \n",
              "1                                          0.083680   \n",
              "2                                          0.085300   \n",
              "3                                          0.060500   \n",
              "4                                          0.066052   \n",
              "\n",
              "   Rates.Illicit Drugs.Cocaine Used Past Year.26+  \\\n",
              "0                                        0.017513   \n",
              "1                                        0.013838   \n",
              "2                                        0.025683   \n",
              "3                                        0.015187   \n",
              "4                                        0.019184   \n",
              "\n",
              "   Totals.Marijuana.New Users.12-17  Totals.Marijuana.New Users.18-25  \\\n",
              "0                                20                                18   \n",
              "1                                 4                                 2   \n",
              "2                                25                                18   \n",
              "3                                13                                10   \n",
              "4                               158                               126   \n",
              "\n",
              "   Totals.Marijuana.New Users.26+  Rates.Marijuana.New Users.12-17  \\\n",
              "0                               2                         0.059732   \n",
              "1                               0                         0.077736   \n",
              "2                               3                         0.064179   \n",
              "3                               1                         0.066710   \n",
              "4                              17                         0.058786   \n",
              "\n",
              "   Rates.Marijuana.New Users.18-25  Rates.Marijuana.New Users.26+  \\\n",
              "0                         0.062325                       0.000914   \n",
              "1                         0.084250                       0.001625   \n",
              "2                         0.060101                       0.001364   \n",
              "3                         0.071089                       0.000991   \n",
              "4                         0.062674                       0.001437   \n",
              "\n",
              "   Totals.Marijuana.Used Past Month.12-17  \\\n",
              "0                                      24   \n",
              "1                                       8   \n",
              "2                                      38   \n",
              "3                                      19   \n",
              "4                                     241   \n",
              "\n",
              "   Totals.Marijuana.Used Past Month.18-25  \\\n",
              "0                                      62   \n",
              "1                                      15   \n",
              "2                                      91   \n",
              "3                                      50   \n",
              "4                                     631   \n",
              "\n",
              "   Totals.Marijuana.Used Past Month.26+  \\\n",
              "0                                    73   \n",
              "1                                    26   \n",
              "2                                   122   \n",
              "3                                    57   \n",
              "4                                   978   \n",
              "\n",
              "   Rates.Marijuana.Used Past Month.12-17  \\\n",
              "0                               0.063662   \n",
              "1                               0.110781   \n",
              "2                               0.077371   \n",
              "3                               0.079670   \n",
              "4                               0.076595   \n",
              "\n",
              "   Rates.Marijuana.Used Past Month.18-25  Rates.Marijuana.Used Past Month.26+  \\\n",
              "0                               0.124672                             0.025967   \n",
              "1                               0.239907                             0.071362   \n",
              "2                               0.151780                             0.036657   \n",
              "3                               0.164807                             0.033891   \n",
              "4                               0.160916                             0.045736   \n",
              "\n",
              "   Totals.Marijuana.Used Past Year.12-17  \\\n",
              "0                                     49   \n",
              "1                                     13   \n",
              "2                                     82   \n",
              "3                                     37   \n",
              "4                                    443   \n",
              "\n",
              "   Totals.Marijuana.Used Past Year.18-25  Totals.Marijuana.Used Past Year.26+  \\\n",
              "0                                    119                                  141   \n",
              "1                                     24                                   46   \n",
              "2                                    166                                  215   \n",
              "3                                     87                                  104   \n",
              "4                                   1109                                 1670   \n",
              "\n",
              "   Rates.Marijuana.Used Past Year.12-17  Rates.Marijuana.Used Past Year.18-25  \\\n",
              "0                              0.127535                              0.237880   \n",
              "1                              0.188730                              0.389026   \n",
              "2                              0.169646                              0.275435   \n",
              "3                              0.157567                              0.288856   \n",
              "4                              0.141067                              0.282887   \n",
              "\n",
              "   Rates.Marijuana.Used Past Year.26+  Totals.Tobacco.Use Past Month.12-17  \\\n",
              "0                            0.050275                                   63   \n",
              "1                            0.124566                                   11   \n",
              "2                            0.064640                                   73   \n",
              "3                            0.061510                                   46   \n",
              "4                            0.078068                                  290   \n",
              "\n",
              "   Totals.Tobacco.Use Past Month.18-25  Totals.Tobacco.Use Past Month.26+  \\\n",
              "0                                  226                                930   \n",
              "1                                   30                                112   \n",
              "2                                  240                               1032   \n",
              "3                                  169                                660   \n",
              "4                                 1377                               4721   \n",
              "\n",
              "   Rates.Tobacco.Use Past Month.12-17  Rates.Tobacco.Use Past Month.18-25  \\\n",
              "0                            0.166578                            0.451976   \n",
              "1                            0.163918                            0.484270   \n",
              "2                            0.151071                            0.397968   \n",
              "3                            0.195714                            0.558846   \n",
              "4                            0.092235                            0.351353   \n",
              "\n",
              "   Rates.Tobacco.Use Past Month.26+  \n",
              "0                          0.330659  \n",
              "1                          0.304220  \n",
              "2                          0.309969  \n",
              "3                          0.391210  \n",
              "4                          0.220699  "
            ],
            "text/html": [
              "\n",
              "  <div id=\"df-53125ab3-ce7b-4c27-8c35-9b2fb9514aed\">\n",
              "    <div class=\"colab-df-container\">\n",
              "      <div>\n",
              "<style scoped>\n",
              "    .dataframe tbody tr th:only-of-type {\n",
              "        vertical-align: middle;\n",
              "    }\n",
              "\n",
              "    .dataframe tbody tr th {\n",
              "        vertical-align: top;\n",
              "    }\n",
              "\n",
              "    .dataframe thead th {\n",
              "        text-align: right;\n",
              "    }\n",
              "</style>\n",
              "<table border=\"1\" class=\"dataframe\">\n",
              "  <thead>\n",
              "    <tr style=\"text-align: right;\">\n",
              "      <th></th>\n",
              "      <th>State</th>\n",
              "      <th>Year</th>\n",
              "      <th>Population.12-17</th>\n",
              "      <th>Population.18-25</th>\n",
              "      <th>Population.26+</th>\n",
              "      <th>Totals.Alcohol.Use Disorder Past Year.12-17</th>\n",
              "      <th>Totals.Alcohol.Use Disorder Past Year.18-25</th>\n",
              "      <th>Totals.Alcohol.Use Disorder Past Year.26+</th>\n",
              "      <th>Rates.Alcohol.Use Disorder Past Year.12-17</th>\n",
              "      <th>Rates.Alcohol.Use Disorder Past Year.18-25</th>\n",
              "      <th>Rates.Alcohol.Use Disorder Past Year.26+</th>\n",
              "      <th>Totals.Alcohol.Use Past Month.12-17</th>\n",
              "      <th>Totals.Alcohol.Use Past Month.18-25</th>\n",
              "      <th>Totals.Alcohol.Use Past Month.26+</th>\n",
              "      <th>Rates.Alcohol.Use Past Month.12-17</th>\n",
              "      <th>Rates.Alcohol.Use Past Month.18-25</th>\n",
              "      <th>Rates.Alcohol.Use Past Month.26+</th>\n",
              "      <th>Totals.Tobacco.Cigarette Past Month.12-17</th>\n",
              "      <th>Totals.Tobacco.Cigarette Past Month.18-25</th>\n",
              "      <th>Totals.Tobacco.Cigarette Past Month.26+</th>\n",
              "      <th>Rates.Tobacco.Cigarette Past Month.12-17</th>\n",
              "      <th>Rates.Tobacco.Cigarette Past Month.18-25</th>\n",
              "      <th>Rates.Tobacco.Cigarette Past Month.26+</th>\n",
              "      <th>Totals.Illicit Drugs.Cocaine Used Past Year.12-17</th>\n",
              "      <th>Totals.Illicit Drugs.Cocaine Used Past Year.18-25</th>\n",
              "      <th>Totals.Illicit Drugs.Cocaine Used Past Year.26+</th>\n",
              "      <th>Rates.Illicit Drugs.Cocaine Used Past Year.12-17</th>\n",
              "      <th>Rates.Illicit Drugs.Cocaine Used Past Year.18-25</th>\n",
              "      <th>Rates.Illicit Drugs.Cocaine Used Past Year.26+</th>\n",
              "      <th>Totals.Marijuana.New Users.12-17</th>\n",
              "      <th>Totals.Marijuana.New Users.18-25</th>\n",
              "      <th>Totals.Marijuana.New Users.26+</th>\n",
              "      <th>Rates.Marijuana.New Users.12-17</th>\n",
              "      <th>Rates.Marijuana.New Users.18-25</th>\n",
              "      <th>Rates.Marijuana.New Users.26+</th>\n",
              "      <th>Totals.Marijuana.Used Past Month.12-17</th>\n",
              "      <th>Totals.Marijuana.Used Past Month.18-25</th>\n",
              "      <th>Totals.Marijuana.Used Past Month.26+</th>\n",
              "      <th>Rates.Marijuana.Used Past Month.12-17</th>\n",
              "      <th>Rates.Marijuana.Used Past Month.18-25</th>\n",
              "      <th>Rates.Marijuana.Used Past Month.26+</th>\n",
              "      <th>Totals.Marijuana.Used Past Year.12-17</th>\n",
              "      <th>Totals.Marijuana.Used Past Year.18-25</th>\n",
              "      <th>Totals.Marijuana.Used Past Year.26+</th>\n",
              "      <th>Rates.Marijuana.Used Past Year.12-17</th>\n",
              "      <th>Rates.Marijuana.Used Past Year.18-25</th>\n",
              "      <th>Rates.Marijuana.Used Past Year.26+</th>\n",
              "      <th>Totals.Tobacco.Use Past Month.12-17</th>\n",
              "      <th>Totals.Tobacco.Use Past Month.18-25</th>\n",
              "      <th>Totals.Tobacco.Use Past Month.26+</th>\n",
              "      <th>Rates.Tobacco.Use Past Month.12-17</th>\n",
              "      <th>Rates.Tobacco.Use Past Month.18-25</th>\n",
              "      <th>Rates.Tobacco.Use Past Month.26+</th>\n",
              "    </tr>\n",
              "  </thead>\n",
              "  <tbody>\n",
              "    <tr>\n",
              "      <th>0</th>\n",
              "      <td>Alabama</td>\n",
              "      <td>2002</td>\n",
              "      <td>380805</td>\n",
              "      <td>499453</td>\n",
              "      <td>2812905</td>\n",
              "      <td>18</td>\n",
              "      <td>68</td>\n",
              "      <td>138</td>\n",
              "      <td>0.048336</td>\n",
              "      <td>0.136490</td>\n",
              "      <td>0.049068</td>\n",
              "      <td>57</td>\n",
              "      <td>254</td>\n",
              "      <td>1048</td>\n",
              "      <td>0.150033</td>\n",
              "      <td>0.509551</td>\n",
              "      <td>0.372703</td>\n",
              "      <td>52</td>\n",
              "      <td>196</td>\n",
              "      <td>728</td>\n",
              "      <td>0.136906</td>\n",
              "      <td>0.392404</td>\n",
              "      <td>0.258844</td>\n",
              "      <td>6</td>\n",
              "      <td>27</td>\n",
              "      <td>49</td>\n",
              "      <td>0.016556</td>\n",
              "      <td>0.054892</td>\n",
              "      <td>0.017513</td>\n",
              "      <td>20</td>\n",
              "      <td>18</td>\n",
              "      <td>2</td>\n",
              "      <td>0.059732</td>\n",
              "      <td>0.062325</td>\n",
              "      <td>0.000914</td>\n",
              "      <td>24</td>\n",
              "      <td>62</td>\n",
              "      <td>73</td>\n",
              "      <td>0.063662</td>\n",
              "      <td>0.124672</td>\n",
              "      <td>0.025967</td>\n",
              "      <td>49</td>\n",
              "      <td>119</td>\n",
              "      <td>141</td>\n",
              "      <td>0.127535</td>\n",
              "      <td>0.237880</td>\n",
              "      <td>0.050275</td>\n",
              "      <td>63</td>\n",
              "      <td>226</td>\n",
              "      <td>930</td>\n",
              "      <td>0.166578</td>\n",
              "      <td>0.451976</td>\n",
              "      <td>0.330659</td>\n",
              "    </tr>\n",
              "    <tr>\n",
              "      <th>1</th>\n",
              "      <td>Alaska</td>\n",
              "      <td>2002</td>\n",
              "      <td>69400</td>\n",
              "      <td>62791</td>\n",
              "      <td>368460</td>\n",
              "      <td>4</td>\n",
              "      <td>12</td>\n",
              "      <td>27</td>\n",
              "      <td>0.061479</td>\n",
              "      <td>0.187891</td>\n",
              "      <td>0.073677</td>\n",
              "      <td>11</td>\n",
              "      <td>38</td>\n",
              "      <td>206</td>\n",
              "      <td>0.158988</td>\n",
              "      <td>0.598311</td>\n",
              "      <td>0.559151</td>\n",
              "      <td>9</td>\n",
              "      <td>28</td>\n",
              "      <td>92</td>\n",
              "      <td>0.132517</td>\n",
              "      <td>0.439749</td>\n",
              "      <td>0.249578</td>\n",
              "      <td>2</td>\n",
              "      <td>5</td>\n",
              "      <td>5</td>\n",
              "      <td>0.024400</td>\n",
              "      <td>0.083680</td>\n",
              "      <td>0.013838</td>\n",
              "      <td>4</td>\n",
              "      <td>2</td>\n",
              "      <td>0</td>\n",
              "      <td>0.077736</td>\n",
              "      <td>0.084250</td>\n",
              "      <td>0.001625</td>\n",
              "      <td>8</td>\n",
              "      <td>15</td>\n",
              "      <td>26</td>\n",
              "      <td>0.110781</td>\n",
              "      <td>0.239907</td>\n",
              "      <td>0.071362</td>\n",
              "      <td>13</td>\n",
              "      <td>24</td>\n",
              "      <td>46</td>\n",
              "      <td>0.188730</td>\n",
              "      <td>0.389026</td>\n",
              "      <td>0.124566</td>\n",
              "      <td>11</td>\n",
              "      <td>30</td>\n",
              "      <td>112</td>\n",
              "      <td>0.163918</td>\n",
              "      <td>0.484270</td>\n",
              "      <td>0.304220</td>\n",
              "    </tr>\n",
              "    <tr>\n",
              "      <th>2</th>\n",
              "      <td>Arizona</td>\n",
              "      <td>2002</td>\n",
              "      <td>485521</td>\n",
              "      <td>602265</td>\n",
              "      <td>3329482</td>\n",
              "      <td>36</td>\n",
              "      <td>117</td>\n",
              "      <td>258</td>\n",
              "      <td>0.073819</td>\n",
              "      <td>0.193626</td>\n",
              "      <td>0.077521</td>\n",
              "      <td>91</td>\n",
              "      <td>352</td>\n",
              "      <td>1774</td>\n",
              "      <td>0.186864</td>\n",
              "      <td>0.584521</td>\n",
              "      <td>0.532858</td>\n",
              "      <td>62</td>\n",
              "      <td>234</td>\n",
              "      <td>919</td>\n",
              "      <td>0.128357</td>\n",
              "      <td>0.388473</td>\n",
              "      <td>0.275990</td>\n",
              "      <td>16</td>\n",
              "      <td>51</td>\n",
              "      <td>86</td>\n",
              "      <td>0.032411</td>\n",
              "      <td>0.085300</td>\n",
              "      <td>0.025683</td>\n",
              "      <td>25</td>\n",
              "      <td>18</td>\n",
              "      <td>3</td>\n",
              "      <td>0.064179</td>\n",
              "      <td>0.060101</td>\n",
              "      <td>0.001364</td>\n",
              "      <td>38</td>\n",
              "      <td>91</td>\n",
              "      <td>122</td>\n",
              "      <td>0.077371</td>\n",
              "      <td>0.151780</td>\n",
              "      <td>0.036657</td>\n",
              "      <td>82</td>\n",
              "      <td>166</td>\n",
              "      <td>215</td>\n",
              "      <td>0.169646</td>\n",
              "      <td>0.275435</td>\n",
              "      <td>0.064640</td>\n",
              "      <td>73</td>\n",
              "      <td>240</td>\n",
              "      <td>1032</td>\n",
              "      <td>0.151071</td>\n",
              "      <td>0.397968</td>\n",
              "      <td>0.309969</td>\n",
              "    </tr>\n",
              "    <tr>\n",
              "      <th>3</th>\n",
              "      <td>Arkansas</td>\n",
              "      <td>2002</td>\n",
              "      <td>232986</td>\n",
              "      <td>302029</td>\n",
              "      <td>1687337</td>\n",
              "      <td>14</td>\n",
              "      <td>53</td>\n",
              "      <td>101</td>\n",
              "      <td>0.061457</td>\n",
              "      <td>0.175913</td>\n",
              "      <td>0.059810</td>\n",
              "      <td>39</td>\n",
              "      <td>162</td>\n",
              "      <td>664</td>\n",
              "      <td>0.167065</td>\n",
              "      <td>0.537894</td>\n",
              "      <td>0.393372</td>\n",
              "      <td>37</td>\n",
              "      <td>154</td>\n",
              "      <td>539</td>\n",
              "      <td>0.160479</td>\n",
              "      <td>0.509682</td>\n",
              "      <td>0.319224</td>\n",
              "      <td>4</td>\n",
              "      <td>18</td>\n",
              "      <td>26</td>\n",
              "      <td>0.018643</td>\n",
              "      <td>0.060500</td>\n",
              "      <td>0.015187</td>\n",
              "      <td>13</td>\n",
              "      <td>10</td>\n",
              "      <td>1</td>\n",
              "      <td>0.066710</td>\n",
              "      <td>0.071089</td>\n",
              "      <td>0.000991</td>\n",
              "      <td>19</td>\n",
              "      <td>50</td>\n",
              "      <td>57</td>\n",
              "      <td>0.079670</td>\n",
              "      <td>0.164807</td>\n",
              "      <td>0.033891</td>\n",
              "      <td>37</td>\n",
              "      <td>87</td>\n",
              "      <td>104</td>\n",
              "      <td>0.157567</td>\n",
              "      <td>0.288856</td>\n",
              "      <td>0.061510</td>\n",
              "      <td>46</td>\n",
              "      <td>169</td>\n",
              "      <td>660</td>\n",
              "      <td>0.195714</td>\n",
              "      <td>0.558846</td>\n",
              "      <td>0.391210</td>\n",
              "    </tr>\n",
              "    <tr>\n",
              "      <th>4</th>\n",
              "      <td>California</td>\n",
              "      <td>2002</td>\n",
              "      <td>3140739</td>\n",
              "      <td>3919577</td>\n",
              "      <td>21392421</td>\n",
              "      <td>173</td>\n",
              "      <td>581</td>\n",
              "      <td>1298</td>\n",
              "      <td>0.055109</td>\n",
              "      <td>0.148312</td>\n",
              "      <td>0.060692</td>\n",
              "      <td>480</td>\n",
              "      <td>2176</td>\n",
              "      <td>11847</td>\n",
              "      <td>0.152791</td>\n",
              "      <td>0.555278</td>\n",
              "      <td>0.553801</td>\n",
              "      <td>235</td>\n",
              "      <td>1245</td>\n",
              "      <td>4028</td>\n",
              "      <td>0.074824</td>\n",
              "      <td>0.317661</td>\n",
              "      <td>0.188269</td>\n",
              "      <td>53</td>\n",
              "      <td>259</td>\n",
              "      <td>410</td>\n",
              "      <td>0.016995</td>\n",
              "      <td>0.066052</td>\n",
              "      <td>0.019184</td>\n",
              "      <td>158</td>\n",
              "      <td>126</td>\n",
              "      <td>17</td>\n",
              "      <td>0.058786</td>\n",
              "      <td>0.062674</td>\n",
              "      <td>0.001437</td>\n",
              "      <td>241</td>\n",
              "      <td>631</td>\n",
              "      <td>978</td>\n",
              "      <td>0.076595</td>\n",
              "      <td>0.160916</td>\n",
              "      <td>0.045736</td>\n",
              "      <td>443</td>\n",
              "      <td>1109</td>\n",
              "      <td>1670</td>\n",
              "      <td>0.141067</td>\n",
              "      <td>0.282887</td>\n",
              "      <td>0.078068</td>\n",
              "      <td>290</td>\n",
              "      <td>1377</td>\n",
              "      <td>4721</td>\n",
              "      <td>0.092235</td>\n",
              "      <td>0.351353</td>\n",
              "      <td>0.220699</td>\n",
              "    </tr>\n",
              "  </tbody>\n",
              "</table>\n",
              "</div>\n",
              "      <button class=\"colab-df-convert\" onclick=\"convertToInteractive('df-53125ab3-ce7b-4c27-8c35-9b2fb9514aed')\"\n",
              "              title=\"Convert this dataframe to an interactive table.\"\n",
              "              style=\"display:none;\">\n",
              "        \n",
              "  <svg xmlns=\"http://www.w3.org/2000/svg\" height=\"24px\"viewBox=\"0 0 24 24\"\n",
              "       width=\"24px\">\n",
              "    <path d=\"M0 0h24v24H0V0z\" fill=\"none\"/>\n",
              "    <path d=\"M18.56 5.44l.94 2.06.94-2.06 2.06-.94-2.06-.94-.94-2.06-.94 2.06-2.06.94zm-11 1L8.5 8.5l.94-2.06 2.06-.94-2.06-.94L8.5 2.5l-.94 2.06-2.06.94zm10 10l.94 2.06.94-2.06 2.06-.94-2.06-.94-.94-2.06-.94 2.06-2.06.94z\"/><path d=\"M17.41 7.96l-1.37-1.37c-.4-.4-.92-.59-1.43-.59-.52 0-1.04.2-1.43.59L10.3 9.45l-7.72 7.72c-.78.78-.78 2.05 0 2.83L4 21.41c.39.39.9.59 1.41.59.51 0 1.02-.2 1.41-.59l7.78-7.78 2.81-2.81c.8-.78.8-2.07 0-2.86zM5.41 20L4 18.59l7.72-7.72 1.47 1.35L5.41 20z\"/>\n",
              "  </svg>\n",
              "      </button>\n",
              "      \n",
              "  <style>\n",
              "    .colab-df-container {\n",
              "      display:flex;\n",
              "      flex-wrap:wrap;\n",
              "      gap: 12px;\n",
              "    }\n",
              "\n",
              "    .colab-df-convert {\n",
              "      background-color: #E8F0FE;\n",
              "      border: none;\n",
              "      border-radius: 50%;\n",
              "      cursor: pointer;\n",
              "      display: none;\n",
              "      fill: #1967D2;\n",
              "      height: 32px;\n",
              "      padding: 0 0 0 0;\n",
              "      width: 32px;\n",
              "    }\n",
              "\n",
              "    .colab-df-convert:hover {\n",
              "      background-color: #E2EBFA;\n",
              "      box-shadow: 0px 1px 2px rgba(60, 64, 67, 0.3), 0px 1px 3px 1px rgba(60, 64, 67, 0.15);\n",
              "      fill: #174EA6;\n",
              "    }\n",
              "\n",
              "    [theme=dark] .colab-df-convert {\n",
              "      background-color: #3B4455;\n",
              "      fill: #D2E3FC;\n",
              "    }\n",
              "\n",
              "    [theme=dark] .colab-df-convert:hover {\n",
              "      background-color: #434B5C;\n",
              "      box-shadow: 0px 1px 3px 1px rgba(0, 0, 0, 0.15);\n",
              "      filter: drop-shadow(0px 1px 2px rgba(0, 0, 0, 0.3));\n",
              "      fill: #FFFFFF;\n",
              "    }\n",
              "  </style>\n",
              "\n",
              "      <script>\n",
              "        const buttonEl =\n",
              "          document.querySelector('#df-53125ab3-ce7b-4c27-8c35-9b2fb9514aed button.colab-df-convert');\n",
              "        buttonEl.style.display =\n",
              "          google.colab.kernel.accessAllowed ? 'block' : 'none';\n",
              "\n",
              "        async function convertToInteractive(key) {\n",
              "          const element = document.querySelector('#df-53125ab3-ce7b-4c27-8c35-9b2fb9514aed');\n",
              "          const dataTable =\n",
              "            await google.colab.kernel.invokeFunction('convertToInteractive',\n",
              "                                                     [key], {});\n",
              "          if (!dataTable) return;\n",
              "\n",
              "          const docLinkHtml = 'Like what you see? Visit the ' +\n",
              "            '<a target=\"_blank\" href=https://colab.research.google.com/notebooks/data_table.ipynb>data table notebook</a>'\n",
              "            + ' to learn more about interactive tables.';\n",
              "          element.innerHTML = '';\n",
              "          dataTable['output_type'] = 'display_data';\n",
              "          await google.colab.output.renderOutput(dataTable, element);\n",
              "          const docLink = document.createElement('div');\n",
              "          docLink.innerHTML = docLinkHtml;\n",
              "          element.appendChild(docLink);\n",
              "        }\n",
              "      </script>\n",
              "    </div>\n",
              "  </div>\n",
              "  "
            ]
          },
          "metadata": {},
          "execution_count": 4
        }
      ]
    },
    {
      "cell_type": "code",
      "source": [
        "#867 rows, 53 columns\n",
        "raw_df.shape"
      ],
      "metadata": {
        "colab": {
          "base_uri": "https://localhost:8080/"
        },
        "id": "8_5UJYpsbOH_",
        "outputId": "96755792-208b-4a25-b0b7-f585aa93f670"
      },
      "execution_count": null,
      "outputs": [
        {
          "output_type": "execute_result",
          "data": {
            "text/plain": [
              "(867, 53)"
            ]
          },
          "metadata": {},
          "execution_count": 5
        }
      ]
    },
    {
      "cell_type": "markdown",
      "source": [
        "## Data processing\n",
        "\n",
        "In our data processing steps, we look for any null values and summarize our data before creating our exploratory plots. \n"
      ],
      "metadata": {
        "id": "E9AfQAjKVnwa"
      }
    },
    {
      "cell_type": "markdown",
      "source": [
        "We first check for any null values in our data set. Since there are no nulls found in the data set, we are able to use all the data points. This most likely indicates that the data has been pre-processed or already cleaned out. "
      ],
      "metadata": {
        "id": "KOgidGHpZNYe"
      }
    },
    {
      "cell_type": "code",
      "source": [
        "#checking for nulls, we find that there are no null values in the data set\n",
        "print((raw_df.isnull()).sum())"
      ],
      "metadata": {
        "colab": {
          "base_uri": "https://localhost:8080/"
        },
        "id": "WGra-YuUsy_h",
        "outputId": "b191860c-1a5e-4f2e-bec1-c34c818c4800"
      },
      "execution_count": null,
      "outputs": [
        {
          "output_type": "stream",
          "name": "stdout",
          "text": [
            "State                                                0\n",
            "Year                                                 0\n",
            "Population.12-17                                     0\n",
            "Population.18-25                                     0\n",
            "Population.26+                                       0\n",
            "Totals.Alcohol.Use Disorder Past Year.12-17          0\n",
            "Totals.Alcohol.Use Disorder Past Year.18-25          0\n",
            "Totals.Alcohol.Use Disorder Past Year.26+            0\n",
            "Rates.Alcohol.Use Disorder Past Year.12-17           0\n",
            "Rates.Alcohol.Use Disorder Past Year.18-25           0\n",
            "Rates.Alcohol.Use Disorder Past Year.26+             0\n",
            "Totals.Alcohol.Use Past Month.12-17                  0\n",
            "Totals.Alcohol.Use Past Month.18-25                  0\n",
            "Totals.Alcohol.Use Past Month.26+                    0\n",
            "Rates.Alcohol.Use Past Month.12-17                   0\n",
            "Rates.Alcohol.Use Past Month.18-25                   0\n",
            "Rates.Alcohol.Use Past Month.26+                     0\n",
            "Totals.Tobacco.Cigarette Past Month.12-17            0\n",
            "Totals.Tobacco.Cigarette Past Month.18-25            0\n",
            "Totals.Tobacco.Cigarette Past Month.26+              0\n",
            "Rates.Tobacco.Cigarette Past Month.12-17             0\n",
            "Rates.Tobacco.Cigarette Past Month.18-25             0\n",
            "Rates.Tobacco.Cigarette Past Month.26+               0\n",
            "Totals.Illicit Drugs.Cocaine Used Past Year.12-17    0\n",
            "Totals.Illicit Drugs.Cocaine Used Past Year.18-25    0\n",
            "Totals.Illicit Drugs.Cocaine Used Past Year.26+      0\n",
            "Rates.Illicit Drugs.Cocaine Used Past Year.12-17     0\n",
            "Rates.Illicit Drugs.Cocaine Used Past Year.18-25     0\n",
            "Rates.Illicit Drugs.Cocaine Used Past Year.26+       0\n",
            "Totals.Marijuana.New Users.12-17                     0\n",
            "Totals.Marijuana.New Users.18-25                     0\n",
            "Totals.Marijuana.New Users.26+                       0\n",
            "Rates.Marijuana.New Users.12-17                      0\n",
            "Rates.Marijuana.New Users.18-25                      0\n",
            "Rates.Marijuana.New Users.26+                        0\n",
            "Totals.Marijuana.Used Past Month.12-17               0\n",
            "Totals.Marijuana.Used Past Month.18-25               0\n",
            "Totals.Marijuana.Used Past Month.26+                 0\n",
            "Rates.Marijuana.Used Past Month.12-17                0\n",
            "Rates.Marijuana.Used Past Month.18-25                0\n",
            "Rates.Marijuana.Used Past Month.26+                  0\n",
            "Totals.Marijuana.Used Past Year.12-17                0\n",
            "Totals.Marijuana.Used Past Year.18-25                0\n",
            "Totals.Marijuana.Used Past Year.26+                  0\n",
            "Rates.Marijuana.Used Past Year.12-17                 0\n",
            "Rates.Marijuana.Used Past Year.18-25                 0\n",
            "Rates.Marijuana.Used Past Year.26+                   0\n",
            "Totals.Tobacco.Use Past Month.12-17                  0\n",
            "Totals.Tobacco.Use Past Month.18-25                  0\n",
            "Totals.Tobacco.Use Past Month.26+                    0\n",
            "Rates.Tobacco.Use Past Month.12-17                   0\n",
            "Rates.Tobacco.Use Past Month.18-25                   0\n",
            "Rates.Tobacco.Use Past Month.26+                     0\n",
            "dtype: int64\n"
          ]
        }
      ]
    },
    {
      "cell_type": "markdown",
      "source": [
        "Since the unit of analysis is at the state level, we want to see the distribution of data points over the states in our data set. For each state, we observe that were 17 associated data points with consumption for each year. "
      ],
      "metadata": {
        "id": "iO4KsWu1Zru1"
      }
    },
    {
      "cell_type": "code",
      "source": [
        "raw_df['State'].value_counts()"
      ],
      "metadata": {
        "colab": {
          "base_uri": "https://localhost:8080/"
        },
        "id": "UPvGN8tSZmVH",
        "outputId": "92701cce-cb48-4a0e-fcc1-8afd85bc7040"
      },
      "execution_count": null,
      "outputs": [
        {
          "output_type": "execute_result",
          "data": {
            "text/plain": [
              "Alabama                 17\n",
              "Pennsylvania            17\n",
              "Nevada                  17\n",
              "New Hampshire           17\n",
              "New Jersey              17\n",
              "New Mexico              17\n",
              "New York                17\n",
              "North Carolina          17\n",
              "North Dakota            17\n",
              "Ohio                    17\n",
              "Oklahoma                17\n",
              "Oregon                  17\n",
              "Rhode Island            17\n",
              "Montana                 17\n",
              "South Carolina          17\n",
              "South Dakota            17\n",
              "Tennessee               17\n",
              "Texas                   17\n",
              "Utah                    17\n",
              "Vermont                 17\n",
              "Virginia                17\n",
              "Washington              17\n",
              "West Virginia           17\n",
              "Wisconsin               17\n",
              "Nebraska                17\n",
              "Missouri                17\n",
              "Alaska                  17\n",
              "Idaho                   17\n",
              "Arizona                 17\n",
              "Arkansas                17\n",
              "California              17\n",
              "Colorado                17\n",
              "Connecticut             17\n",
              "Delaware                17\n",
              "District of Columbia    17\n",
              "Florida                 17\n",
              "Georgia                 17\n",
              "Hawaii                  17\n",
              "Illinois                17\n",
              "Mississippi             17\n",
              "Indiana                 17\n",
              "Iowa                    17\n",
              "Kansas                  17\n",
              "Kentucky                17\n",
              "Louisiana               17\n",
              "Maine                   17\n",
              "Maryland                17\n",
              "Massachusetts           17\n",
              "Michigan                17\n",
              "Minnesota               17\n",
              "Wyoming                 17\n",
              "Name: State, dtype: int64"
            ]
          },
          "metadata": {},
          "execution_count": 7
        }
      ]
    },
    {
      "cell_type": "markdown",
      "source": [
        "In order to do our analysis, a regression model on 17 data points may introduce some bias with the low amount of data. Thus for our model, we wanted to create a data set that maximized the amount of data points. To do this, we consider grouping several states together that all legalized marijuana in a certain year so as to expand our data set for the modeling.\n",
        "\n",
        "In order to use as many data points as possible, we decided to use the four states (California, Nevada, Maine, Massachusetts) with a 2016 legalization date to have a uniform treatment cut off.  "
      ],
      "metadata": {
        "id": "BIiugFYZaAu3"
      }
    },
    {
      "cell_type": "code",
      "source": [
        "#select the four states\n",
        "states = raw_df[(raw_df['State'] == 'California') | (raw_df['State'] == 'Nevada') | (raw_df['State'] == 'Maine') | (raw_df['State'] == 'Massachusetts')]\n",
        "states.head()"
      ],
      "metadata": {
        "colab": {
          "base_uri": "https://localhost:8080/",
          "height": 322
        },
        "id": "9x_VGPgDsven",
        "outputId": "f839940f-65bc-46c9-ef1e-532c3a8d74f3"
      },
      "execution_count": null,
      "outputs": [
        {
          "output_type": "execute_result",
          "data": {
            "text/plain": [
              "            State  Year  Population.12-17  Population.18-25  Population.26+  \\\n",
              "4      California  2002           3140739           3919577        21392421   \n",
              "19          Maine  2002            108861            130511          869560   \n",
              "21  Massachusetts  2002            508325            672543         4201348   \n",
              "28         Nevada  2002            184670            215631         1379759   \n",
              "55     California  2003           3209345           3949889        21686129   \n",
              "\n",
              "    Totals.Alcohol.Use Disorder Past Year.12-17  \\\n",
              "4                                           173   \n",
              "19                                            6   \n",
              "21                                           37   \n",
              "28                                           13   \n",
              "55                                          204   \n",
              "\n",
              "    Totals.Alcohol.Use Disorder Past Year.18-25  \\\n",
              "4                                           581   \n",
              "19                                           24   \n",
              "21                                          124   \n",
              "28                                           35   \n",
              "55                                          655   \n",
              "\n",
              "    Totals.Alcohol.Use Disorder Past Year.26+  \\\n",
              "4                                        1298   \n",
              "19                                         51   \n",
              "21                                        301   \n",
              "28                                         95   \n",
              "55                                       1336   \n",
              "\n",
              "    Rates.Alcohol.Use Disorder Past Year.12-17  \\\n",
              "4                                     0.055109   \n",
              "19                                    0.055913   \n",
              "21                                    0.073531   \n",
              "28                                    0.069304   \n",
              "55                                    0.063632   \n",
              "\n",
              "    Rates.Alcohol.Use Disorder Past Year.18-25  \\\n",
              "4                                     0.148312   \n",
              "19                                    0.182557   \n",
              "21                                    0.184677   \n",
              "28                                    0.161861   \n",
              "55                                    0.165861   \n",
              "\n",
              "    Rates.Alcohol.Use Disorder Past Year.26+  \\\n",
              "4                                   0.060692   \n",
              "19                                  0.058813   \n",
              "21                                  0.071758   \n",
              "28                                  0.068760   \n",
              "55                                  0.061590   \n",
              "\n",
              "    Totals.Alcohol.Use Past Month.12-17  Totals.Alcohol.Use Past Month.18-25  \\\n",
              "4                                   480                                 2176   \n",
              "19                                   18                                   87   \n",
              "21                                  107                                  464   \n",
              "28                                   34                                  122   \n",
              "55                                  540                                 2206   \n",
              "\n",
              "    Totals.Alcohol.Use Past Month.26+  Rates.Alcohol.Use Past Month.12-17  \\\n",
              "4                               11847                            0.152791   \n",
              "19                                473                            0.165458   \n",
              "21                               2637                            0.210427   \n",
              "28                                747                            0.183959   \n",
              "55                              11848                            0.168149   \n",
              "\n",
              "    Rates.Alcohol.Use Past Month.18-25  Rates.Alcohol.Use Past Month.26+  \\\n",
              "4                             0.555278                          0.553801   \n",
              "19                            0.667566                          0.544405   \n",
              "21                            0.689414                          0.627540   \n",
              "28                            0.563721                          0.541201   \n",
              "55                            0.558465                          0.546340   \n",
              "\n",
              "    Totals.Tobacco.Cigarette Past Month.12-17  \\\n",
              "4                                         235   \n",
              "19                                         13   \n",
              "21                                         59   \n",
              "28                                         24   \n",
              "55                                        279   \n",
              "\n",
              "    Totals.Tobacco.Cigarette Past Month.18-25  \\\n",
              "4                                        1245   \n",
              "19                                         57   \n",
              "21                                        258   \n",
              "28                                         78   \n",
              "55                                       1241   \n",
              "\n",
              "    Totals.Tobacco.Cigarette Past Month.26+  \\\n",
              "4                                      4028   \n",
              "19                                      227   \n",
              "21                                      889   \n",
              "28                                      441   \n",
              "55                                     3621   \n",
              "\n",
              "    Rates.Tobacco.Cigarette Past Month.12-17  \\\n",
              "4                                   0.074824   \n",
              "19                                  0.121629   \n",
              "21                                  0.116936   \n",
              "28                                  0.127314   \n",
              "55                                  0.086938   \n",
              "\n",
              "    Rates.Tobacco.Cigarette Past Month.18-25  \\\n",
              "4                                   0.317661   \n",
              "19                                  0.438887   \n",
              "21                                  0.383966   \n",
              "28                                  0.364012   \n",
              "55                                  0.314248   \n",
              "\n",
              "    Rates.Tobacco.Cigarette Past Month.26+  \\\n",
              "4                                 0.188269   \n",
              "19                                0.260988   \n",
              "21                                0.211581   \n",
              "28                                0.319471   \n",
              "55                                0.166954   \n",
              "\n",
              "    Totals.Illicit Drugs.Cocaine Used Past Year.12-17  \\\n",
              "4                                                  53   \n",
              "19                                                  2   \n",
              "21                                                 10   \n",
              "28                                                  4   \n",
              "55                                                 52   \n",
              "\n",
              "    Totals.Illicit Drugs.Cocaine Used Past Year.18-25  \\\n",
              "4                                                 259   \n",
              "19                                                 11   \n",
              "21                                                 53   \n",
              "28                                                 16   \n",
              "55                                                267   \n",
              "\n",
              "    Totals.Illicit Drugs.Cocaine Used Past Year.26+  \\\n",
              "4                                               410   \n",
              "19                                               13   \n",
              "21                                               90   \n",
              "28                                               23   \n",
              "55                                              417   \n",
              "\n",
              "    Rates.Illicit Drugs.Cocaine Used Past Year.12-17  \\\n",
              "4                                           0.016995   \n",
              "19                                          0.021845   \n",
              "21                                          0.020544   \n",
              "28                                          0.019736   \n",
              "55                                          0.016061   \n",
              "\n",
              "    Rates.Illicit Drugs.Cocaine Used Past Year.18-25  \\\n",
              "4                                           0.066052   \n",
              "19                                          0.080460   \n",
              "21                                          0.078830   \n",
              "28                                          0.073462   \n",
              "55                                          0.067505   \n",
              "\n",
              "    Rates.Illicit Drugs.Cocaine Used Past Year.26+  \\\n",
              "4                                         0.019184   \n",
              "19                                        0.014597   \n",
              "21                                        0.021372   \n",
              "28                                        0.016556   \n",
              "55                                        0.019236   \n",
              "\n",
              "    Totals.Marijuana.New Users.12-17  Totals.Marijuana.New Users.18-25  \\\n",
              "4                                158                               126   \n",
              "19                                 8                                 5   \n",
              "21                                31                                22   \n",
              "28                                12                                 6   \n",
              "55                               169                               139   \n",
              "\n",
              "    Totals.Marijuana.New Users.26+  Rates.Marijuana.New Users.12-17  \\\n",
              "4                               17                         0.058786   \n",
              "19                               1                         0.083056   \n",
              "21                               3                         0.077447   \n",
              "28                               1                         0.084232   \n",
              "55                              13                         0.061018   \n",
              "\n",
              "    Rates.Marijuana.New Users.18-25  Rates.Marijuana.New Users.26+  \\\n",
              "4                          0.062674                       0.001437   \n",
              "19                         0.103520                       0.001254   \n",
              "21                         0.081665                       0.001578   \n",
              "28                         0.060780                       0.001509   \n",
              "55                         0.066741                       0.001087   \n",
              "\n",
              "    Totals.Marijuana.Used Past Month.12-17  \\\n",
              "4                                      241   \n",
              "19                                      11   \n",
              "21                                      54   \n",
              "28                                      18   \n",
              "55                                     273   \n",
              "\n",
              "    Totals.Marijuana.Used Past Month.18-25  \\\n",
              "4                                      631   \n",
              "19                                      30   \n",
              "21                                     165   \n",
              "28                                      39   \n",
              "55                                     641   \n",
              "\n",
              "    Totals.Marijuana.Used Past Month.26+  \\\n",
              "4                                    978   \n",
              "19                                    46   \n",
              "21                                   201   \n",
              "28                                    78   \n",
              "55                                  1019   \n",
              "\n",
              "    Rates.Marijuana.Used Past Month.12-17  \\\n",
              "4                                0.076595   \n",
              "19                               0.105597   \n",
              "21                               0.105302   \n",
              "28                               0.095757   \n",
              "55                               0.085160   \n",
              "\n",
              "    Rates.Marijuana.Used Past Month.18-25  \\\n",
              "4                                0.160916   \n",
              "19                               0.232175   \n",
              "21                               0.245414   \n",
              "28                               0.182867   \n",
              "55                               0.162333   \n",
              "\n",
              "    Rates.Marijuana.Used Past Month.26+  \\\n",
              "4                              0.045736   \n",
              "19                             0.053340   \n",
              "21                             0.047945   \n",
              "28                             0.056828   \n",
              "55                             0.046980   \n",
              "\n",
              "    Totals.Marijuana.Used Past Year.12-17  \\\n",
              "4                                     443   \n",
              "19                                     20   \n",
              "21                                    102   \n",
              "28                                     36   \n",
              "55                                    469   \n",
              "\n",
              "    Totals.Marijuana.Used Past Year.18-25  \\\n",
              "4                                    1109   \n",
              "19                                     49   \n",
              "21                                    257   \n",
              "28                                     63   \n",
              "55                                   1099   \n",
              "\n",
              "    Totals.Marijuana.Used Past Year.26+  Rates.Marijuana.Used Past Year.12-17  \\\n",
              "4                                  1670                              0.141067   \n",
              "19                                   68                              0.187569   \n",
              "21                                  472                              0.201511   \n",
              "28                                  115                              0.196742   \n",
              "55                                 1625                              0.146025   \n",
              "\n",
              "    Rates.Marijuana.Used Past Year.18-25  Rates.Marijuana.Used Past Year.26+  \\\n",
              "4                               0.282887                            0.078068   \n",
              "19                              0.373413                            0.077963   \n",
              "21                              0.381879                            0.112412   \n",
              "28                              0.290153                            0.083078   \n",
              "55                              0.278214                            0.074923   \n",
              "\n",
              "    Totals.Tobacco.Use Past Month.12-17  Totals.Tobacco.Use Past Month.18-25  \\\n",
              "4                                   290                                 1377   \n",
              "19                                   15                                   66   \n",
              "21                                   73                                  286   \n",
              "28                                   28                                   91   \n",
              "55                                  349                                 1380   \n",
              "\n",
              "    Totals.Tobacco.Use Past Month.26+  Rates.Tobacco.Use Past Month.12-17  \\\n",
              "4                                4721                            0.092235   \n",
              "19                                267                            0.135548   \n",
              "21                               1045                            0.143674   \n",
              "28                                503                            0.153051   \n",
              "55                               4238                            0.108760   \n",
              "\n",
              "    Rates.Tobacco.Use Past Month.18-25  Rates.Tobacco.Use Past Month.26+  \n",
              "4                             0.351353                          0.220699  \n",
              "19                            0.504427                          0.306937  \n",
              "21                            0.425295                          0.248799  \n",
              "28                            0.423759                          0.364718  \n",
              "55                            0.349357                          0.195433  "
            ],
            "text/html": [
              "\n",
              "  <div id=\"df-e5e39285-2837-4845-8115-ad7286016ff0\">\n",
              "    <div class=\"colab-df-container\">\n",
              "      <div>\n",
              "<style scoped>\n",
              "    .dataframe tbody tr th:only-of-type {\n",
              "        vertical-align: middle;\n",
              "    }\n",
              "\n",
              "    .dataframe tbody tr th {\n",
              "        vertical-align: top;\n",
              "    }\n",
              "\n",
              "    .dataframe thead th {\n",
              "        text-align: right;\n",
              "    }\n",
              "</style>\n",
              "<table border=\"1\" class=\"dataframe\">\n",
              "  <thead>\n",
              "    <tr style=\"text-align: right;\">\n",
              "      <th></th>\n",
              "      <th>State</th>\n",
              "      <th>Year</th>\n",
              "      <th>Population.12-17</th>\n",
              "      <th>Population.18-25</th>\n",
              "      <th>Population.26+</th>\n",
              "      <th>Totals.Alcohol.Use Disorder Past Year.12-17</th>\n",
              "      <th>Totals.Alcohol.Use Disorder Past Year.18-25</th>\n",
              "      <th>Totals.Alcohol.Use Disorder Past Year.26+</th>\n",
              "      <th>Rates.Alcohol.Use Disorder Past Year.12-17</th>\n",
              "      <th>Rates.Alcohol.Use Disorder Past Year.18-25</th>\n",
              "      <th>Rates.Alcohol.Use Disorder Past Year.26+</th>\n",
              "      <th>Totals.Alcohol.Use Past Month.12-17</th>\n",
              "      <th>Totals.Alcohol.Use Past Month.18-25</th>\n",
              "      <th>Totals.Alcohol.Use Past Month.26+</th>\n",
              "      <th>Rates.Alcohol.Use Past Month.12-17</th>\n",
              "      <th>Rates.Alcohol.Use Past Month.18-25</th>\n",
              "      <th>Rates.Alcohol.Use Past Month.26+</th>\n",
              "      <th>Totals.Tobacco.Cigarette Past Month.12-17</th>\n",
              "      <th>Totals.Tobacco.Cigarette Past Month.18-25</th>\n",
              "      <th>Totals.Tobacco.Cigarette Past Month.26+</th>\n",
              "      <th>Rates.Tobacco.Cigarette Past Month.12-17</th>\n",
              "      <th>Rates.Tobacco.Cigarette Past Month.18-25</th>\n",
              "      <th>Rates.Tobacco.Cigarette Past Month.26+</th>\n",
              "      <th>Totals.Illicit Drugs.Cocaine Used Past Year.12-17</th>\n",
              "      <th>Totals.Illicit Drugs.Cocaine Used Past Year.18-25</th>\n",
              "      <th>Totals.Illicit Drugs.Cocaine Used Past Year.26+</th>\n",
              "      <th>Rates.Illicit Drugs.Cocaine Used Past Year.12-17</th>\n",
              "      <th>Rates.Illicit Drugs.Cocaine Used Past Year.18-25</th>\n",
              "      <th>Rates.Illicit Drugs.Cocaine Used Past Year.26+</th>\n",
              "      <th>Totals.Marijuana.New Users.12-17</th>\n",
              "      <th>Totals.Marijuana.New Users.18-25</th>\n",
              "      <th>Totals.Marijuana.New Users.26+</th>\n",
              "      <th>Rates.Marijuana.New Users.12-17</th>\n",
              "      <th>Rates.Marijuana.New Users.18-25</th>\n",
              "      <th>Rates.Marijuana.New Users.26+</th>\n",
              "      <th>Totals.Marijuana.Used Past Month.12-17</th>\n",
              "      <th>Totals.Marijuana.Used Past Month.18-25</th>\n",
              "      <th>Totals.Marijuana.Used Past Month.26+</th>\n",
              "      <th>Rates.Marijuana.Used Past Month.12-17</th>\n",
              "      <th>Rates.Marijuana.Used Past Month.18-25</th>\n",
              "      <th>Rates.Marijuana.Used Past Month.26+</th>\n",
              "      <th>Totals.Marijuana.Used Past Year.12-17</th>\n",
              "      <th>Totals.Marijuana.Used Past Year.18-25</th>\n",
              "      <th>Totals.Marijuana.Used Past Year.26+</th>\n",
              "      <th>Rates.Marijuana.Used Past Year.12-17</th>\n",
              "      <th>Rates.Marijuana.Used Past Year.18-25</th>\n",
              "      <th>Rates.Marijuana.Used Past Year.26+</th>\n",
              "      <th>Totals.Tobacco.Use Past Month.12-17</th>\n",
              "      <th>Totals.Tobacco.Use Past Month.18-25</th>\n",
              "      <th>Totals.Tobacco.Use Past Month.26+</th>\n",
              "      <th>Rates.Tobacco.Use Past Month.12-17</th>\n",
              "      <th>Rates.Tobacco.Use Past Month.18-25</th>\n",
              "      <th>Rates.Tobacco.Use Past Month.26+</th>\n",
              "    </tr>\n",
              "  </thead>\n",
              "  <tbody>\n",
              "    <tr>\n",
              "      <th>4</th>\n",
              "      <td>California</td>\n",
              "      <td>2002</td>\n",
              "      <td>3140739</td>\n",
              "      <td>3919577</td>\n",
              "      <td>21392421</td>\n",
              "      <td>173</td>\n",
              "      <td>581</td>\n",
              "      <td>1298</td>\n",
              "      <td>0.055109</td>\n",
              "      <td>0.148312</td>\n",
              "      <td>0.060692</td>\n",
              "      <td>480</td>\n",
              "      <td>2176</td>\n",
              "      <td>11847</td>\n",
              "      <td>0.152791</td>\n",
              "      <td>0.555278</td>\n",
              "      <td>0.553801</td>\n",
              "      <td>235</td>\n",
              "      <td>1245</td>\n",
              "      <td>4028</td>\n",
              "      <td>0.074824</td>\n",
              "      <td>0.317661</td>\n",
              "      <td>0.188269</td>\n",
              "      <td>53</td>\n",
              "      <td>259</td>\n",
              "      <td>410</td>\n",
              "      <td>0.016995</td>\n",
              "      <td>0.066052</td>\n",
              "      <td>0.019184</td>\n",
              "      <td>158</td>\n",
              "      <td>126</td>\n",
              "      <td>17</td>\n",
              "      <td>0.058786</td>\n",
              "      <td>0.062674</td>\n",
              "      <td>0.001437</td>\n",
              "      <td>241</td>\n",
              "      <td>631</td>\n",
              "      <td>978</td>\n",
              "      <td>0.076595</td>\n",
              "      <td>0.160916</td>\n",
              "      <td>0.045736</td>\n",
              "      <td>443</td>\n",
              "      <td>1109</td>\n",
              "      <td>1670</td>\n",
              "      <td>0.141067</td>\n",
              "      <td>0.282887</td>\n",
              "      <td>0.078068</td>\n",
              "      <td>290</td>\n",
              "      <td>1377</td>\n",
              "      <td>4721</td>\n",
              "      <td>0.092235</td>\n",
              "      <td>0.351353</td>\n",
              "      <td>0.220699</td>\n",
              "    </tr>\n",
              "    <tr>\n",
              "      <th>19</th>\n",
              "      <td>Maine</td>\n",
              "      <td>2002</td>\n",
              "      <td>108861</td>\n",
              "      <td>130511</td>\n",
              "      <td>869560</td>\n",
              "      <td>6</td>\n",
              "      <td>24</td>\n",
              "      <td>51</td>\n",
              "      <td>0.055913</td>\n",
              "      <td>0.182557</td>\n",
              "      <td>0.058813</td>\n",
              "      <td>18</td>\n",
              "      <td>87</td>\n",
              "      <td>473</td>\n",
              "      <td>0.165458</td>\n",
              "      <td>0.667566</td>\n",
              "      <td>0.544405</td>\n",
              "      <td>13</td>\n",
              "      <td>57</td>\n",
              "      <td>227</td>\n",
              "      <td>0.121629</td>\n",
              "      <td>0.438887</td>\n",
              "      <td>0.260988</td>\n",
              "      <td>2</td>\n",
              "      <td>11</td>\n",
              "      <td>13</td>\n",
              "      <td>0.021845</td>\n",
              "      <td>0.080460</td>\n",
              "      <td>0.014597</td>\n",
              "      <td>8</td>\n",
              "      <td>5</td>\n",
              "      <td>1</td>\n",
              "      <td>0.083056</td>\n",
              "      <td>0.103520</td>\n",
              "      <td>0.001254</td>\n",
              "      <td>11</td>\n",
              "      <td>30</td>\n",
              "      <td>46</td>\n",
              "      <td>0.105597</td>\n",
              "      <td>0.232175</td>\n",
              "      <td>0.053340</td>\n",
              "      <td>20</td>\n",
              "      <td>49</td>\n",
              "      <td>68</td>\n",
              "      <td>0.187569</td>\n",
              "      <td>0.373413</td>\n",
              "      <td>0.077963</td>\n",
              "      <td>15</td>\n",
              "      <td>66</td>\n",
              "      <td>267</td>\n",
              "      <td>0.135548</td>\n",
              "      <td>0.504427</td>\n",
              "      <td>0.306937</td>\n",
              "    </tr>\n",
              "    <tr>\n",
              "      <th>21</th>\n",
              "      <td>Massachusetts</td>\n",
              "      <td>2002</td>\n",
              "      <td>508325</td>\n",
              "      <td>672543</td>\n",
              "      <td>4201348</td>\n",
              "      <td>37</td>\n",
              "      <td>124</td>\n",
              "      <td>301</td>\n",
              "      <td>0.073531</td>\n",
              "      <td>0.184677</td>\n",
              "      <td>0.071758</td>\n",
              "      <td>107</td>\n",
              "      <td>464</td>\n",
              "      <td>2637</td>\n",
              "      <td>0.210427</td>\n",
              "      <td>0.689414</td>\n",
              "      <td>0.627540</td>\n",
              "      <td>59</td>\n",
              "      <td>258</td>\n",
              "      <td>889</td>\n",
              "      <td>0.116936</td>\n",
              "      <td>0.383966</td>\n",
              "      <td>0.211581</td>\n",
              "      <td>10</td>\n",
              "      <td>53</td>\n",
              "      <td>90</td>\n",
              "      <td>0.020544</td>\n",
              "      <td>0.078830</td>\n",
              "      <td>0.021372</td>\n",
              "      <td>31</td>\n",
              "      <td>22</td>\n",
              "      <td>3</td>\n",
              "      <td>0.077447</td>\n",
              "      <td>0.081665</td>\n",
              "      <td>0.001578</td>\n",
              "      <td>54</td>\n",
              "      <td>165</td>\n",
              "      <td>201</td>\n",
              "      <td>0.105302</td>\n",
              "      <td>0.245414</td>\n",
              "      <td>0.047945</td>\n",
              "      <td>102</td>\n",
              "      <td>257</td>\n",
              "      <td>472</td>\n",
              "      <td>0.201511</td>\n",
              "      <td>0.381879</td>\n",
              "      <td>0.112412</td>\n",
              "      <td>73</td>\n",
              "      <td>286</td>\n",
              "      <td>1045</td>\n",
              "      <td>0.143674</td>\n",
              "      <td>0.425295</td>\n",
              "      <td>0.248799</td>\n",
              "    </tr>\n",
              "    <tr>\n",
              "      <th>28</th>\n",
              "      <td>Nevada</td>\n",
              "      <td>2002</td>\n",
              "      <td>184670</td>\n",
              "      <td>215631</td>\n",
              "      <td>1379759</td>\n",
              "      <td>13</td>\n",
              "      <td>35</td>\n",
              "      <td>95</td>\n",
              "      <td>0.069304</td>\n",
              "      <td>0.161861</td>\n",
              "      <td>0.068760</td>\n",
              "      <td>34</td>\n",
              "      <td>122</td>\n",
              "      <td>747</td>\n",
              "      <td>0.183959</td>\n",
              "      <td>0.563721</td>\n",
              "      <td>0.541201</td>\n",
              "      <td>24</td>\n",
              "      <td>78</td>\n",
              "      <td>441</td>\n",
              "      <td>0.127314</td>\n",
              "      <td>0.364012</td>\n",
              "      <td>0.319471</td>\n",
              "      <td>4</td>\n",
              "      <td>16</td>\n",
              "      <td>23</td>\n",
              "      <td>0.019736</td>\n",
              "      <td>0.073462</td>\n",
              "      <td>0.016556</td>\n",
              "      <td>12</td>\n",
              "      <td>6</td>\n",
              "      <td>1</td>\n",
              "      <td>0.084232</td>\n",
              "      <td>0.060780</td>\n",
              "      <td>0.001509</td>\n",
              "      <td>18</td>\n",
              "      <td>39</td>\n",
              "      <td>78</td>\n",
              "      <td>0.095757</td>\n",
              "      <td>0.182867</td>\n",
              "      <td>0.056828</td>\n",
              "      <td>36</td>\n",
              "      <td>63</td>\n",
              "      <td>115</td>\n",
              "      <td>0.196742</td>\n",
              "      <td>0.290153</td>\n",
              "      <td>0.083078</td>\n",
              "      <td>28</td>\n",
              "      <td>91</td>\n",
              "      <td>503</td>\n",
              "      <td>0.153051</td>\n",
              "      <td>0.423759</td>\n",
              "      <td>0.364718</td>\n",
              "    </tr>\n",
              "    <tr>\n",
              "      <th>55</th>\n",
              "      <td>California</td>\n",
              "      <td>2003</td>\n",
              "      <td>3209345</td>\n",
              "      <td>3949889</td>\n",
              "      <td>21686129</td>\n",
              "      <td>204</td>\n",
              "      <td>655</td>\n",
              "      <td>1336</td>\n",
              "      <td>0.063632</td>\n",
              "      <td>0.165861</td>\n",
              "      <td>0.061590</td>\n",
              "      <td>540</td>\n",
              "      <td>2206</td>\n",
              "      <td>11848</td>\n",
              "      <td>0.168149</td>\n",
              "      <td>0.558465</td>\n",
              "      <td>0.546340</td>\n",
              "      <td>279</td>\n",
              "      <td>1241</td>\n",
              "      <td>3621</td>\n",
              "      <td>0.086938</td>\n",
              "      <td>0.314248</td>\n",
              "      <td>0.166954</td>\n",
              "      <td>52</td>\n",
              "      <td>267</td>\n",
              "      <td>417</td>\n",
              "      <td>0.016061</td>\n",
              "      <td>0.067505</td>\n",
              "      <td>0.019236</td>\n",
              "      <td>169</td>\n",
              "      <td>139</td>\n",
              "      <td>13</td>\n",
              "      <td>0.061018</td>\n",
              "      <td>0.066741</td>\n",
              "      <td>0.001087</td>\n",
              "      <td>273</td>\n",
              "      <td>641</td>\n",
              "      <td>1019</td>\n",
              "      <td>0.085160</td>\n",
              "      <td>0.162333</td>\n",
              "      <td>0.046980</td>\n",
              "      <td>469</td>\n",
              "      <td>1099</td>\n",
              "      <td>1625</td>\n",
              "      <td>0.146025</td>\n",
              "      <td>0.278214</td>\n",
              "      <td>0.074923</td>\n",
              "      <td>349</td>\n",
              "      <td>1380</td>\n",
              "      <td>4238</td>\n",
              "      <td>0.108760</td>\n",
              "      <td>0.349357</td>\n",
              "      <td>0.195433</td>\n",
              "    </tr>\n",
              "  </tbody>\n",
              "</table>\n",
              "</div>\n",
              "      <button class=\"colab-df-convert\" onclick=\"convertToInteractive('df-e5e39285-2837-4845-8115-ad7286016ff0')\"\n",
              "              title=\"Convert this dataframe to an interactive table.\"\n",
              "              style=\"display:none;\">\n",
              "        \n",
              "  <svg xmlns=\"http://www.w3.org/2000/svg\" height=\"24px\"viewBox=\"0 0 24 24\"\n",
              "       width=\"24px\">\n",
              "    <path d=\"M0 0h24v24H0V0z\" fill=\"none\"/>\n",
              "    <path d=\"M18.56 5.44l.94 2.06.94-2.06 2.06-.94-2.06-.94-.94-2.06-.94 2.06-2.06.94zm-11 1L8.5 8.5l.94-2.06 2.06-.94-2.06-.94L8.5 2.5l-.94 2.06-2.06.94zm10 10l.94 2.06.94-2.06 2.06-.94-2.06-.94-.94-2.06-.94 2.06-2.06.94z\"/><path d=\"M17.41 7.96l-1.37-1.37c-.4-.4-.92-.59-1.43-.59-.52 0-1.04.2-1.43.59L10.3 9.45l-7.72 7.72c-.78.78-.78 2.05 0 2.83L4 21.41c.39.39.9.59 1.41.59.51 0 1.02-.2 1.41-.59l7.78-7.78 2.81-2.81c.8-.78.8-2.07 0-2.86zM5.41 20L4 18.59l7.72-7.72 1.47 1.35L5.41 20z\"/>\n",
              "  </svg>\n",
              "      </button>\n",
              "      \n",
              "  <style>\n",
              "    .colab-df-container {\n",
              "      display:flex;\n",
              "      flex-wrap:wrap;\n",
              "      gap: 12px;\n",
              "    }\n",
              "\n",
              "    .colab-df-convert {\n",
              "      background-color: #E8F0FE;\n",
              "      border: none;\n",
              "      border-radius: 50%;\n",
              "      cursor: pointer;\n",
              "      display: none;\n",
              "      fill: #1967D2;\n",
              "      height: 32px;\n",
              "      padding: 0 0 0 0;\n",
              "      width: 32px;\n",
              "    }\n",
              "\n",
              "    .colab-df-convert:hover {\n",
              "      background-color: #E2EBFA;\n",
              "      box-shadow: 0px 1px 2px rgba(60, 64, 67, 0.3), 0px 1px 3px 1px rgba(60, 64, 67, 0.15);\n",
              "      fill: #174EA6;\n",
              "    }\n",
              "\n",
              "    [theme=dark] .colab-df-convert {\n",
              "      background-color: #3B4455;\n",
              "      fill: #D2E3FC;\n",
              "    }\n",
              "\n",
              "    [theme=dark] .colab-df-convert:hover {\n",
              "      background-color: #434B5C;\n",
              "      box-shadow: 0px 1px 3px 1px rgba(0, 0, 0, 0.15);\n",
              "      filter: drop-shadow(0px 1px 2px rgba(0, 0, 0, 0.3));\n",
              "      fill: #FFFFFF;\n",
              "    }\n",
              "  </style>\n",
              "\n",
              "      <script>\n",
              "        const buttonEl =\n",
              "          document.querySelector('#df-e5e39285-2837-4845-8115-ad7286016ff0 button.colab-df-convert');\n",
              "        buttonEl.style.display =\n",
              "          google.colab.kernel.accessAllowed ? 'block' : 'none';\n",
              "\n",
              "        async function convertToInteractive(key) {\n",
              "          const element = document.querySelector('#df-e5e39285-2837-4845-8115-ad7286016ff0');\n",
              "          const dataTable =\n",
              "            await google.colab.kernel.invokeFunction('convertToInteractive',\n",
              "                                                     [key], {});\n",
              "          if (!dataTable) return;\n",
              "\n",
              "          const docLinkHtml = 'Like what you see? Visit the ' +\n",
              "            '<a target=\"_blank\" href=https://colab.research.google.com/notebooks/data_table.ipynb>data table notebook</a>'\n",
              "            + ' to learn more about interactive tables.';\n",
              "          element.innerHTML = '';\n",
              "          dataTable['output_type'] = 'display_data';\n",
              "          await google.colab.output.renderOutput(dataTable, element);\n",
              "          const docLink = document.createElement('div');\n",
              "          docLink.innerHTML = docLinkHtml;\n",
              "          element.appendChild(docLink);\n",
              "        }\n",
              "      </script>\n",
              "    </div>\n",
              "  </div>\n",
              "  "
            ]
          },
          "metadata": {},
          "execution_count": 8
        }
      ]
    },
    {
      "cell_type": "markdown",
      "source": [
        "## Data Visualization\n",
        "\n",
        "With these four states, we now want to futher explore and visualize this data set. We focus in on several key metrics:\n",
        "1. We decide to look only at rates of drug usage rather than absolute totals so as to remove the effect of population (i.e. California has higher usage because it is a more populous state when compared to Maryland). For marijuana usage, we also visualize new users of marijuana. \n",
        "2. We also choose to look at tobacco, marijuana, and alcohol usage only, excluding cocaine usage because of its national illegality and our dataset's exclusion of prisoners.\n",
        "\n",
        "We now create boxplots indicating how usage of alcohol, tobacco, and marijuana rates changed over time for all three age groups we are considering: 12-17, 18-25, and 26+.\n"
      ],
      "metadata": {
        "id": "uVUDlGOi3F-p"
      }
    },
    {
      "cell_type": "markdown",
      "source": [
        "### Marijuana - rates"
      ],
      "metadata": {
        "id": "jL-wx-ju1oLr"
      }
    },
    {
      "cell_type": "code",
      "source": [
        "#boxplot of marijuana usage rates in the past month for 12-17 year olds over time\n",
        "#rates fluctuate over time but are mostly static\n",
        "sns.boxplot(x=\"Year\", y=\"Rates.Marijuana.Used Past Month.12-17\", data=states).set(title = 'Rates Marijuana Used Past Month, 12-17')\n",
        "plt.xticks(rotation=30)"
      ],
      "metadata": {
        "id": "OFG9DhS9ttac",
        "colab": {
          "base_uri": "https://localhost:8080/",
          "height": 342
        },
        "outputId": "ac6fff89-08d2-4c51-f4e2-2edc03ab3c97"
      },
      "execution_count": null,
      "outputs": [
        {
          "output_type": "execute_result",
          "data": {
            "text/plain": [
              "(array([ 0,  1,  2,  3,  4,  5,  6,  7,  8,  9, 10, 11, 12, 13, 14, 15, 16]),\n",
              " <a list of 17 Text major ticklabel objects>)"
            ]
          },
          "metadata": {},
          "execution_count": 9
        },
        {
          "output_type": "display_data",
          "data": {
            "text/plain": [
              "<Figure size 432x288 with 1 Axes>"
            ],
            "image/png": "[encoded data removed]"
          },
          "metadata": {
            "needs_background": "light"
          }
        }
      ]
    },
    {
      "cell_type": "code",
      "source": [
        "#boxplot of marijuana usage rates in the past month for 18-25 year olds over time\n",
        "#rates are slightly increasing over time, more increase post 2016\n",
        "sns.boxplot(x=\"Year\", y=\"Rates.Marijuana.Used Past Month.18-25\", data=states).set(title = 'Rates Marijuana Used Past Month, 18-25')\n",
        "plt.xticks(rotation=30)"
      ],
      "metadata": {
        "colab": {
          "base_uri": "https://localhost:8080/",
          "height": 342
        },
        "id": "8ZSimIc818Mf",
        "outputId": "ea2f79d3-c5f0-45be-dfd1-c80dac917f41"
      },
      "execution_count": null,
      "outputs": [
        {
          "output_type": "execute_result",
          "data": {
            "text/plain": [
              "(array([ 0,  1,  2,  3,  4,  5,  6,  7,  8,  9, 10, 11, 12, 13, 14, 15, 16]),\n",
              " <a list of 17 Text major ticklabel objects>)"
            ]
          },
          "metadata": {},
          "execution_count": 10
        },
        {
          "output_type": "display_data",
          "data": {
            "text/plain": [
              "<Figure size 432x288 with 1 Axes>"
            ],
            "image/png": "[encoded data removed]"
          },
          "metadata": {
            "needs_background": "light"
          }
        }
      ]
    },
    {
      "cell_type": "code",
      "source": [
        "#boxplot of marijuana usage rates in the past month for 26+ year olds over time\n",
        "#rates are increasing each year, more increases starting in around 2013\n",
        "sns.boxplot(x=\"Year\", y=\"Rates.Marijuana.Used Past Month.26+\", data=states).set(title = 'Rates Marijuana Used Past Month, 26+')\n",
        "plt.xticks(rotation=30)"
      ],
      "metadata": {
        "colab": {
          "base_uri": "https://localhost:8080/",
          "height": 342
        },
        "id": "r-HX4-_p2F5d",
        "outputId": "27497d1e-a25b-48f4-d3ff-7f02a4bb4184"
      },
      "execution_count": null,
      "outputs": [
        {
          "output_type": "execute_result",
          "data": {
            "text/plain": [
              "(array([ 0,  1,  2,  3,  4,  5,  6,  7,  8,  9, 10, 11, 12, 13, 14, 15, 16]),\n",
              " <a list of 17 Text major ticklabel objects>)"
            ]
          },
          "metadata": {},
          "execution_count": 11
        },
        {
          "output_type": "display_data",
          "data": {
            "text/plain": [
              "<Figure size 432x288 with 1 Axes>"
            ],
            "image/png": "[encoded data removed]"
          },
          "metadata": {
            "needs_background": "light"
          }
        }
      ]
    },
    {
      "cell_type": "markdown",
      "source": [
        "For the age groups of 18-25 and 26+ year olds, we see more of an increase in marijuana usage rates post-2016, which is expected. This trend is not as present in age 12-17 which shows more fluctuations in usage over time."
      ],
      "metadata": {
        "id": "F7bareXf4t-m"
      }
    },
    {
      "cell_type": "markdown",
      "source": [
        "### Marijuana - new users"
      ],
      "metadata": {
        "id": "0DzHvtRzpvok"
      }
    },
    {
      "cell_type": "code",
      "source": [
        "#boxplot of marijuana new user rates in the past month for 12-17 year olds over time\n",
        "#large flucations in new users, big spike in 2018\n",
        "#more outliers for this plot\n",
        "sns.boxplot(x=\"Year\", y=\"Rates.Marijuana.New Users.12-17\", data=states).set(title = 'Rates Marijuana New Users, 12-17')\n",
        "plt.xticks(rotation=30)"
      ],
      "metadata": {
        "colab": {
          "base_uri": "https://localhost:8080/",
          "height": 342
        },
        "id": "b1cKnR-DcUXF",
        "outputId": "3c56047e-872a-484c-8c14-ee228005760a"
      },
      "execution_count": null,
      "outputs": [
        {
          "output_type": "execute_result",
          "data": {
            "text/plain": [
              "(array([ 0,  1,  2,  3,  4,  5,  6,  7,  8,  9, 10, 11, 12, 13, 14, 15, 16]),\n",
              " <a list of 17 Text major ticklabel objects>)"
            ]
          },
          "metadata": {},
          "execution_count": 12
        },
        {
          "output_type": "display_data",
          "data": {
            "text/plain": [
              "<Figure size 432x288 with 1 Axes>"
            ],
            "image/png": "[encoded data removed]"
          },
          "metadata": {
            "needs_background": "light"
          }
        }
      ]
    },
    {
      "cell_type": "code",
      "source": [
        "#boxplot of marijuana new user rates in the past month for 18-25 year olds over time\n",
        "#increase in new years, especially 2017/2018\n",
        "sns.boxplot(x=\"Year\", y=\"Rates.Marijuana.New Users.18-25\", data=states).set(title = 'Rates Marijuana New Users, 18-25')\n",
        "plt.xticks(rotation=30)"
      ],
      "metadata": {
        "colab": {
          "base_uri": "https://localhost:8080/",
          "height": 342
        },
        "id": "zrPUT5KFcaZu",
        "outputId": "1c21e060-0a45-4bc7-b9b0-a26e8c18d37f"
      },
      "execution_count": null,
      "outputs": [
        {
          "output_type": "execute_result",
          "data": {
            "text/plain": [
              "(array([ 0,  1,  2,  3,  4,  5,  6,  7,  8,  9, 10, 11, 12, 13, 14, 15, 16]),\n",
              " <a list of 17 Text major ticklabel objects>)"
            ]
          },
          "metadata": {},
          "execution_count": 13
        },
        {
          "output_type": "display_data",
          "data": {
            "text/plain": [
              "<Figure size 432x288 with 1 Axes>"
            ],
            "image/png": "[encoded data removed]"
          },
          "metadata": {
            "needs_background": "light"
          }
        }
      ]
    },
    {
      "cell_type": "code",
      "source": [
        "#boxplot of marijuana new user rates in the past month for 26+ year olds over time\n",
        "#increase in new users, increases more in 2015 and spikes in 2017/2018\n",
        "sns.boxplot(x=\"Year\", y=\"Rates.Marijuana.New Users.26+\", data=states).set(title = 'Rates Marijuana New Users, 26+')\n",
        "plt.xticks(rotation=30)"
      ],
      "metadata": {
        "colab": {
          "base_uri": "https://localhost:8080/",
          "height": 342
        },
        "id": "FgBAKdnecdLQ",
        "outputId": "af863d29-e964-4408-99d3-bbbb17958f14"
      },
      "execution_count": null,
      "outputs": [
        {
          "output_type": "execute_result",
          "data": {
            "text/plain": [
              "(array([ 0,  1,  2,  3,  4,  5,  6,  7,  8,  9, 10, 11, 12, 13, 14, 15, 16]),\n",
              " <a list of 17 Text major ticklabel objects>)"
            ]
          },
          "metadata": {},
          "execution_count": 14
        },
        {
          "output_type": "display_data",
          "data": {
            "text/plain": [
              "<Figure size 432x288 with 1 Axes>"
            ],
            "image/png": "[encoded data removed]"
          },
          "metadata": {
            "needs_background": "light"
          }
        }
      ]
    },
    {
      "cell_type": "markdown",
      "source": [
        "Across all three age groups, we see a large increase in new user rates of marijuana post 2016. This aligns with our intuition that more people would use marijuana for the first time post leglization, rather than necessarily increase the intensity of their usage. This trend is most prominent in the 18-25 and 26+ groups. "
      ],
      "metadata": {
        "id": "Cyx4GvGb6gSD"
      }
    },
    {
      "cell_type": "markdown",
      "source": [
        "### Alcohol"
      ],
      "metadata": {
        "id": "AJ1DU88V2VJp"
      }
    },
    {
      "cell_type": "code",
      "source": [
        "#boxplot of alcohol usage rates in the past month for 12-17 year olds over time\n",
        "#rates are steadly decreasing\n",
        "sns.boxplot(x=\"Year\", y=\"Rates.Alcohol.Use Past Month.12-17\", data=states).set(title = 'Rates Alcohol Use Past Month, 12-17')\n",
        "plt.xticks(rotation=30)"
      ],
      "metadata": {
        "colab": {
          "base_uri": "https://localhost:8080/",
          "height": 342
        },
        "id": "RUWm-OgZ2wTC",
        "outputId": "c55afa7c-5708-41f9-8db2-91f53159726d"
      },
      "execution_count": null,
      "outputs": [
        {
          "output_type": "execute_result",
          "data": {
            "text/plain": [
              "(array([ 0,  1,  2,  3,  4,  5,  6,  7,  8,  9, 10, 11, 12, 13, 14, 15, 16]),\n",
              " <a list of 17 Text major ticklabel objects>)"
            ]
          },
          "metadata": {},
          "execution_count": 15
        },
        {
          "output_type": "display_data",
          "data": {
            "text/plain": [
              "<Figure size 432x288 with 1 Axes>"
            ],
            "image/png": "[encoded data removed]"
          },
          "metadata": {
            "needs_background": "light"
          }
        }
      ]
    },
    {
      "cell_type": "code",
      "source": [
        "#boxplot of alcohol usage rates in the past month for 18-25 year olds over time\n",
        "#rates are generally pretty steady\n",
        "sns.boxplot(x=\"Year\", y=\"Rates.Alcohol.Use Past Month.18-25\", data=states).set(title = 'Rates Alcohol Use Past Month, 18-25')\n",
        "plt.xticks(rotation=30)"
      ],
      "metadata": {
        "colab": {
          "base_uri": "https://localhost:8080/",
          "height": 342
        },
        "id": "1sU_UoLN3qiO",
        "outputId": "a8f6dc91-446d-4a3a-a109-60e543cd1e21"
      },
      "execution_count": null,
      "outputs": [
        {
          "output_type": "execute_result",
          "data": {
            "text/plain": [
              "(array([ 0,  1,  2,  3,  4,  5,  6,  7,  8,  9, 10, 11, 12, 13, 14, 15, 16]),\n",
              " <a list of 17 Text major ticklabel objects>)"
            ]
          },
          "metadata": {},
          "execution_count": 16
        },
        {
          "output_type": "display_data",
          "data": {
            "text/plain": [
              "<Figure size 432x288 with 1 Axes>"
            ],
            "image/png": "[encoded data removed]"
          },
          "metadata": {
            "needs_background": "light"
          }
        }
      ]
    },
    {
      "cell_type": "code",
      "source": [
        "#boxplot of alcohol usage rates in the past month for 26+ year olds over time\n",
        "#rates are steady\n",
        "sns.boxplot(x=\"Year\", y=\"Rates.Alcohol.Use Past Month.26+\", data=states).set(title = 'Rates Alcohol Use Past Month, 26+')\n",
        "plt.xticks(rotation=30)"
      ],
      "metadata": {
        "colab": {
          "base_uri": "https://localhost:8080/",
          "height": 342
        },
        "id": "huYP3kHY4aWd",
        "outputId": "7e3da49e-7b47-4c78-c569-a24e817c4e70"
      },
      "execution_count": null,
      "outputs": [
        {
          "output_type": "execute_result",
          "data": {
            "text/plain": [
              "(array([ 0,  1,  2,  3,  4,  5,  6,  7,  8,  9, 10, 11, 12, 13, 14, 15, 16]),\n",
              " <a list of 17 Text major ticklabel objects>)"
            ]
          },
          "metadata": {},
          "execution_count": 17
        },
        {
          "output_type": "display_data",
          "data": {
            "text/plain": [
              "<Figure size 432x288 with 1 Axes>"
            ],
            "image/png": "[encoded data removed]"
          },
          "metadata": {
            "needs_background": "light"
          }
        }
      ]
    },
    {
      "cell_type": "markdown",
      "source": [
        "Rates of alcohol use are on the decline in the 12-17 age group, which makes sense in light of efforts to lower underage drinking. Rates remain relatively constant for the 18-25 & 26+ age groups."
      ],
      "metadata": {
        "id": "r9Sk0FBD8ctH"
      }
    },
    {
      "cell_type": "markdown",
      "source": [
        "### Tobacco"
      ],
      "metadata": {
        "id": "v6-S0ATo4g21"
      }
    },
    {
      "cell_type": "code",
      "source": [
        "#boxplot of tobacco usage rates in the past month for 12-17 year olds over time\n",
        "#rates are decreasing\n",
        "sns.boxplot(x=\"Year\", y=\"Rates.Tobacco.Use Past Month.12-17\", data=states).set(title = 'Rates Tobacco Use Past Month, 12-17')\n",
        "plt.xticks(rotation=30)"
      ],
      "metadata": {
        "colab": {
          "base_uri": "https://localhost:8080/",
          "height": 342
        },
        "id": "6ctwOFeF4li8",
        "outputId": "b340a0f7-af06-4282-a2ef-dc66d69a50a9"
      },
      "execution_count": null,
      "outputs": [
        {
          "output_type": "execute_result",
          "data": {
            "text/plain": [
              "(array([ 0,  1,  2,  3,  4,  5,  6,  7,  8,  9, 10, 11, 12, 13, 14, 15, 16]),\n",
              " <a list of 17 Text major ticklabel objects>)"
            ]
          },
          "metadata": {},
          "execution_count": 18
        },
        {
          "output_type": "display_data",
          "data": {
            "text/plain": [
              "<Figure size 432x288 with 1 Axes>"
            ],
            "image/png": "[encoded data removed]"
          },
          "metadata": {
            "needs_background": "light"
          }
        }
      ]
    },
    {
      "cell_type": "code",
      "source": [
        "#boxplot of tobacco usage rates in the past month for 18-25 year olds over time\n",
        "#rates are decreasing\n",
        "sns.boxplot(x=\"Year\", y=\"Rates.Tobacco.Use Past Month.18-25\", data=states).set(title = 'Rates Tobacco Use Past Month, 18-25')\n",
        "plt.xticks(rotation=30)"
      ],
      "metadata": {
        "colab": {
          "base_uri": "https://localhost:8080/",
          "height": 342
        },
        "id": "9muDpP0Q5krh",
        "outputId": "38bcb889-e5e3-4ef9-83cd-a58b4e8422d9"
      },
      "execution_count": null,
      "outputs": [
        {
          "output_type": "execute_result",
          "data": {
            "text/plain": [
              "(array([ 0,  1,  2,  3,  4,  5,  6,  7,  8,  9, 10, 11, 12, 13, 14, 15, 16]),\n",
              " <a list of 17 Text major ticklabel objects>)"
            ]
          },
          "metadata": {},
          "execution_count": 19
        },
        {
          "output_type": "display_data",
          "data": {
            "text/plain": [
              "<Figure size 432x288 with 1 Axes>"
            ],
            "image/png": "[encoded data removed]"
          },
          "metadata": {
            "needs_background": "light"
          }
        }
      ]
    },
    {
      "cell_type": "code",
      "source": [
        "#boxplot of tobacco usage rates in the past month for 26+ year olds over time\n",
        "#rates are pretty steady\n",
        "sns.boxplot(x=\"Year\", y=\"Rates.Tobacco.Use Past Month.26+\", data=states).set(title = 'Rates Tobacco Use Past Month, 26+')\n",
        "plt.xticks(rotation=30)"
      ],
      "metadata": {
        "colab": {
          "base_uri": "https://localhost:8080/",
          "height": 342
        },
        "id": "Tt8GErrC5qjL",
        "outputId": "d8dce90f-9bce-41ce-8cfb-0211f00cd5b4"
      },
      "execution_count": null,
      "outputs": [
        {
          "output_type": "execute_result",
          "data": {
            "text/plain": [
              "(array([ 0,  1,  2,  3,  4,  5,  6,  7,  8,  9, 10, 11, 12, 13, 14, 15, 16]),\n",
              " <a list of 17 Text major ticklabel objects>)"
            ]
          },
          "metadata": {},
          "execution_count": 20
        },
        {
          "output_type": "display_data",
          "data": {
            "text/plain": [
              "<Figure size 432x288 with 1 Axes>"
            ],
            "image/png": "[encoded data removed]"
          },
          "metadata": {
            "needs_background": "light"
          }
        }
      ]
    },
    {
      "cell_type": "markdown",
      "source": [
        "Tobacco usage is on the decline for all age groups, likely due to emerging research on the harmful effects of tobacco. The rate of decline is fastest in the 12-17 age group, and for the 18-25 age group, we see a steeper drop off starting in 2009. For the 26+ group, this decline is less steep over time."
      ],
      "metadata": {
        "id": "AqYnK7Mw96Vc"
      }
    },
    {
      "cell_type": "markdown",
      "source": [
        "### Tobacco (cigarette)"
      ],
      "metadata": {
        "id": "2thBMg6o6rCM"
      }
    },
    {
      "cell_type": "code",
      "source": [
        "#boxplot of tobacco (cigarette) rates in the past month for 12-17 year olds over time\n",
        "#rates are decreasing\n",
        "sns.boxplot(x=\"Year\", y=\"Rates.Tobacco.Cigarette Past Month.12-17\", data=states).set(title = 'Rates Tobacco Cigarette Past Month, 12-17')\n",
        "plt.xticks(rotation=30)"
      ],
      "metadata": {
        "colab": {
          "base_uri": "https://localhost:8080/",
          "height": 342
        },
        "id": "KAU6JEG06sIu",
        "outputId": "93d009ad-92bb-4a0a-e645-dcc9749744e0"
      },
      "execution_count": null,
      "outputs": [
        {
          "output_type": "execute_result",
          "data": {
            "text/plain": [
              "(array([ 0,  1,  2,  3,  4,  5,  6,  7,  8,  9, 10, 11, 12, 13, 14, 15, 16]),\n",
              " <a list of 17 Text major ticklabel objects>)"
            ]
          },
          "metadata": {},
          "execution_count": 21
        },
        {
          "output_type": "display_data",
          "data": {
            "text/plain": [
              "<Figure size 432x288 with 1 Axes>"
            ],
            "image/png": "[encoded data removed]"
          },
          "metadata": {
            "needs_background": "light"
          }
        }
      ]
    },
    {
      "cell_type": "code",
      "source": [
        "#boxplot of tobacco (cigarette) rates in the past month for 18-25 year olds over time\n",
        "#rates are decreasing\n",
        "sns.boxplot(x=\"Year\", y=\"Rates.Tobacco.Cigarette Past Month.18-25\", data=states).set(title = 'Rates Tobacco Cigarette Past Month, 18-25')\n",
        "plt.xticks(rotation=30)"
      ],
      "metadata": {
        "colab": {
          "base_uri": "https://localhost:8080/",
          "height": 342
        },
        "id": "nGd4jOti6_e5",
        "outputId": "e761d75a-29f2-420f-8fa9-5e02fc7cdc7f"
      },
      "execution_count": null,
      "outputs": [
        {
          "output_type": "execute_result",
          "data": {
            "text/plain": [
              "(array([ 0,  1,  2,  3,  4,  5,  6,  7,  8,  9, 10, 11, 12, 13, 14, 15, 16]),\n",
              " <a list of 17 Text major ticklabel objects>)"
            ]
          },
          "metadata": {},
          "execution_count": 22
        },
        {
          "output_type": "display_data",
          "data": {
            "text/plain": [
              "<Figure size 432x288 with 1 Axes>"
            ],
            "image/png": "[encoded data removed]"
          },
          "metadata": {
            "needs_background": "light"
          }
        }
      ]
    },
    {
      "cell_type": "code",
      "source": [
        "#boxplot of tobacco (cigarette) rates in the past month for 26+ year olds over time\n",
        "#rates are decreasing, not as quickly\n",
        "sns.boxplot(x=\"Year\", y=\"Rates.Tobacco.Cigarette Past Month.26+\", data=states).set(title = 'Rates Tobacco Cigarette Past Month, 26+')\n",
        "plt.xticks(rotation=30)"
      ],
      "metadata": {
        "colab": {
          "base_uri": "https://localhost:8080/",
          "height": 342
        },
        "id": "07RRwy-n7FCj",
        "outputId": "59272d50-819f-41c3-bf01-8e9f7b3409f2"
      },
      "execution_count": null,
      "outputs": [
        {
          "output_type": "execute_result",
          "data": {
            "text/plain": [
              "(array([ 0,  1,  2,  3,  4,  5,  6,  7,  8,  9, 10, 11, 12, 13, 14, 15, 16]),\n",
              " <a list of 17 Text major ticklabel objects>)"
            ]
          },
          "metadata": {},
          "execution_count": 23
        },
        {
          "output_type": "display_data",
          "data": {
            "text/plain": [
              "<Figure size 432x288 with 1 Axes>"
            ],
            "image/png": "[encoded data removed]"
          },
          "metadata": {
            "needs_background": "light"
          }
        }
      ]
    },
    {
      "cell_type": "markdown",
      "source": [
        "Similar to usage of general tobacco products, tobacco (cigarette) usage is on the decline for all age groups, likely due to the anti-smoking campagins across the US. The rate of decline is fastest in the 12-17 age group and lessens in the older age groups."
      ],
      "metadata": {
        "id": "9wg-1hUH-VSt"
      }
    },
    {
      "cell_type": "markdown",
      "source": [
        "**Takeaways**\n",
        "\n",
        "From these plots, we have several key takeaways that will allows us to refine our data set for the model implementation.\n",
        "\n",
        "1. Our plots don't appear to exhibit strong trends for alochol and tobacco usage after 2016, which may indicate less of an effect of legalization on the usage of these drugs. Marijuana usage and new user rates exhibit more of a trend however. Thus we will want to test these effects more rigorously through our statistical analysis in the following section.\n",
        "\n",
        "2. We want to focus our analysis on the age group of 18-25. People aged 26+ are more likely to not exhibit strong trends in how their drug usage changes because they are more fixed in their usage patterns. There may also be more heterogeneity in this age group comprising a wide range of ages. With the age group of 12-17, there may also be legality and other confounding issues associated with the young age group. Additionally, for the usage rates of marijuana and new users, we see stronger trends associated with the legalization in 2016 for the 18-25 age group.\n",
        "\n",
        "3. Some of the boxplots have outliers in the data, which indicates skewness in the data with regards to the state and the potential need to control for the state using indicator variables. \n",
        "\n",
        "\n",
        "With these takeaways, we will now summarize our model assumptions before implementing our model to test the effect of marijuana legalization on the usage of marijuana, tobacco, and alcohol rates for the 18-25 age group in the states of California, Maine, Massachusetts, and Nevada."
      ],
      "metadata": {
        "id": "2RS3AkM3c7XO"
      }
    },
    {
      "cell_type": "markdown",
      "source": [
        "### Assumptions"
      ],
      "metadata": {
        "id": "eqymJuPSlpfv"
      }
    },
    {
      "cell_type": "markdown",
      "source": [
        "Before we implement our model in the next section, we want to acknowledge a few critical assumptions that we made about the data collection. \n",
        "\n",
        "1. We assumed that the group of participants in the survey was the same over the 2002 to the 2018 period. Obviously this assumption may not have been true as participants may have stopped mid-way through the study or may have passed.\n",
        "\n",
        "2. There was no distinction drawn between medical and recreational marijuana usage prior to recreational legalization. Our data set doesn't distinguish between the medical and recreational consumption of marijuana. The dataset only reports overall consumption rates of marijuana. \n",
        "\n",
        "\n"
      ],
      "metadata": {
        "id": "JklaXa5FOH2c"
      }
    },
    {
      "cell_type": "markdown",
      "source": [
        "# RESULTS #"
      ],
      "metadata": {
        "id": "zkBDny7pTujR"
      }
    },
    {
      "cell_type": "markdown",
      "source": [
        "In order to understand the effect of marijuana legalization on the usage of alcohol, tobacco, and marijuana, we consider two modeling frameworks: the regression discontinuity design (RDD) and difference in difference (DiD) model.\n",
        "\n",
        "The regression discontinuity design allows one to measure the impact of an intervention or treatment effect on some continuous variable. In answering our question regarding how marijuana legalization affects drug usage, the RDD approach will allow us to understand the treatment effect of marijuana legalization on the usage of different drug usage rates for tobacco, marijuana, and alcohol. We use the following variables in our regression model:\n",
        "1. Dependent variable: rates of drug usage in the past month for 18-25 year olds\n",
        "2. Independent variables\n",
        "    \n",
        "    a. Time: time in years relative to the treatment year (year - treatment year)\n",
        "\n",
        "    b. Treatment: 0 or 1 variable indicating before or after legalization of marijuana in 2016\n",
        "\n",
        "    c. Interaction: time * treatment\n",
        "\n",
        "    d. indicator variables for each state\n",
        "\n",
        "We will look at the regression coefficients and significance levels (measured by the t-statistic) to tell us how strong the effect of legalization was on the usage rate of these drugs. To examine our model predictions, we will also visualize the regression discontinuity based on the model predicted coefficients, creating separate lines for each state. \n",
        "\n",
        "We also consider using the difference in difference model that controls for factors that may be impacting drug usage, thus separating out the effect of legalization from other factors that may affect drug usage. With the difference in difference model, we can compare our original model to other states that did not legalize marijuana in the time frame of 2002-2018 and have similar characteristics to the states we use in the regression discontinuity design.\n"
      ],
      "metadata": {
        "id": "rjQbVNrGVrJs"
      }
    },
    {
      "cell_type": "markdown",
      "source": [
        "##RDD for Marijuana Usage ##\n"
      ],
      "metadata": {
        "id": "YeYyaof-htVV"
      }
    },
    {
      "cell_type": "code",
      "source": [
        "#create indicator variables for the state\n",
        "dummy_state = pd.get_dummies(states['State'], prefix='state_')\n",
        "\n",
        "#merge with the data set\n",
        "states_model = pd.merge(left=states, right=dummy_state, left_index=True, right_index=True)"
      ],
      "metadata": {
        "id": "kxwgYatFv1k1"
      },
      "execution_count": null,
      "outputs": []
    },
    {
      "cell_type": "markdown",
      "source": [
        "Here we restrict the range of our analysis to be between 2012 and 2018, only a few years before and after the legalization, in order to remove any time-based effects from the treatment variable."
      ],
      "metadata": {
        "id": "dlieECPRDEa7"
      }
    },
    {
      "cell_type": "code",
      "source": [
        "#subset the data to only include the years between 2011 and 2018\n",
        "states_model = states_model[(states_model[\"Year\"] <= 2018) & (states_model[\"Year\"] > 2011)]\n",
        "states_model.head()"
      ],
      "metadata": {
        "colab": {
          "base_uri": "https://localhost:8080/",
          "height": 322
        },
        "id": "A_E-I-wdv4g7",
        "outputId": "b2d5f18c-407f-43e3-8062-ac1a6c3788c3"
      },
      "execution_count": null,
      "outputs": [
        {
          "output_type": "execute_result",
          "data": {
            "text/plain": [
              "             State  Year  Population.12-17  Population.18-25  Population.26+  \\\n",
              "514     California  2012           3117442           4458805        24005740   \n",
              "529          Maine  2012             94988            128694          923093   \n",
              "531  Massachusetts  2012            491273            775063         4420226   \n",
              "538         Nevada  2012            221167            285463         1788826   \n",
              "565     California  2013           3080548           4469106        24421137   \n",
              "\n",
              "     Totals.Alcohol.Use Disorder Past Year.12-17  \\\n",
              "514                                           95   \n",
              "529                                            3   \n",
              "531                                           16   \n",
              "538                                            7   \n",
              "565                                           85   \n",
              "\n",
              "     Totals.Alcohol.Use Disorder Past Year.18-25  \\\n",
              "514                                          653   \n",
              "529                                           19   \n",
              "531                                          115   \n",
              "538                                           40   \n",
              "565                                          582   \n",
              "\n",
              "     Totals.Alcohol.Use Disorder Past Year.26+  \\\n",
              "514                                       1559   \n",
              "529                                         50   \n",
              "531                                        272   \n",
              "538                                        129   \n",
              "565                                       1460   \n",
              "\n",
              "     Rates.Alcohol.Use Disorder Past Year.12-17  \\\n",
              "514                                    0.030527   \n",
              "529                                    0.032386   \n",
              "531                                    0.032773   \n",
              "538                                    0.031144   \n",
              "565                                    0.027535   \n",
              "\n",
              "     Rates.Alcohol.Use Disorder Past Year.18-25  \\\n",
              "514                                    0.146444   \n",
              "529                                    0.150001   \n",
              "531                                    0.148762   \n",
              "538                                    0.140728   \n",
              "565                                    0.130143   \n",
              "\n",
              "     Rates.Alcohol.Use Disorder Past Year.26+  \\\n",
              "514                                  0.064924   \n",
              "529                                  0.054684   \n",
              "531                                  0.061563   \n",
              "538                                  0.072210   \n",
              "565                                  0.059793   \n",
              "\n",
              "     Totals.Alcohol.Use Past Month.12-17  Totals.Alcohol.Use Past Month.18-25  \\\n",
              "514                                  362                                 2567   \n",
              "529                                   12                                   83   \n",
              "531                                   71                                  545   \n",
              "538                                   28                                  168   \n",
              "565                                  370                                 2577   \n",
              "\n",
              "     Totals.Alcohol.Use Past Month.26+  Rates.Alcohol.Use Past Month.12-17  \\\n",
              "514                              12683                            0.116041   \n",
              "529                                532                            0.123592   \n",
              "531                               3066                            0.144917   \n",
              "538                               1058                            0.127593   \n",
              "565                              13257                            0.120096   \n",
              "\n",
              "     Rates.Alcohol.Use Past Month.18-25  Rates.Alcohol.Use Past Month.26+  \\\n",
              "514                            0.575645                          0.528317   \n",
              "529                            0.641099                          0.576761   \n",
              "531                            0.703182                          0.693528   \n",
              "538                            0.589455                          0.591534   \n",
              "565                            0.576724                          0.542839   \n",
              "\n",
              "     Totals.Tobacco.Cigarette Past Month.12-17  \\\n",
              "514                                        134   \n",
              "529                                          7   \n",
              "531                                         27   \n",
              "538                                         13   \n",
              "565                                        113   \n",
              "\n",
              "     Totals.Tobacco.Cigarette Past Month.18-25  \\\n",
              "514                                       1152   \n",
              "529                                         43   \n",
              "531                                        214   \n",
              "538                                         94   \n",
              "565                                       1073   \n",
              "\n",
              "     Totals.Tobacco.Cigarette Past Month.26+  \\\n",
              "514                                     3861   \n",
              "529                                      215   \n",
              "531                                      804   \n",
              "538                                      447   \n",
              "565                                     3696   \n",
              "\n",
              "     Rates.Tobacco.Cigarette Past Month.12-17  \\\n",
              "514                                  0.043055   \n",
              "529                                  0.072312   \n",
              "531                                  0.055696   \n",
              "538                                  0.060457   \n",
              "565                                  0.036585   \n",
              "\n",
              "     Rates.Tobacco.Cigarette Past Month.18-25  \\\n",
              "514                                  0.258330   \n",
              "529                                  0.334299   \n",
              "531                                  0.276011   \n",
              "538                                  0.329967   \n",
              "565                                  0.240124   \n",
              "\n",
              "     Rates.Tobacco.Cigarette Past Month.26+  \\\n",
              "514                                0.160830   \n",
              "529                                0.233243   \n",
              "531                                0.181970   \n",
              "538                                0.249717   \n",
              "565                                0.151351   \n",
              "\n",
              "     Totals.Illicit Drugs.Cocaine Used Past Year.12-17  \\\n",
              "514                                                 25   \n",
              "529                                                  1   \n",
              "531                                                  4   \n",
              "538                                                  1   \n",
              "565                                                 28   \n",
              "\n",
              "     Totals.Illicit Drugs.Cocaine Used Past Year.18-25  \\\n",
              "514                                                278   \n",
              "529                                                  6   \n",
              "531                                                 46   \n",
              "538                                                 11   \n",
              "565                                                273   \n",
              "\n",
              "     Totals.Illicit Drugs.Cocaine Used Past Year.26+  \\\n",
              "514                                              361   \n",
              "529                                               10   \n",
              "531                                               79   \n",
              "538                                               21   \n",
              "565                                              382   \n",
              "\n",
              "     Rates.Illicit Drugs.Cocaine Used Past Year.12-17  \\\n",
              "514                                          0.007861   \n",
              "529                                          0.005762   \n",
              "531                                          0.007420   \n",
              "538                                          0.006408   \n",
              "565                                          0.008933   \n",
              "\n",
              "     Rates.Illicit Drugs.Cocaine Used Past Year.18-25  \\\n",
              "514                                          0.062297   \n",
              "529                                          0.050131   \n",
              "531                                          0.059941   \n",
              "538                                          0.039133   \n",
              "565                                          0.061104   \n",
              "\n",
              "     Rates.Illicit Drugs.Cocaine Used Past Year.26+  \\\n",
              "514                                        0.015047   \n",
              "529                                        0.010994   \n",
              "531                                        0.017916   \n",
              "538                                        0.011728   \n",
              "565                                        0.015660   \n",
              "\n",
              "     Totals.Marijuana.New Users.12-17  Totals.Marijuana.New Users.18-25  \\\n",
              "514                               164                               193   \n",
              "529                                 5                                 6   \n",
              "531                                27                                40   \n",
              "538                                11                                10   \n",
              "565                               165                               195   \n",
              "\n",
              "     Totals.Marijuana.New Users.26+  Rates.Marijuana.New Users.12-17  \\\n",
              "514                              32                         0.060075   \n",
              "529                               1                         0.062973   \n",
              "531                               5                         0.065645   \n",
              "538                               2                         0.060721   \n",
              "565                              38                         0.061609   \n",
              "\n",
              "     Rates.Marijuana.New Users.18-25  Rates.Marijuana.New Users.26+  \\\n",
              "514                         0.083682                       0.002611   \n",
              "529                         0.106022                       0.002668   \n",
              "531                         0.118002                       0.002911   \n",
              "538                         0.075439                       0.002708   \n",
              "565                         0.085629                       0.002854   \n",
              "\n",
              "     Totals.Marijuana.Used Past Month.12-17  \\\n",
              "514                                     243   \n",
              "529                                       9   \n",
              "531                                      44   \n",
              "538                                      18   \n",
              "565                                     269   \n",
              "\n",
              "     Totals.Marijuana.Used Past Month.18-25  \\\n",
              "514                                     965   \n",
              "529                                      32   \n",
              "531                                     206   \n",
              "538                                      53   \n",
              "565                                     941   \n",
              "\n",
              "     Totals.Marijuana.Used Past Month.26+  \\\n",
              "514                                  1614   \n",
              "529                                    73   \n",
              "531                                   313   \n",
              "538                                   112   \n",
              "565                                  1733   \n",
              "\n",
              "     Rates.Marijuana.Used Past Month.12-17  \\\n",
              "514                               0.078021   \n",
              "529                               0.092609   \n",
              "531                               0.089000   \n",
              "538                               0.083290   \n",
              "565                               0.087369   \n",
              "\n",
              "     Rates.Marijuana.Used Past Month.18-25  \\\n",
              "514                               0.216443   \n",
              "529                               0.247109   \n",
              "531                               0.266410   \n",
              "538                               0.185582   \n",
              "565                               0.210463   \n",
              "\n",
              "     Rates.Marijuana.Used Past Month.26+  \\\n",
              "514                             0.067234   \n",
              "529                             0.079523   \n",
              "531                             0.070714   \n",
              "538                             0.062526   \n",
              "565                             0.070944   \n",
              "\n",
              "     Totals.Marijuana.Used Past Year.12-17  \\\n",
              "514                                    444   \n",
              "529                                     15   \n",
              "531                                     74   \n",
              "538                                     35   \n",
              "565                                    463   \n",
              "\n",
              "     Totals.Marijuana.Used Past Year.18-25  \\\n",
              "514                                   1519   \n",
              "529                                     50   \n",
              "531                                    324   \n",
              "538                                     88   \n",
              "565                                   1506   \n",
              "\n",
              "     Totals.Marijuana.Used Past Year.26+  \\\n",
              "514                                 2421   \n",
              "529                                  121   \n",
              "531                                  487   \n",
              "538                                  200   \n",
              "565                                 2664   \n",
              "\n",
              "     Rates.Marijuana.Used Past Year.12-17  \\\n",
              "514                              0.142534   \n",
              "529                              0.159860   \n",
              "531                              0.150514   \n",
              "538                              0.158383   \n",
              "565                              0.150342   \n",
              "\n",
              "     Rates.Marijuana.Used Past Year.18-25  Rates.Marijuana.Used Past Year.26+  \\\n",
              "514                              0.340768                            0.100833   \n",
              "529                              0.387803                            0.131150   \n",
              "531                              0.418644                            0.110193   \n",
              "538                              0.309623                            0.111897   \n",
              "565                              0.336943                            0.109081   \n",
              "\n",
              "     Totals.Tobacco.Use Past Month.12-17  Totals.Tobacco.Use Past Month.18-25  \\\n",
              "514                                  177                                 1301   \n",
              "529                                    9                                   55   \n",
              "531                                   39                                  264   \n",
              "538                                   18                                  108   \n",
              "565                                  154                                 1235   \n",
              "\n",
              "     Totals.Tobacco.Use Past Month.26+  Rates.Tobacco.Use Past Month.12-17  \\\n",
              "514                               4538                            0.056639   \n",
              "529                                247                            0.090191   \n",
              "531                                998                            0.078875   \n",
              "538                                501                            0.083046   \n",
              "565                               4493                            0.049979   \n",
              "\n",
              "     Rates.Tobacco.Use Past Month.18-25  Rates.Tobacco.Use Past Month.26+  \\\n",
              "514                            0.291889                          0.189039   \n",
              "529                            0.423635                          0.267524   \n",
              "531                            0.340317                          0.225705   \n",
              "538                            0.379613                          0.280334   \n",
              "565                            0.276361                          0.183998   \n",
              "\n",
              "     state__California  state__Maine  state__Massachusetts  state__Nevada  \n",
              "514                  1             0                     0              0  \n",
              "529                  0             1                     0              0  \n",
              "531                  0             0                     1              0  \n",
              "538                  0             0                     0              1  \n",
              "565                  1             0                     0              0  "
            ],
            "text/html": [
              "\n",
              "  <div id=\"df-c5c8a16c-72d3-4699-bbb3-0e31f57e615c\">\n",
              "    <div class=\"colab-df-container\">\n",
              "      <div>\n",
              "<style scoped>\n",
              "    .dataframe tbody tr th:only-of-type {\n",
              "        vertical-align: middle;\n",
              "    }\n",
              "\n",
              "    .dataframe tbody tr th {\n",
              "        vertical-align: top;\n",
              "    }\n",
              "\n",
              "    .dataframe thead th {\n",
              "        text-align: right;\n",
              "    }\n",
              "</style>\n",
              "<table border=\"1\" class=\"dataframe\">\n",
              "  <thead>\n",
              "    <tr style=\"text-align: right;\">\n",
              "      <th></th>\n",
              "      <th>State</th>\n",
              "      <th>Year</th>\n",
              "      <th>Population.12-17</th>\n",
              "      <th>Population.18-25</th>\n",
              "      <th>Population.26+</th>\n",
              "      <th>Totals.Alcohol.Use Disorder Past Year.12-17</th>\n",
              "      <th>Totals.Alcohol.Use Disorder Past Year.18-25</th>\n",
              "      <th>Totals.Alcohol.Use Disorder Past Year.26+</th>\n",
              "      <th>Rates.Alcohol.Use Disorder Past Year.12-17</th>\n",
              "      <th>Rates.Alcohol.Use Disorder Past Year.18-25</th>\n",
              "      <th>Rates.Alcohol.Use Disorder Past Year.26+</th>\n",
              "      <th>Totals.Alcohol.Use Past Month.12-17</th>\n",
              "      <th>Totals.Alcohol.Use Past Month.18-25</th>\n",
              "      <th>Totals.Alcohol.Use Past Month.26+</th>\n",
              "      <th>Rates.Alcohol.Use Past Month.12-17</th>\n",
              "      <th>Rates.Alcohol.Use Past Month.18-25</th>\n",
              "      <th>Rates.Alcohol.Use Past Month.26+</th>\n",
              "      <th>Totals.Tobacco.Cigarette Past Month.12-17</th>\n",
              "      <th>Totals.Tobacco.Cigarette Past Month.18-25</th>\n",
              "      <th>Totals.Tobacco.Cigarette Past Month.26+</th>\n",
              "      <th>Rates.Tobacco.Cigarette Past Month.12-17</th>\n",
              "      <th>Rates.Tobacco.Cigarette Past Month.18-25</th>\n",
              "      <th>Rates.Tobacco.Cigarette Past Month.26+</th>\n",
              "      <th>Totals.Illicit Drugs.Cocaine Used Past Year.12-17</th>\n",
              "      <th>Totals.Illicit Drugs.Cocaine Used Past Year.18-25</th>\n",
              "      <th>Totals.Illicit Drugs.Cocaine Used Past Year.26+</th>\n",
              "      <th>Rates.Illicit Drugs.Cocaine Used Past Year.12-17</th>\n",
              "      <th>Rates.Illicit Drugs.Cocaine Used Past Year.18-25</th>\n",
              "      <th>Rates.Illicit Drugs.Cocaine Used Past Year.26+</th>\n",
              "      <th>Totals.Marijuana.New Users.12-17</th>\n",
              "      <th>Totals.Marijuana.New Users.18-25</th>\n",
              "      <th>Totals.Marijuana.New Users.26+</th>\n",
              "      <th>Rates.Marijuana.New Users.12-17</th>\n",
              "      <th>Rates.Marijuana.New Users.18-25</th>\n",
              "      <th>Rates.Marijuana.New Users.26+</th>\n",
              "      <th>Totals.Marijuana.Used Past Month.12-17</th>\n",
              "      <th>Totals.Marijuana.Used Past Month.18-25</th>\n",
              "      <th>Totals.Marijuana.Used Past Month.26+</th>\n",
              "      <th>Rates.Marijuana.Used Past Month.12-17</th>\n",
              "      <th>Rates.Marijuana.Used Past Month.18-25</th>\n",
              "      <th>Rates.Marijuana.Used Past Month.26+</th>\n",
              "      <th>Totals.Marijuana.Used Past Year.12-17</th>\n",
              "      <th>Totals.Marijuana.Used Past Year.18-25</th>\n",
              "      <th>Totals.Marijuana.Used Past Year.26+</th>\n",
              "      <th>Rates.Marijuana.Used Past Year.12-17</th>\n",
              "      <th>Rates.Marijuana.Used Past Year.18-25</th>\n",
              "      <th>Rates.Marijuana.Used Past Year.26+</th>\n",
              "      <th>Totals.Tobacco.Use Past Month.12-17</th>\n",
              "      <th>Totals.Tobacco.Use Past Month.18-25</th>\n",
              "      <th>Totals.Tobacco.Use Past Month.26+</th>\n",
              "      <th>Rates.Tobacco.Use Past Month.12-17</th>\n",
              "      <th>Rates.Tobacco.Use Past Month.18-25</th>\n",
              "      <th>Rates.Tobacco.Use Past Month.26+</th>\n",
              "      <th>state__California</th>\n",
              "      <th>state__Maine</th>\n",
              "      <th>state__Massachusetts</th>\n",
              "      <th>state__Nevada</th>\n",
              "    </tr>\n",
              "  </thead>\n",
              "  <tbody>\n",
              "    <tr>\n",
              "      <th>514</th>\n",
              "      <td>California</td>\n",
              "      <td>2012</td>\n",
              "      <td>3117442</td>\n",
              "      <td>4458805</td>\n",
              "      <td>24005740</td>\n",
              "      <td>95</td>\n",
              "      <td>653</td>\n",
              "      <td>1559</td>\n",
              "      <td>0.030527</td>\n",
              "      <td>0.146444</td>\n",
              "      <td>0.064924</td>\n",
              "      <td>362</td>\n",
              "      <td>2567</td>\n",
              "      <td>12683</td>\n",
              "      <td>0.116041</td>\n",
              "      <td>0.575645</td>\n",
              "      <td>0.528317</td>\n",
              "      <td>134</td>\n",
              "      <td>1152</td>\n",
              "      <td>3861</td>\n",
              "      <td>0.043055</td>\n",
              "      <td>0.258330</td>\n",
              "      <td>0.160830</td>\n",
              "      <td>25</td>\n",
              "      <td>278</td>\n",
              "      <td>361</td>\n",
              "      <td>0.007861</td>\n",
              "      <td>0.062297</td>\n",
              "      <td>0.015047</td>\n",
              "      <td>164</td>\n",
              "      <td>193</td>\n",
              "      <td>32</td>\n",
              "      <td>0.060075</td>\n",
              "      <td>0.083682</td>\n",
              "      <td>0.002611</td>\n",
              "      <td>243</td>\n",
              "      <td>965</td>\n",
              "      <td>1614</td>\n",
              "      <td>0.078021</td>\n",
              "      <td>0.216443</td>\n",
              "      <td>0.067234</td>\n",
              "      <td>444</td>\n",
              "      <td>1519</td>\n",
              "      <td>2421</td>\n",
              "      <td>0.142534</td>\n",
              "      <td>0.340768</td>\n",
              "      <td>0.100833</td>\n",
              "      <td>177</td>\n",
              "      <td>1301</td>\n",
              "      <td>4538</td>\n",
              "      <td>0.056639</td>\n",
              "      <td>0.291889</td>\n",
              "      <td>0.189039</td>\n",
              "      <td>1</td>\n",
              "      <td>0</td>\n",
              "      <td>0</td>\n",
              "      <td>0</td>\n",
              "    </tr>\n",
              "    <tr>\n",
              "      <th>529</th>\n",
              "      <td>Maine</td>\n",
              "      <td>2012</td>\n",
              "      <td>94988</td>\n",
              "      <td>128694</td>\n",
              "      <td>923093</td>\n",
              "      <td>3</td>\n",
              "      <td>19</td>\n",
              "      <td>50</td>\n",
              "      <td>0.032386</td>\n",
              "      <td>0.150001</td>\n",
              "      <td>0.054684</td>\n",
              "      <td>12</td>\n",
              "      <td>83</td>\n",
              "      <td>532</td>\n",
              "      <td>0.123592</td>\n",
              "      <td>0.641099</td>\n",
              "      <td>0.576761</td>\n",
              "      <td>7</td>\n",
              "      <td>43</td>\n",
              "      <td>215</td>\n",
              "      <td>0.072312</td>\n",
              "      <td>0.334299</td>\n",
              "      <td>0.233243</td>\n",
              "      <td>1</td>\n",
              "      <td>6</td>\n",
              "      <td>10</td>\n",
              "      <td>0.005762</td>\n",
              "      <td>0.050131</td>\n",
              "      <td>0.010994</td>\n",
              "      <td>5</td>\n",
              "      <td>6</td>\n",
              "      <td>1</td>\n",
              "      <td>0.062973</td>\n",
              "      <td>0.106022</td>\n",
              "      <td>0.002668</td>\n",
              "      <td>9</td>\n",
              "      <td>32</td>\n",
              "      <td>73</td>\n",
              "      <td>0.092609</td>\n",
              "      <td>0.247109</td>\n",
              "      <td>0.079523</td>\n",
              "      <td>15</td>\n",
              "      <td>50</td>\n",
              "      <td>121</td>\n",
              "      <td>0.159860</td>\n",
              "      <td>0.387803</td>\n",
              "      <td>0.131150</td>\n",
              "      <td>9</td>\n",
              "      <td>55</td>\n",
              "      <td>247</td>\n",
              "      <td>0.090191</td>\n",
              "      <td>0.423635</td>\n",
              "      <td>0.267524</td>\n",
              "      <td>0</td>\n",
              "      <td>1</td>\n",
              "      <td>0</td>\n",
              "      <td>0</td>\n",
              "    </tr>\n",
              "    <tr>\n",
              "      <th>531</th>\n",
              "      <td>Massachusetts</td>\n",
              "      <td>2012</td>\n",
              "      <td>491273</td>\n",
              "      <td>775063</td>\n",
              "      <td>4420226</td>\n",
              "      <td>16</td>\n",
              "      <td>115</td>\n",
              "      <td>272</td>\n",
              "      <td>0.032773</td>\n",
              "      <td>0.148762</td>\n",
              "      <td>0.061563</td>\n",
              "      <td>71</td>\n",
              "      <td>545</td>\n",
              "      <td>3066</td>\n",
              "      <td>0.144917</td>\n",
              "      <td>0.703182</td>\n",
              "      <td>0.693528</td>\n",
              "      <td>27</td>\n",
              "      <td>214</td>\n",
              "      <td>804</td>\n",
              "      <td>0.055696</td>\n",
              "      <td>0.276011</td>\n",
              "      <td>0.181970</td>\n",
              "      <td>4</td>\n",
              "      <td>46</td>\n",
              "      <td>79</td>\n",
              "      <td>0.007420</td>\n",
              "      <td>0.059941</td>\n",
              "      <td>0.017916</td>\n",
              "      <td>27</td>\n",
              "      <td>40</td>\n",
              "      <td>5</td>\n",
              "      <td>0.065645</td>\n",
              "      <td>0.118002</td>\n",
              "      <td>0.002911</td>\n",
              "      <td>44</td>\n",
              "      <td>206</td>\n",
              "      <td>313</td>\n",
              "      <td>0.089000</td>\n",
              "      <td>0.266410</td>\n",
              "      <td>0.070714</td>\n",
              "      <td>74</td>\n",
              "      <td>324</td>\n",
              "      <td>487</td>\n",
              "      <td>0.150514</td>\n",
              "      <td>0.418644</td>\n",
              "      <td>0.110193</td>\n",
              "      <td>39</td>\n",
              "      <td>264</td>\n",
              "      <td>998</td>\n",
              "      <td>0.078875</td>\n",
              "      <td>0.340317</td>\n",
              "      <td>0.225705</td>\n",
              "      <td>0</td>\n",
              "      <td>0</td>\n",
              "      <td>1</td>\n",
              "      <td>0</td>\n",
              "    </tr>\n",
              "    <tr>\n",
              "      <th>538</th>\n",
              "      <td>Nevada</td>\n",
              "      <td>2012</td>\n",
              "      <td>221167</td>\n",
              "      <td>285463</td>\n",
              "      <td>1788826</td>\n",
              "      <td>7</td>\n",
              "      <td>40</td>\n",
              "      <td>129</td>\n",
              "      <td>0.031144</td>\n",
              "      <td>0.140728</td>\n",
              "      <td>0.072210</td>\n",
              "      <td>28</td>\n",
              "      <td>168</td>\n",
              "      <td>1058</td>\n",
              "      <td>0.127593</td>\n",
              "      <td>0.589455</td>\n",
              "      <td>0.591534</td>\n",
              "      <td>13</td>\n",
              "      <td>94</td>\n",
              "      <td>447</td>\n",
              "      <td>0.060457</td>\n",
              "      <td>0.329967</td>\n",
              "      <td>0.249717</td>\n",
              "      <td>1</td>\n",
              "      <td>11</td>\n",
              "      <td>21</td>\n",
              "      <td>0.006408</td>\n",
              "      <td>0.039133</td>\n",
              "      <td>0.011728</td>\n",
              "      <td>11</td>\n",
              "      <td>10</td>\n",
              "      <td>2</td>\n",
              "      <td>0.060721</td>\n",
              "      <td>0.075439</td>\n",
              "      <td>0.002708</td>\n",
              "      <td>18</td>\n",
              "      <td>53</td>\n",
              "      <td>112</td>\n",
              "      <td>0.083290</td>\n",
              "      <td>0.185582</td>\n",
              "      <td>0.062526</td>\n",
              "      <td>35</td>\n",
              "      <td>88</td>\n",
              "      <td>200</td>\n",
              "      <td>0.158383</td>\n",
              "      <td>0.309623</td>\n",
              "      <td>0.111897</td>\n",
              "      <td>18</td>\n",
              "      <td>108</td>\n",
              "      <td>501</td>\n",
              "      <td>0.083046</td>\n",
              "      <td>0.379613</td>\n",
              "      <td>0.280334</td>\n",
              "      <td>0</td>\n",
              "      <td>0</td>\n",
              "      <td>0</td>\n",
              "      <td>1</td>\n",
              "    </tr>\n",
              "    <tr>\n",
              "      <th>565</th>\n",
              "      <td>California</td>\n",
              "      <td>2013</td>\n",
              "      <td>3080548</td>\n",
              "      <td>4469106</td>\n",
              "      <td>24421137</td>\n",
              "      <td>85</td>\n",
              "      <td>582</td>\n",
              "      <td>1460</td>\n",
              "      <td>0.027535</td>\n",
              "      <td>0.130143</td>\n",
              "      <td>0.059793</td>\n",
              "      <td>370</td>\n",
              "      <td>2577</td>\n",
              "      <td>13257</td>\n",
              "      <td>0.120096</td>\n",
              "      <td>0.576724</td>\n",
              "      <td>0.542839</td>\n",
              "      <td>113</td>\n",
              "      <td>1073</td>\n",
              "      <td>3696</td>\n",
              "      <td>0.036585</td>\n",
              "      <td>0.240124</td>\n",
              "      <td>0.151351</td>\n",
              "      <td>28</td>\n",
              "      <td>273</td>\n",
              "      <td>382</td>\n",
              "      <td>0.008933</td>\n",
              "      <td>0.061104</td>\n",
              "      <td>0.015660</td>\n",
              "      <td>165</td>\n",
              "      <td>195</td>\n",
              "      <td>38</td>\n",
              "      <td>0.061609</td>\n",
              "      <td>0.085629</td>\n",
              "      <td>0.002854</td>\n",
              "      <td>269</td>\n",
              "      <td>941</td>\n",
              "      <td>1733</td>\n",
              "      <td>0.087369</td>\n",
              "      <td>0.210463</td>\n",
              "      <td>0.070944</td>\n",
              "      <td>463</td>\n",
              "      <td>1506</td>\n",
              "      <td>2664</td>\n",
              "      <td>0.150342</td>\n",
              "      <td>0.336943</td>\n",
              "      <td>0.109081</td>\n",
              "      <td>154</td>\n",
              "      <td>1235</td>\n",
              "      <td>4493</td>\n",
              "      <td>0.049979</td>\n",
              "      <td>0.276361</td>\n",
              "      <td>0.183998</td>\n",
              "      <td>1</td>\n",
              "      <td>0</td>\n",
              "      <td>0</td>\n",
              "      <td>0</td>\n",
              "    </tr>\n",
              "  </tbody>\n",
              "</table>\n",
              "</div>\n",
              "      <button class=\"colab-df-convert\" onclick=\"convertToInteractive('df-c5c8a16c-72d3-4699-bbb3-0e31f57e615c')\"\n",
              "              title=\"Convert this dataframe to an interactive table.\"\n",
              "              style=\"display:none;\">\n",
              "        \n",
              "  <svg xmlns=\"http://www.w3.org/2000/svg\" height=\"24px\"viewBox=\"0 0 24 24\"\n",
              "       width=\"24px\">\n",
              "    <path d=\"M0 0h24v24H0V0z\" fill=\"none\"/>\n",
              "    <path d=\"M18.56 5.44l.94 2.06.94-2.06 2.06-.94-2.06-.94-.94-2.06-.94 2.06-2.06.94zm-11 1L8.5 8.5l.94-2.06 2.06-.94-2.06-.94L8.5 2.5l-.94 2.06-2.06.94zm10 10l.94 2.06.94-2.06 2.06-.94-2.06-.94-.94-2.06-.94 2.06-2.06.94z\"/><path d=\"M17.41 7.96l-1.37-1.37c-.4-.4-.92-.59-1.43-.59-.52 0-1.04.2-1.43.59L10.3 9.45l-7.72 7.72c-.78.78-.78 2.05 0 2.83L4 21.41c.39.39.9.59 1.41.59.51 0 1.02-.2 1.41-.59l7.78-7.78 2.81-2.81c.8-.78.8-2.07 0-2.86zM5.41 20L4 18.59l7.72-7.72 1.47 1.35L5.41 20z\"/>\n",
              "  </svg>\n",
              "      </button>\n",
              "      \n",
              "  <style>\n",
              "    .colab-df-container {\n",
              "      display:flex;\n",
              "      flex-wrap:wrap;\n",
              "      gap: 12px;\n",
              "    }\n",
              "\n",
              "    .colab-df-convert {\n",
              "      background-color: #E8F0FE;\n",
              "      border: none;\n",
              "      border-radius: 50%;\n",
              "      cursor: pointer;\n",
              "      display: none;\n",
              "      fill: #1967D2;\n",
              "      height: 32px;\n",
              "      padding: 0 0 0 0;\n",
              "      width: 32px;\n",
              "    }\n",
              "\n",
              "    .colab-df-convert:hover {\n",
              "      background-color: #E2EBFA;\n",
              "      box-shadow: 0px 1px 2px rgba(60, 64, 67, 0.3), 0px 1px 3px 1px rgba(60, 64, 67, 0.15);\n",
              "      fill: #174EA6;\n",
              "    }\n",
              "\n",
              "    [theme=dark] .colab-df-convert {\n",
              "      background-color: #3B4455;\n",
              "      fill: #D2E3FC;\n",
              "    }\n",
              "\n",
              "    [theme=dark] .colab-df-convert:hover {\n",
              "      background-color: #434B5C;\n",
              "      box-shadow: 0px 1px 3px 1px rgba(0, 0, 0, 0.15);\n",
              "      filter: drop-shadow(0px 1px 2px rgba(0, 0, 0, 0.3));\n",
              "      fill: #FFFFFF;\n",
              "    }\n",
              "  </style>\n",
              "\n",
              "      <script>\n",
              "        const buttonEl =\n",
              "          document.querySelector('#df-c5c8a16c-72d3-4699-bbb3-0e31f57e615c button.colab-df-convert');\n",
              "        buttonEl.style.display =\n",
              "          google.colab.kernel.accessAllowed ? 'block' : 'none';\n",
              "\n",
              "        async function convertToInteractive(key) {\n",
              "          const element = document.querySelector('#df-c5c8a16c-72d3-4699-bbb3-0e31f57e615c');\n",
              "          const dataTable =\n",
              "            await google.colab.kernel.invokeFunction('convertToInteractive',\n",
              "                                                     [key], {});\n",
              "          if (!dataTable) return;\n",
              "\n",
              "          const docLinkHtml = 'Like what you see? Visit the ' +\n",
              "            '<a target=\"_blank\" href=https://colab.research.google.com/notebooks/data_table.ipynb>data table notebook</a>'\n",
              "            + ' to learn more about interactive tables.';\n",
              "          element.innerHTML = '';\n",
              "          dataTable['output_type'] = 'display_data';\n",
              "          await google.colab.output.renderOutput(dataTable, element);\n",
              "          const docLink = document.createElement('div');\n",
              "          docLink.innerHTML = docLinkHtml;\n",
              "          element.appendChild(docLink);\n",
              "        }\n",
              "      </script>\n",
              "    </div>\n",
              "  </div>\n",
              "  "
            ]
          },
          "metadata": {},
          "execution_count": 25
        }
      ]
    },
    {
      "cell_type": "code",
      "source": [
        "#create time variable\n",
        "states_model[\"time\"] = states_model[\"Year\"] - 2016\n",
        "\n",
        "#create treatment variable centered around 2016\n",
        "states_model[\"treatment\"] = [1 if x > 2016 else 0 for x in states_model[\"Year\"]]\n",
        "\n",
        "#create interaction term\n",
        "states_model[\"interaction\"] = states_model[\"treatment\"] * states_model[\"time\"]"
      ],
      "metadata": {
        "id": "GtgJjvdzwC_U"
      },
      "execution_count": null,
      "outputs": []
    },
    {
      "cell_type": "code",
      "source": [
        "states_model.head()"
      ],
      "metadata": {
        "colab": {
          "base_uri": "https://localhost:8080/",
          "height": 322
        },
        "id": "EaflDRP1wGN-",
        "outputId": "2844969c-dde3-49f1-ac3b-8604354a140d"
      },
      "execution_count": null,
      "outputs": [
        {
          "output_type": "execute_result",
          "data": {
            "text/plain": [
              "             State  Year  Population.12-17  Population.18-25  Population.26+  \\\n",
              "514     California  2012           3117442           4458805        24005740   \n",
              "529          Maine  2012             94988            128694          923093   \n",
              "531  Massachusetts  2012            491273            775063         4420226   \n",
              "538         Nevada  2012            221167            285463         1788826   \n",
              "565     California  2013           3080548           4469106        24421137   \n",
              "\n",
              "     Totals.Alcohol.Use Disorder Past Year.12-17  \\\n",
              "514                                           95   \n",
              "529                                            3   \n",
              "531                                           16   \n",
              "538                                            7   \n",
              "565                                           85   \n",
              "\n",
              "     Totals.Alcohol.Use Disorder Past Year.18-25  \\\n",
              "514                                          653   \n",
              "529                                           19   \n",
              "531                                          115   \n",
              "538                                           40   \n",
              "565                                          582   \n",
              "\n",
              "     Totals.Alcohol.Use Disorder Past Year.26+  \\\n",
              "514                                       1559   \n",
              "529                                         50   \n",
              "531                                        272   \n",
              "538                                        129   \n",
              "565                                       1460   \n",
              "\n",
              "     Rates.Alcohol.Use Disorder Past Year.12-17  \\\n",
              "514                                    0.030527   \n",
              "529                                    0.032386   \n",
              "531                                    0.032773   \n",
              "538                                    0.031144   \n",
              "565                                    0.027535   \n",
              "\n",
              "     Rates.Alcohol.Use Disorder Past Year.18-25  \\\n",
              "514                                    0.146444   \n",
              "529                                    0.150001   \n",
              "531                                    0.148762   \n",
              "538                                    0.140728   \n",
              "565                                    0.130143   \n",
              "\n",
              "     Rates.Alcohol.Use Disorder Past Year.26+  \\\n",
              "514                                  0.064924   \n",
              "529                                  0.054684   \n",
              "531                                  0.061563   \n",
              "538                                  0.072210   \n",
              "565                                  0.059793   \n",
              "\n",
              "     Totals.Alcohol.Use Past Month.12-17  Totals.Alcohol.Use Past Month.18-25  \\\n",
              "514                                  362                                 2567   \n",
              "529                                   12                                   83   \n",
              "531                                   71                                  545   \n",
              "538                                   28                                  168   \n",
              "565                                  370                                 2577   \n",
              "\n",
              "     Totals.Alcohol.Use Past Month.26+  Rates.Alcohol.Use Past Month.12-17  \\\n",
              "514                              12683                            0.116041   \n",
              "529                                532                            0.123592   \n",
              "531                               3066                            0.144917   \n",
              "538                               1058                            0.127593   \n",
              "565                              13257                            0.120096   \n",
              "\n",
              "     Rates.Alcohol.Use Past Month.18-25  Rates.Alcohol.Use Past Month.26+  \\\n",
              "514                            0.575645                          0.528317   \n",
              "529                            0.641099                          0.576761   \n",
              "531                            0.703182                          0.693528   \n",
              "538                            0.589455                          0.591534   \n",
              "565                            0.576724                          0.542839   \n",
              "\n",
              "     Totals.Tobacco.Cigarette Past Month.12-17  \\\n",
              "514                                        134   \n",
              "529                                          7   \n",
              "531                                         27   \n",
              "538                                         13   \n",
              "565                                        113   \n",
              "\n",
              "     Totals.Tobacco.Cigarette Past Month.18-25  \\\n",
              "514                                       1152   \n",
              "529                                         43   \n",
              "531                                        214   \n",
              "538                                         94   \n",
              "565                                       1073   \n",
              "\n",
              "     Totals.Tobacco.Cigarette Past Month.26+  \\\n",
              "514                                     3861   \n",
              "529                                      215   \n",
              "531                                      804   \n",
              "538                                      447   \n",
              "565                                     3696   \n",
              "\n",
              "     Rates.Tobacco.Cigarette Past Month.12-17  \\\n",
              "514                                  0.043055   \n",
              "529                                  0.072312   \n",
              "531                                  0.055696   \n",
              "538                                  0.060457   \n",
              "565                                  0.036585   \n",
              "\n",
              "     Rates.Tobacco.Cigarette Past Month.18-25  \\\n",
              "514                                  0.258330   \n",
              "529                                  0.334299   \n",
              "531                                  0.276011   \n",
              "538                                  0.329967   \n",
              "565                                  0.240124   \n",
              "\n",
              "     Rates.Tobacco.Cigarette Past Month.26+  \\\n",
              "514                                0.160830   \n",
              "529                                0.233243   \n",
              "531                                0.181970   \n",
              "538                                0.249717   \n",
              "565                                0.151351   \n",
              "\n",
              "     Totals.Illicit Drugs.Cocaine Used Past Year.12-17  \\\n",
              "514                                                 25   \n",
              "529                                                  1   \n",
              "531                                                  4   \n",
              "538                                                  1   \n",
              "565                                                 28   \n",
              "\n",
              "     Totals.Illicit Drugs.Cocaine Used Past Year.18-25  \\\n",
              "514                                                278   \n",
              "529                                                  6   \n",
              "531                                                 46   \n",
              "538                                                 11   \n",
              "565                                                273   \n",
              "\n",
              "     Totals.Illicit Drugs.Cocaine Used Past Year.26+  \\\n",
              "514                                              361   \n",
              "529                                               10   \n",
              "531                                               79   \n",
              "538                                               21   \n",
              "565                                              382   \n",
              "\n",
              "     Rates.Illicit Drugs.Cocaine Used Past Year.12-17  \\\n",
              "514                                          0.007861   \n",
              "529                                          0.005762   \n",
              "531                                          0.007420   \n",
              "538                                          0.006408   \n",
              "565                                          0.008933   \n",
              "\n",
              "     Rates.Illicit Drugs.Cocaine Used Past Year.18-25  \\\n",
              "514                                          0.062297   \n",
              "529                                          0.050131   \n",
              "531                                          0.059941   \n",
              "538                                          0.039133   \n",
              "565                                          0.061104   \n",
              "\n",
              "     Rates.Illicit Drugs.Cocaine Used Past Year.26+  \\\n",
              "514                                        0.015047   \n",
              "529                                        0.010994   \n",
              "531                                        0.017916   \n",
              "538                                        0.011728   \n",
              "565                                        0.015660   \n",
              "\n",
              "     Totals.Marijuana.New Users.12-17  Totals.Marijuana.New Users.18-25  \\\n",
              "514                               164                               193   \n",
              "529                                 5                                 6   \n",
              "531                                27                                40   \n",
              "538                                11                                10   \n",
              "565                               165                               195   \n",
              "\n",
              "     Totals.Marijuana.New Users.26+  Rates.Marijuana.New Users.12-17  \\\n",
              "514                              32                         0.060075   \n",
              "529                               1                         0.062973   \n",
              "531                               5                         0.065645   \n",
              "538                               2                         0.060721   \n",
              "565                              38                         0.061609   \n",
              "\n",
              "     Rates.Marijuana.New Users.18-25  Rates.Marijuana.New Users.26+  \\\n",
              "514                         0.083682                       0.002611   \n",
              "529                         0.106022                       0.002668   \n",
              "531                         0.118002                       0.002911   \n",
              "538                         0.075439                       0.002708   \n",
              "565                         0.085629                       0.002854   \n",
              "\n",
              "     Totals.Marijuana.Used Past Month.12-17  \\\n",
              "514                                     243   \n",
              "529                                       9   \n",
              "531                                      44   \n",
              "538                                      18   \n",
              "565                                     269   \n",
              "\n",
              "     Totals.Marijuana.Used Past Month.18-25  \\\n",
              "514                                     965   \n",
              "529                                      32   \n",
              "531                                     206   \n",
              "538                                      53   \n",
              "565                                     941   \n",
              "\n",
              "     Totals.Marijuana.Used Past Month.26+  \\\n",
              "514                                  1614   \n",
              "529                                    73   \n",
              "531                                   313   \n",
              "538                                   112   \n",
              "565                                  1733   \n",
              "\n",
              "     Rates.Marijuana.Used Past Month.12-17  \\\n",
              "514                               0.078021   \n",
              "529                               0.092609   \n",
              "531                               0.089000   \n",
              "538                               0.083290   \n",
              "565                               0.087369   \n",
              "\n",
              "     Rates.Marijuana.Used Past Month.18-25  \\\n",
              "514                               0.216443   \n",
              "529                               0.247109   \n",
              "531                               0.266410   \n",
              "538                               0.185582   \n",
              "565                               0.210463   \n",
              "\n",
              "     Rates.Marijuana.Used Past Month.26+  \\\n",
              "514                             0.067234   \n",
              "529                             0.079523   \n",
              "531                             0.070714   \n",
              "538                             0.062526   \n",
              "565                             0.070944   \n",
              "\n",
              "     Totals.Marijuana.Used Past Year.12-17  \\\n",
              "514                                    444   \n",
              "529                                     15   \n",
              "531                                     74   \n",
              "538                                     35   \n",
              "565                                    463   \n",
              "\n",
              "     Totals.Marijuana.Used Past Year.18-25  \\\n",
              "514                                   1519   \n",
              "529                                     50   \n",
              "531                                    324   \n",
              "538                                     88   \n",
              "565                                   1506   \n",
              "\n",
              "     Totals.Marijuana.Used Past Year.26+  \\\n",
              "514                                 2421   \n",
              "529                                  121   \n",
              "531                                  487   \n",
              "538                                  200   \n",
              "565                                 2664   \n",
              "\n",
              "     Rates.Marijuana.Used Past Year.12-17  \\\n",
              "514                              0.142534   \n",
              "529                              0.159860   \n",
              "531                              0.150514   \n",
              "538                              0.158383   \n",
              "565                              0.150342   \n",
              "\n",
              "     Rates.Marijuana.Used Past Year.18-25  Rates.Marijuana.Used Past Year.26+  \\\n",
              "514                              0.340768                            0.100833   \n",
              "529                              0.387803                            0.131150   \n",
              "531                              0.418644                            0.110193   \n",
              "538                              0.309623                            0.111897   \n",
              "565                              0.336943                            0.109081   \n",
              "\n",
              "     Totals.Tobacco.Use Past Month.12-17  Totals.Tobacco.Use Past Month.18-25  \\\n",
              "514                                  177                                 1301   \n",
              "529                                    9                                   55   \n",
              "531                                   39                                  264   \n",
              "538                                   18                                  108   \n",
              "565                                  154                                 1235   \n",
              "\n",
              "     Totals.Tobacco.Use Past Month.26+  Rates.Tobacco.Use Past Month.12-17  \\\n",
              "514                               4538                            0.056639   \n",
              "529                                247                            0.090191   \n",
              "531                                998                            0.078875   \n",
              "538                                501                            0.083046   \n",
              "565                               4493                            0.049979   \n",
              "\n",
              "     Rates.Tobacco.Use Past Month.18-25  Rates.Tobacco.Use Past Month.26+  \\\n",
              "514                            0.291889                          0.189039   \n",
              "529                            0.423635                          0.267524   \n",
              "531                            0.340317                          0.225705   \n",
              "538                            0.379613                          0.280334   \n",
              "565                            0.276361                          0.183998   \n",
              "\n",
              "     state__California  state__Maine  state__Massachusetts  state__Nevada  \\\n",
              "514                  1             0                     0              0   \n",
              "529                  0             1                     0              0   \n",
              "531                  0             0                     1              0   \n",
              "538                  0             0                     0              1   \n",
              "565                  1             0                     0              0   \n",
              "\n",
              "     time  treatment  interaction  \n",
              "514    -4          0            0  \n",
              "529    -4          0            0  \n",
              "531    -4          0            0  \n",
              "538    -4          0            0  \n",
              "565    -3          0            0  "
            ],
            "text/html": [
              "\n",
              "  <div id=\"df-d888c977-9d6a-47b5-81c9-ab6bdffe1919\">\n",
              "    <div class=\"colab-df-container\">\n",
              "      <div>\n",
              "<style scoped>\n",
              "    .dataframe tbody tr th:only-of-type {\n",
              "        vertical-align: middle;\n",
              "    }\n",
              "\n",
              "    .dataframe tbody tr th {\n",
              "        vertical-align: top;\n",
              "    }\n",
              "\n",
              "    .dataframe thead th {\n",
              "        text-align: right;\n",
              "    }\n",
              "</style>\n",
              "<table border=\"1\" class=\"dataframe\">\n",
              "  <thead>\n",
              "    <tr style=\"text-align: right;\">\n",
              "      <th></th>\n",
              "      <th>State</th>\n",
              "      <th>Year</th>\n",
              "      <th>Population.12-17</th>\n",
              "      <th>Population.18-25</th>\n",
              "      <th>Population.26+</th>\n",
              "      <th>Totals.Alcohol.Use Disorder Past Year.12-17</th>\n",
              "      <th>Totals.Alcohol.Use Disorder Past Year.18-25</th>\n",
              "      <th>Totals.Alcohol.Use Disorder Past Year.26+</th>\n",
              "      <th>Rates.Alcohol.Use Disorder Past Year.12-17</th>\n",
              "      <th>Rates.Alcohol.Use Disorder Past Year.18-25</th>\n",
              "      <th>Rates.Alcohol.Use Disorder Past Year.26+</th>\n",
              "      <th>Totals.Alcohol.Use Past Month.12-17</th>\n",
              "      <th>Totals.Alcohol.Use Past Month.18-25</th>\n",
              "      <th>Totals.Alcohol.Use Past Month.26+</th>\n",
              "      <th>Rates.Alcohol.Use Past Month.12-17</th>\n",
              "      <th>Rates.Alcohol.Use Past Month.18-25</th>\n",
              "      <th>Rates.Alcohol.Use Past Month.26+</th>\n",
              "      <th>Totals.Tobacco.Cigarette Past Month.12-17</th>\n",
              "      <th>Totals.Tobacco.Cigarette Past Month.18-25</th>\n",
              "      <th>Totals.Tobacco.Cigarette Past Month.26+</th>\n",
              "      <th>Rates.Tobacco.Cigarette Past Month.12-17</th>\n",
              "      <th>Rates.Tobacco.Cigarette Past Month.18-25</th>\n",
              "      <th>Rates.Tobacco.Cigarette Past Month.26+</th>\n",
              "      <th>Totals.Illicit Drugs.Cocaine Used Past Year.12-17</th>\n",
              "      <th>Totals.Illicit Drugs.Cocaine Used Past Year.18-25</th>\n",
              "      <th>Totals.Illicit Drugs.Cocaine Used Past Year.26+</th>\n",
              "      <th>Rates.Illicit Drugs.Cocaine Used Past Year.12-17</th>\n",
              "      <th>Rates.Illicit Drugs.Cocaine Used Past Year.18-25</th>\n",
              "      <th>Rates.Illicit Drugs.Cocaine Used Past Year.26+</th>\n",
              "      <th>Totals.Marijuana.New Users.12-17</th>\n",
              "      <th>Totals.Marijuana.New Users.18-25</th>\n",
              "      <th>Totals.Marijuana.New Users.26+</th>\n",
              "      <th>Rates.Marijuana.New Users.12-17</th>\n",
              "      <th>Rates.Marijuana.New Users.18-25</th>\n",
              "      <th>Rates.Marijuana.New Users.26+</th>\n",
              "      <th>Totals.Marijuana.Used Past Month.12-17</th>\n",
              "      <th>Totals.Marijuana.Used Past Month.18-25</th>\n",
              "      <th>Totals.Marijuana.Used Past Month.26+</th>\n",
              "      <th>Rates.Marijuana.Used Past Month.12-17</th>\n",
              "      <th>Rates.Marijuana.Used Past Month.18-25</th>\n",
              "      <th>Rates.Marijuana.Used Past Month.26+</th>\n",
              "      <th>Totals.Marijuana.Used Past Year.12-17</th>\n",
              "      <th>Totals.Marijuana.Used Past Year.18-25</th>\n",
              "      <th>Totals.Marijuana.Used Past Year.26+</th>\n",
              "      <th>Rates.Marijuana.Used Past Year.12-17</th>\n",
              "      <th>Rates.Marijuana.Used Past Year.18-25</th>\n",
              "      <th>Rates.Marijuana.Used Past Year.26+</th>\n",
              "      <th>Totals.Tobacco.Use Past Month.12-17</th>\n",
              "      <th>Totals.Tobacco.Use Past Month.18-25</th>\n",
              "      <th>Totals.Tobacco.Use Past Month.26+</th>\n",
              "      <th>Rates.Tobacco.Use Past Month.12-17</th>\n",
              "      <th>Rates.Tobacco.Use Past Month.18-25</th>\n",
              "      <th>Rates.Tobacco.Use Past Month.26+</th>\n",
              "      <th>state__California</th>\n",
              "      <th>state__Maine</th>\n",
              "      <th>state__Massachusetts</th>\n",
              "      <th>state__Nevada</th>\n",
              "      <th>time</th>\n",
              "      <th>treatment</th>\n",
              "      <th>interaction</th>\n",
              "    </tr>\n",
              "  </thead>\n",
              "  <tbody>\n",
              "    <tr>\n",
              "      <th>514</th>\n",
              "      <td>California</td>\n",
              "      <td>2012</td>\n",
              "      <td>3117442</td>\n",
              "      <td>4458805</td>\n",
              "      <td>24005740</td>\n",
              "      <td>95</td>\n",
              "      <td>653</td>\n",
              "      <td>1559</td>\n",
              "      <td>0.030527</td>\n",
              "      <td>0.146444</td>\n",
              "      <td>0.064924</td>\n",
              "      <td>362</td>\n",
              "      <td>2567</td>\n",
              "      <td>12683</td>\n",
              "      <td>0.116041</td>\n",
              "      <td>0.575645</td>\n",
              "      <td>0.528317</td>\n",
              "      <td>134</td>\n",
              "      <td>1152</td>\n",
              "      <td>3861</td>\n",
              "      <td>0.043055</td>\n",
              "      <td>0.258330</td>\n",
              "      <td>0.160830</td>\n",
              "      <td>25</td>\n",
              "      <td>278</td>\n",
              "      <td>361</td>\n",
              "      <td>0.007861</td>\n",
              "      <td>0.062297</td>\n",
              "      <td>0.015047</td>\n",
              "      <td>164</td>\n",
              "      <td>193</td>\n",
              "      <td>32</td>\n",
              "      <td>0.060075</td>\n",
              "      <td>0.083682</td>\n",
              "      <td>0.002611</td>\n",
              "      <td>243</td>\n",
              "      <td>965</td>\n",
              "      <td>1614</td>\n",
              "      <td>0.078021</td>\n",
              "      <td>0.216443</td>\n",
              "      <td>0.067234</td>\n",
              "      <td>444</td>\n",
              "      <td>1519</td>\n",
              "      <td>2421</td>\n",
              "      <td>0.142534</td>\n",
              "      <td>0.340768</td>\n",
              "      <td>0.100833</td>\n",
              "      <td>177</td>\n",
              "      <td>1301</td>\n",
              "      <td>4538</td>\n",
              "      <td>0.056639</td>\n",
              "      <td>0.291889</td>\n",
              "      <td>0.189039</td>\n",
              "      <td>1</td>\n",
              "      <td>0</td>\n",
              "      <td>0</td>\n",
              "      <td>0</td>\n",
              "      <td>-4</td>\n",
              "      <td>0</td>\n",
              "      <td>0</td>\n",
              "    </tr>\n",
              "    <tr>\n",
              "      <th>529</th>\n",
              "      <td>Maine</td>\n",
              "      <td>2012</td>\n",
              "      <td>94988</td>\n",
              "      <td>128694</td>\n",
              "      <td>923093</td>\n",
              "      <td>3</td>\n",
              "      <td>19</td>\n",
              "      <td>50</td>\n",
              "      <td>0.032386</td>\n",
              "      <td>0.150001</td>\n",
              "      <td>0.054684</td>\n",
              "      <td>12</td>\n",
              "      <td>83</td>\n",
              "      <td>532</td>\n",
              "      <td>0.123592</td>\n",
              "      <td>0.641099</td>\n",
              "      <td>0.576761</td>\n",
              "      <td>7</td>\n",
              "      <td>43</td>\n",
              "      <td>215</td>\n",
              "      <td>0.072312</td>\n",
              "      <td>0.334299</td>\n",
              "      <td>0.233243</td>\n",
              "      <td>1</td>\n",
              "      <td>6</td>\n",
              "      <td>10</td>\n",
              "      <td>0.005762</td>\n",
              "      <td>0.050131</td>\n",
              "      <td>0.010994</td>\n",
              "      <td>5</td>\n",
              "      <td>6</td>\n",
              "      <td>1</td>\n",
              "      <td>0.062973</td>\n",
              "      <td>0.106022</td>\n",
              "      <td>0.002668</td>\n",
              "      <td>9</td>\n",
              "      <td>32</td>\n",
              "      <td>73</td>\n",
              "      <td>0.092609</td>\n",
              "      <td>0.247109</td>\n",
              "      <td>0.079523</td>\n",
              "      <td>15</td>\n",
              "      <td>50</td>\n",
              "      <td>121</td>\n",
              "      <td>0.159860</td>\n",
              "      <td>0.387803</td>\n",
              "      <td>0.131150</td>\n",
              "      <td>9</td>\n",
              "      <td>55</td>\n",
              "      <td>247</td>\n",
              "      <td>0.090191</td>\n",
              "      <td>0.423635</td>\n",
              "      <td>0.267524</td>\n",
              "      <td>0</td>\n",
              "      <td>1</td>\n",
              "      <td>0</td>\n",
              "      <td>0</td>\n",
              "      <td>-4</td>\n",
              "      <td>0</td>\n",
              "      <td>0</td>\n",
              "    </tr>\n",
              "    <tr>\n",
              "      <th>531</th>\n",
              "      <td>Massachusetts</td>\n",
              "      <td>2012</td>\n",
              "      <td>491273</td>\n",
              "      <td>775063</td>\n",
              "      <td>4420226</td>\n",
              "      <td>16</td>\n",
              "      <td>115</td>\n",
              "      <td>272</td>\n",
              "      <td>0.032773</td>\n",
              "      <td>0.148762</td>\n",
              "      <td>0.061563</td>\n",
              "      <td>71</td>\n",
              "      <td>545</td>\n",
              "      <td>3066</td>\n",
              "      <td>0.144917</td>\n",
              "      <td>0.703182</td>\n",
              "      <td>0.693528</td>\n",
              "      <td>27</td>\n",
              "      <td>214</td>\n",
              "      <td>804</td>\n",
              "      <td>0.055696</td>\n",
              "      <td>0.276011</td>\n",
              "      <td>0.181970</td>\n",
              "      <td>4</td>\n",
              "      <td>46</td>\n",
              "      <td>79</td>\n",
              "      <td>0.007420</td>\n",
              "      <td>0.059941</td>\n",
              "      <td>0.017916</td>\n",
              "      <td>27</td>\n",
              "      <td>40</td>\n",
              "      <td>5</td>\n",
              "      <td>0.065645</td>\n",
              "      <td>0.118002</td>\n",
              "      <td>0.002911</td>\n",
              "      <td>44</td>\n",
              "      <td>206</td>\n",
              "      <td>313</td>\n",
              "      <td>0.089000</td>\n",
              "      <td>0.266410</td>\n",
              "      <td>0.070714</td>\n",
              "      <td>74</td>\n",
              "      <td>324</td>\n",
              "      <td>487</td>\n",
              "      <td>0.150514</td>\n",
              "      <td>0.418644</td>\n",
              "      <td>0.110193</td>\n",
              "      <td>39</td>\n",
              "      <td>264</td>\n",
              "      <td>998</td>\n",
              "      <td>0.078875</td>\n",
              "      <td>0.340317</td>\n",
              "      <td>0.225705</td>\n",
              "      <td>0</td>\n",
              "      <td>0</td>\n",
              "      <td>1</td>\n",
              "      <td>0</td>\n",
              "      <td>-4</td>\n",
              "      <td>0</td>\n",
              "      <td>0</td>\n",
              "    </tr>\n",
              "    <tr>\n",
              "      <th>538</th>\n",
              "      <td>Nevada</td>\n",
              "      <td>2012</td>\n",
              "      <td>221167</td>\n",
              "      <td>285463</td>\n",
              "      <td>1788826</td>\n",
              "      <td>7</td>\n",
              "      <td>40</td>\n",
              "      <td>129</td>\n",
              "      <td>0.031144</td>\n",
              "      <td>0.140728</td>\n",
              "      <td>0.072210</td>\n",
              "      <td>28</td>\n",
              "      <td>168</td>\n",
              "      <td>1058</td>\n",
              "      <td>0.127593</td>\n",
              "      <td>0.589455</td>\n",
              "      <td>0.591534</td>\n",
              "      <td>13</td>\n",
              "      <td>94</td>\n",
              "      <td>447</td>\n",
              "      <td>0.060457</td>\n",
              "      <td>0.329967</td>\n",
              "      <td>0.249717</td>\n",
              "      <td>1</td>\n",
              "      <td>11</td>\n",
              "      <td>21</td>\n",
              "      <td>0.006408</td>\n",
              "      <td>0.039133</td>\n",
              "      <td>0.011728</td>\n",
              "      <td>11</td>\n",
              "      <td>10</td>\n",
              "      <td>2</td>\n",
              "      <td>0.060721</td>\n",
              "      <td>0.075439</td>\n",
              "      <td>0.002708</td>\n",
              "      <td>18</td>\n",
              "      <td>53</td>\n",
              "      <td>112</td>\n",
              "      <td>0.083290</td>\n",
              "      <td>0.185582</td>\n",
              "      <td>0.062526</td>\n",
              "      <td>35</td>\n",
              "      <td>88</td>\n",
              "      <td>200</td>\n",
              "      <td>0.158383</td>\n",
              "      <td>0.309623</td>\n",
              "      <td>0.111897</td>\n",
              "      <td>18</td>\n",
              "      <td>108</td>\n",
              "      <td>501</td>\n",
              "      <td>0.083046</td>\n",
              "      <td>0.379613</td>\n",
              "      <td>0.280334</td>\n",
              "      <td>0</td>\n",
              "      <td>0</td>\n",
              "      <td>0</td>\n",
              "      <td>1</td>\n",
              "      <td>-4</td>\n",
              "      <td>0</td>\n",
              "      <td>0</td>\n",
              "    </tr>\n",
              "    <tr>\n",
              "      <th>565</th>\n",
              "      <td>California</td>\n",
              "      <td>2013</td>\n",
              "      <td>3080548</td>\n",
              "      <td>4469106</td>\n",
              "      <td>24421137</td>\n",
              "      <td>85</td>\n",
              "      <td>582</td>\n",
              "      <td>1460</td>\n",
              "      <td>0.027535</td>\n",
              "      <td>0.130143</td>\n",
              "      <td>0.059793</td>\n",
              "      <td>370</td>\n",
              "      <td>2577</td>\n",
              "      <td>13257</td>\n",
              "      <td>0.120096</td>\n",
              "      <td>0.576724</td>\n",
              "      <td>0.542839</td>\n",
              "      <td>113</td>\n",
              "      <td>1073</td>\n",
              "      <td>3696</td>\n",
              "      <td>0.036585</td>\n",
              "      <td>0.240124</td>\n",
              "      <td>0.151351</td>\n",
              "      <td>28</td>\n",
              "      <td>273</td>\n",
              "      <td>382</td>\n",
              "      <td>0.008933</td>\n",
              "      <td>0.061104</td>\n",
              "      <td>0.015660</td>\n",
              "      <td>165</td>\n",
              "      <td>195</td>\n",
              "      <td>38</td>\n",
              "      <td>0.061609</td>\n",
              "      <td>0.085629</td>\n",
              "      <td>0.002854</td>\n",
              "      <td>269</td>\n",
              "      <td>941</td>\n",
              "      <td>1733</td>\n",
              "      <td>0.087369</td>\n",
              "      <td>0.210463</td>\n",
              "      <td>0.070944</td>\n",
              "      <td>463</td>\n",
              "      <td>1506</td>\n",
              "      <td>2664</td>\n",
              "      <td>0.150342</td>\n",
              "      <td>0.336943</td>\n",
              "      <td>0.109081</td>\n",
              "      <td>154</td>\n",
              "      <td>1235</td>\n",
              "      <td>4493</td>\n",
              "      <td>0.049979</td>\n",
              "      <td>0.276361</td>\n",
              "      <td>0.183998</td>\n",
              "      <td>1</td>\n",
              "      <td>0</td>\n",
              "      <td>0</td>\n",
              "      <td>0</td>\n",
              "      <td>-3</td>\n",
              "      <td>0</td>\n",
              "      <td>0</td>\n",
              "    </tr>\n",
              "  </tbody>\n",
              "</table>\n",
              "</div>\n",
              "      <button class=\"colab-df-convert\" onclick=\"convertToInteractive('df-d888c977-9d6a-47b5-81c9-ab6bdffe1919')\"\n",
              "              title=\"Convert this dataframe to an interactive table.\"\n",
              "              style=\"display:none;\">\n",
              "        \n",
              "  <svg xmlns=\"http://www.w3.org/2000/svg\" height=\"24px\"viewBox=\"0 0 24 24\"\n",
              "       width=\"24px\">\n",
              "    <path d=\"M0 0h24v24H0V0z\" fill=\"none\"/>\n",
              "    <path d=\"M18.56 5.44l.94 2.06.94-2.06 2.06-.94-2.06-.94-.94-2.06-.94 2.06-2.06.94zm-11 1L8.5 8.5l.94-2.06 2.06-.94-2.06-.94L8.5 2.5l-.94 2.06-2.06.94zm10 10l.94 2.06.94-2.06 2.06-.94-2.06-.94-.94-2.06-.94 2.06-2.06.94z\"/><path d=\"M17.41 7.96l-1.37-1.37c-.4-.4-.92-.59-1.43-.59-.52 0-1.04.2-1.43.59L10.3 9.45l-7.72 7.72c-.78.78-.78 2.05 0 2.83L4 21.41c.39.39.9.59 1.41.59.51 0 1.02-.2 1.41-.59l7.78-7.78 2.81-2.81c.8-.78.8-2.07 0-2.86zM5.41 20L4 18.59l7.72-7.72 1.47 1.35L5.41 20z\"/>\n",
              "  </svg>\n",
              "      </button>\n",
              "      \n",
              "  <style>\n",
              "    .colab-df-container {\n",
              "      display:flex;\n",
              "      flex-wrap:wrap;\n",
              "      gap: 12px;\n",
              "    }\n",
              "\n",
              "    .colab-df-convert {\n",
              "      background-color: #E8F0FE;\n",
              "      border: none;\n",
              "      border-radius: 50%;\n",
              "      cursor: pointer;\n",
              "      display: none;\n",
              "      fill: #1967D2;\n",
              "      height: 32px;\n",
              "      padding: 0 0 0 0;\n",
              "      width: 32px;\n",
              "    }\n",
              "\n",
              "    .colab-df-convert:hover {\n",
              "      background-color: #E2EBFA;\n",
              "      box-shadow: 0px 1px 2px rgba(60, 64, 67, 0.3), 0px 1px 3px 1px rgba(60, 64, 67, 0.15);\n",
              "      fill: #174EA6;\n",
              "    }\n",
              "\n",
              "    [theme=dark] .colab-df-convert {\n",
              "      background-color: #3B4455;\n",
              "      fill: #D2E3FC;\n",
              "    }\n",
              "\n",
              "    [theme=dark] .colab-df-convert:hover {\n",
              "      background-color: #434B5C;\n",
              "      box-shadow: 0px 1px 3px 1px rgba(0, 0, 0, 0.15);\n",
              "      filter: drop-shadow(0px 1px 2px rgba(0, 0, 0, 0.3));\n",
              "      fill: #FFFFFF;\n",
              "    }\n",
              "  </style>\n",
              "\n",
              "      <script>\n",
              "        const buttonEl =\n",
              "          document.querySelector('#df-d888c977-9d6a-47b5-81c9-ab6bdffe1919 button.colab-df-convert');\n",
              "        buttonEl.style.display =\n",
              "          google.colab.kernel.accessAllowed ? 'block' : 'none';\n",
              "\n",
              "        async function convertToInteractive(key) {\n",
              "          const element = document.querySelector('#df-d888c977-9d6a-47b5-81c9-ab6bdffe1919');\n",
              "          const dataTable =\n",
              "            await google.colab.kernel.invokeFunction('convertToInteractive',\n",
              "                                                     [key], {});\n",
              "          if (!dataTable) return;\n",
              "\n",
              "          const docLinkHtml = 'Like what you see? Visit the ' +\n",
              "            '<a target=\"_blank\" href=https://colab.research.google.com/notebooks/data_table.ipynb>data table notebook</a>'\n",
              "            + ' to learn more about interactive tables.';\n",
              "          element.innerHTML = '';\n",
              "          dataTable['output_type'] = 'display_data';\n",
              "          await google.colab.output.renderOutput(dataTable, element);\n",
              "          const docLink = document.createElement('div');\n",
              "          docLink.innerHTML = docLinkHtml;\n",
              "          element.appendChild(docLink);\n",
              "        }\n",
              "      </script>\n",
              "    </div>\n",
              "  </div>\n",
              "  "
            ]
          },
          "metadata": {},
          "execution_count": 27
        }
      ]
    },
    {
      "cell_type": "code",
      "source": [
        "#separate out x (independent) and y (dependent) variables\n",
        "x = states_model.iloc[:, 53:60]\n",
        "y = states_model.loc[:, \"Rates.Marijuana.Used Past Month.18-25\"]"
      ],
      "metadata": {
        "id": "CHiL2d9EwG19"
      },
      "execution_count": null,
      "outputs": []
    },
    {
      "cell_type": "code",
      "source": [
        "#fit the linear model (including the intercept)\n",
        "x_int = sm.add_constant(x)\n",
        "reg = sm.OLS(y, x_int)\n",
        "reg_fitted = reg.fit()\n",
        "\n",
        "#print the regression output\n",
        "print(reg_fitted.summary())"
      ],
      "metadata": {
        "colab": {
          "base_uri": "https://localhost:8080/"
        },
        "id": "f_C-F3RJwKR4",
        "outputId": "12c29d95-fc29-4dda-dfd3-889b251bd708"
      },
      "execution_count": null,
      "outputs": [
        {
          "output_type": "stream",
          "name": "stdout",
          "text": [
            "                                      OLS Regression Results                                     \n",
            "=================================================================================================\n",
            "Dep. Variable:     Rates.Marijuana.Used Past Month.18-25   R-squared:                       0.828\n",
            "Model:                                               OLS   Adj. R-squared:                  0.778\n",
            "Method:                                    Least Squares   F-statistic:                     16.80\n",
            "Date:                                   Mon, 25 Apr 2022   Prob (F-statistic):           4.93e-07\n",
            "Time:                                           18:29:15   Log-Likelihood:                 67.416\n",
            "No. Observations:                                     28   AIC:                            -120.8\n",
            "Df Residuals:                                         21   BIC:                            -111.5\n",
            "Df Model:                                              6                                         \n",
            "Covariance Type:                               nonrobust                                         \n",
            "========================================================================================\n",
            "                           coef    std err          t      P>|t|      [0.025      0.975]\n",
            "----------------------------------------------------------------------------------------\n",
            "const                    0.2186      0.008     28.046      0.000       0.202       0.235\n",
            "state__California        0.0200      0.008      2.368      0.028       0.002       0.038\n",
            "state__Maine             0.1006      0.008     11.893      0.000       0.083       0.118\n",
            "state__Massachusetts     0.0788      0.008      9.308      0.000       0.061       0.096\n",
            "state__Nevada            0.0192      0.008      2.265      0.034       0.002       0.037\n",
            "time                     0.0124      0.004      3.121      0.005       0.004       0.021\n",
            "treatment                0.0351      0.030      1.179      0.252      -0.027       0.097\n",
            "interaction             -0.0114      0.018     -0.628      0.537      -0.049       0.026\n",
            "==============================================================================\n",
            "Omnibus:                        0.081   Durbin-Watson:                   2.376\n",
            "Prob(Omnibus):                  0.960   Jarque-Bera (JB):                0.136\n",
            "Skew:                           0.100   Prob(JB):                        0.934\n",
            "Kurtosis:                       2.724   Cond. No.                     1.49e+16\n",
            "==============================================================================\n",
            "\n",
            "Warnings:\n",
            "[1] Standard Errors assume that the covariance matrix of the errors is correctly specified.\n",
            "[2] The smallest eigenvalue is 6.82e-31. This might indicate that there are\n",
            "strong multicollinearity problems or that the design matrix is singular.\n"
          ]
        },
        {
          "output_type": "stream",
          "name": "stderr",
          "text": [
            "/usr/local/lib/python3.7/dist-packages/statsmodels/tsa/tsatools.py:117: FutureWarning: In a future version of pandas all arguments of concat except for the argument 'objs' will be keyword-only\n",
            "  x = pd.concat(x[::order], 1)\n"
          ]
        }
      ]
    },
    {
      "cell_type": "markdown",
      "source": [
        "\n",
        "With the regression output, all the state indicator variables and the time variable are significant, as their t-statistics are greater than 1.96. This indicates that the state had a statistically significant effect on predicting the usage rate of marijuana. \n",
        "The coefficient for the time variable indicates an upward trend with usage rate and time. Specifically, we see a 1.24% increase in the marijuana users in the past month. While the treatment nor interaction variables aren't significant, we still see an increase in usage rate based on the effect of legalization of marijuana. This aligns with our initial hypothesis that with the recreational use legalized, we would expect the rate of usage to increase."
      ],
      "metadata": {
        "id": "J2k3121Xh9UM"
      }
    },
    {
      "cell_type": "markdown",
      "source": [
        "Now we visualize the model predictions based on the RDD coefficient output. These plots were generated by first dividing the data set based on state. To calculate the predicted marijuana usage rate, we took the coefficients from the coefficient table above and multiplied by the corresponding variable. For the coefficient of the state indicator variable, we added this to the intercept term for the different state models. We plot these predicted rates over our time variable, which represents time relative to legalization in 2016."
      ],
      "metadata": {
        "id": "Vxe6WX8VjA_Z"
      }
    },
    {
      "cell_type": "code",
      "source": [
        "#create separate data sets for each state\n",
        "cal = states_model[(states_model['State'] == 'California')]\n",
        "maine = states_model[(states_model['State'] == 'Maine')]\n",
        "mass = states_model[(states_model['State'] == 'Massachusetts')]\n",
        "nev = states_model[(states_model['State'] == 'Nevada')]"
      ],
      "metadata": {
        "id": "s1UvJxsni_NG"
      },
      "execution_count": null,
      "outputs": []
    },
    {
      "cell_type": "code",
      "source": [
        "#create the predicted rates based on coefficient output\n",
        "cal[\"marij\"] = (0.2186 + 0.0200) + (0.0124 * cal[\"time\"]) + 0.0351 * cal[\"treatment\"] + (-0.0114 * cal[\"interaction\"])\n",
        "maine[\"marij\"] = (0.2186 + 0.1006) + (0.0124 * maine[\"time\"]) + 0.0351 * maine[\"treatment\"] + (-0.0114 * maine[\"interaction\"])\n",
        "mass[\"marij\"] = (0.2186 + 0.0788) + (0.0124 * mass[\"time\"]) + 0.0351 * mass[\"treatment\"] + (-0.0114 * mass[\"interaction\"])\n",
        "nev[\"marij\"] = (0.2186 + 0.0192) + (0.0124 * nev[\"time\"]) + 0.0351 * nev[\"treatment\"] + (-0.0114 * nev[\"interaction\"])\n",
        "\n",
        "#plot all predicted rates on the same graph\n",
        "c = sns.lineplot(data=cal, x=\"time\", y=\"marij\", label=\"California\")\n",
        "c.set(xlabel = \"Time relative to 2016\", ylabel = \"Predicted marijuana usage rate\", title='Marijuana usage rate vs. time relative to 2016')\n",
        "\n",
        "ma = sns.lineplot(data=maine, x=\"time\", y=\"marij\", label=\"Maine\")\n",
        "ma.set(xlabel = \"Time relative to 2016\", ylabel = \"Predicted marijuana usage rate\", title='Marijuana usage rate vs. time relative to 2016')\n",
        "\n",
        "mas = sns.lineplot(data=mass, x=\"time\", y=\"marij\", label=\"Massachusetts\")\n",
        "mas.set(xlabel = \"Time relative to 2016\", ylabel = \"Predicted marijuana usage rate\", title='Marijuana usage rate vs. time relative to 2016')\n",
        "\n",
        "n = sns.lineplot(data=nev, x=\"time\", y=\"marij\", label=\"Nevada\")\n",
        "n.set(xlabel = \"Time relative to 2016\", ylabel = \"Predicted marijuana usage rate\", title='Marijuana usage rate vs. time relative to 2016')"
      ],
      "metadata": {
        "colab": {
          "base_uri": "https://localhost:8080/",
          "height": 764
        },
        "id": "C6Wk_o7_jTwh",
        "outputId": "bfc50eed-620f-4a5b-9ad3-b9b90f93602d"
      },
      "execution_count": null,
      "outputs": [
        {
          "output_type": "stream",
          "name": "stderr",
          "text": [
            "/usr/local/lib/python3.7/dist-packages/ipykernel_launcher.py:2: SettingWithCopyWarning: \n",
            "A value is trying to be set on a copy of a slice from a DataFrame.\n",
            "Try using .loc[row_indexer,col_indexer] = value instead\n",
            "\n",
            "See the caveats in the documentation: https://pandas.pydata.org/pandas-docs/stable/user_guide/indexing.html#returning-a-view-versus-a-copy\n",
            "  \n",
            "/usr/local/lib/python3.7/dist-packages/ipykernel_launcher.py:3: SettingWithCopyWarning: \n",
            "A value is trying to be set on a copy of a slice from a DataFrame.\n",
            "Try using .loc[row_indexer,col_indexer] = value instead\n",
            "\n",
            "See the caveats in the documentation: https://pandas.pydata.org/pandas-docs/stable/user_guide/indexing.html#returning-a-view-versus-a-copy\n",
            "  This is separate from the ipykernel package so we can avoid doing imports until\n",
            "/usr/local/lib/python3.7/dist-packages/ipykernel_launcher.py:4: SettingWithCopyWarning: \n",
            "A value is trying to be set on a copy of a slice from a DataFrame.\n",
            "Try using .loc[row_indexer,col_indexer] = value instead\n",
            "\n",
            "See the caveats in the documentation: https://pandas.pydata.org/pandas-docs/stable/user_guide/indexing.html#returning-a-view-versus-a-copy\n",
            "  after removing the cwd from sys.path.\n",
            "/usr/local/lib/python3.7/dist-packages/ipykernel_launcher.py:5: SettingWithCopyWarning: \n",
            "A value is trying to be set on a copy of a slice from a DataFrame.\n",
            "Try using .loc[row_indexer,col_indexer] = value instead\n",
            "\n",
            "See the caveats in the documentation: https://pandas.pydata.org/pandas-docs/stable/user_guide/indexing.html#returning-a-view-versus-a-copy\n",
            "  \"\"\"\n"
          ]
        },
        {
          "output_type": "execute_result",
          "data": {
            "text/plain": [
              "[Text(0, 0.5, 'Predicted marijuana usage rate'),\n",
              " Text(0.5, 0, 'Time relative to 2016'),\n",
              " Text(0.5, 1.0, 'Marijuana usage rate vs. time relative to 2016')]"
            ]
          },
          "metadata": {},
          "execution_count": 31
        },
        {
          "output_type": "display_data",
          "data": {
            "text/plain": [
              "<Figure size 432x288 with 1 Axes>"
            ],
            "image/png": "[encoded data removed]"
          },
          "metadata": {
            "needs_background": "light"
          }
        }
      ]
    },
    {
      "cell_type": "markdown",
      "source": [
        "The figure above shows the predicted usage rates of marijuana for the age group of 18-25 over time relative to 2016. The predicted rates show that marijuana usage increases more sharply with legalization in 2016. The model prediction shows more of a leveling off after 2017 to 2018, with a steady increase in usage up to 2016. Additionally, we see that overall, usage in Maine is the highest, then Massachusetts, followed by Nevada and California which exhibit similar trends."
      ],
      "metadata": {
        "id": "5z5a0VT69sog"
      }
    },
    {
      "cell_type": "markdown",
      "source": [
        "##RDD for new users of marijuana"
      ],
      "metadata": {
        "id": "zMQpNWc8jWLk"
      }
    },
    {
      "cell_type": "code",
      "source": [
        "y = states_model.loc[:, \"Rates.Marijuana.New Users.18-25\"]\n",
        "\n",
        "#fit the linear model (including the intercept)\n",
        "x_int = sm.add_constant(x)\n",
        "reg = sm.OLS(y, x_int)\n",
        "reg_fitted = reg.fit()\n",
        "\n",
        "#print the regression output\n",
        "print(reg_fitted.summary())"
      ],
      "metadata": {
        "colab": {
          "base_uri": "https://localhost:8080/"
        },
        "id": "8HOD-q5pw9X3",
        "outputId": "203caad7-3814-4d34-a1c9-d2dc4fb74440"
      },
      "execution_count": null,
      "outputs": [
        {
          "output_type": "stream",
          "name": "stdout",
          "text": [
            "                                   OLS Regression Results                                  \n",
            "===========================================================================================\n",
            "Dep. Variable:     Rates.Marijuana.New Users.18-25   R-squared:                       0.847\n",
            "Model:                                         OLS   Adj. R-squared:                  0.803\n",
            "Method:                              Least Squares   F-statistic:                     19.33\n",
            "Date:                             Mon, 25 Apr 2022   Prob (F-statistic):           1.49e-07\n",
            "Time:                                     18:29:15   Log-Likelihood:                 91.583\n",
            "No. Observations:                               28   AIC:                            -169.2\n",
            "Df Residuals:                                   21   BIC:                            -159.8\n",
            "Df Model:                                        6                                         \n",
            "Covariance Type:                         nonrobust                                         \n",
            "========================================================================================\n",
            "                           coef    std err          t      P>|t|      [0.025      0.975]\n",
            "----------------------------------------------------------------------------------------\n",
            "const                    0.0774      0.003     23.547      0.000       0.071       0.084\n",
            "state__California       -0.0010      0.004     -0.274      0.787      -0.008       0.006\n",
            "state__Maine             0.0336      0.004      9.410      0.000       0.026       0.041\n",
            "state__Massachusetts     0.0384      0.004     10.773      0.000       0.031       0.046\n",
            "state__Nevada            0.0064      0.004      1.781      0.089      -0.001       0.014\n",
            "time                    -0.0002      0.002     -0.107      0.916      -0.004       0.003\n",
            "treatment                0.0396      0.013      3.157      0.005       0.014       0.066\n",
            "interaction             -0.0064      0.008     -0.838      0.412      -0.022       0.010\n",
            "==============================================================================\n",
            "Omnibus:                        3.103   Durbin-Watson:                   2.360\n",
            "Prob(Omnibus):                  0.212   Jarque-Bera (JB):                1.374\n",
            "Skew:                           0.023   Prob(JB):                        0.503\n",
            "Kurtosis:                       1.916   Cond. No.                     1.49e+16\n",
            "==============================================================================\n",
            "\n",
            "Warnings:\n",
            "[1] Standard Errors assume that the covariance matrix of the errors is correctly specified.\n",
            "[2] The smallest eigenvalue is 6.82e-31. This might indicate that there are\n",
            "strong multicollinearity problems or that the design matrix is singular.\n"
          ]
        },
        {
          "output_type": "stream",
          "name": "stderr",
          "text": [
            "/usr/local/lib/python3.7/dist-packages/statsmodels/tsa/tsatools.py:117: FutureWarning: In a future version of pandas all arguments of concat except for the argument 'objs' will be keyword-only\n",
            "  x = pd.concat(x[::order], 1)\n"
          ]
        }
      ]
    },
    {
      "cell_type": "markdown",
      "source": [
        "We look now at new users of marijuana, as we expect to see an increase in marijuana new usage with the recreational legalization in 2016.\n",
        "The indicator variables for Maine and Massachusetts are significant in explaining the rates of new users of marijuana, with t-statistics greater than 1.96, thus confirming a local effect based on state to predict new users of marijuana. Most notably, the treatment variable is highly significant with a t-statistic of 3.157. The coefficient output tells us that with the legalization of marijuana, the new users of marijuana increased by around 4%. While this number seems small, we are only looking at relatively small percentages of marijuana new usage rates (only up to around 15%). Thus we consider this 4% increase in new users of marijuana to be statistically significant."
      ],
      "metadata": {
        "id": "TL1Q_L03jg5U"
      }
    },
    {
      "cell_type": "markdown",
      "source": [
        "Using the process described above, we also plot the predicted rates based on the coefficient output. "
      ],
      "metadata": {
        "id": "Ch-7bmwMqjjS"
      }
    },
    {
      "cell_type": "code",
      "source": [
        "#create the predicted rates based on coefficient output\n",
        "cal[\"new_users\"] = (0.0774 - 0.0010) + (-0.0002 * cal[\"time\"]) + 0.0396 * cal[\"treatment\"] + (-0.0064 * cal[\"interaction\"])\n",
        "maine[\"new_users\"] = (0.0774 + 0.0336) + (-0.0002 * maine[\"time\"]) + 0.0396 * maine[\"treatment\"] + (-0.0064 * maine[\"interaction\"])\n",
        "mass[\"new_users\"] = (0.0774 + 0.0384) + (-0.0002 * mass[\"time\"]) + 0.0396 * mass[\"treatment\"] + (-0.0064 * mass[\"interaction\"])\n",
        "nev[\"new_users\"] = (0.0774 + 0.0064) + (-0.0002 * nev[\"time\"]) + 0.0396 * nev[\"treatment\"] + (-0.0064 * nev[\"interaction\"])\n",
        "\n",
        "#plot all predicted rates on the same graph\n",
        "c = sns.lineplot(data=cal, x=\"time\", y=\"new_users\", label=\"California\")\n",
        "c.set(xlabel = \"Time relative to 2016\", ylabel = \"Predicted marijuana new user rate\", title='Marijuana new user rate vs. time relative to 2016')\n",
        "\n",
        "ma = sns.lineplot(data=maine, x=\"time\", y=\"new_users\", label=\"Maine\")\n",
        "ma.set(xlabel = \"Time relative to 2016\", ylabel = \"Predicted marijuana new user rate\", title='Marijuana new user rate vs. time relative to 2016')\n",
        "\n",
        "mas = sns.lineplot(data=mass, x=\"time\", y=\"new_users\", label=\"Massachusetts\")\n",
        "mas.set(xlabel = \"Time relative to 2016\", ylabel = \"Predicted marijuana new user rate\", title='Marijuana new user rate vs. time relative to 2016')\n",
        "\n",
        "n = sns.lineplot(data=nev, x=\"time\", y=\"new_users\", label=\"Nevada\")\n",
        "n.set(xlabel = \"Time relative to 2016\", ylabel = \"Predicted marijuana new user rate\", title='Marijuana new user rate vs. time relative to 2016')"
      ],
      "metadata": {
        "colab": {
          "base_uri": "https://localhost:8080/",
          "height": 764
        },
        "id": "UoEIp0TDjirv",
        "outputId": "0ddafdec-c9b6-4f4c-d505-133b001ffd7c"
      },
      "execution_count": null,
      "outputs": [
        {
          "output_type": "stream",
          "name": "stderr",
          "text": [
            "/usr/local/lib/python3.7/dist-packages/ipykernel_launcher.py:2: SettingWithCopyWarning: \n",
            "A value is trying to be set on a copy of a slice from a DataFrame.\n",
            "Try using .loc[row_indexer,col_indexer] = value instead\n",
            "\n",
            "See the caveats in the documentation: https://pandas.pydata.org/pandas-docs/stable/user_guide/indexing.html#returning-a-view-versus-a-copy\n",
            "  \n",
            "/usr/local/lib/python3.7/dist-packages/ipykernel_launcher.py:3: SettingWithCopyWarning: \n",
            "A value is trying to be set on a copy of a slice from a DataFrame.\n",
            "Try using .loc[row_indexer,col_indexer] = value instead\n",
            "\n",
            "See the caveats in the documentation: https://pandas.pydata.org/pandas-docs/stable/user_guide/indexing.html#returning-a-view-versus-a-copy\n",
            "  This is separate from the ipykernel package so we can avoid doing imports until\n",
            "/usr/local/lib/python3.7/dist-packages/ipykernel_launcher.py:4: SettingWithCopyWarning: \n",
            "A value is trying to be set on a copy of a slice from a DataFrame.\n",
            "Try using .loc[row_indexer,col_indexer] = value instead\n",
            "\n",
            "See the caveats in the documentation: https://pandas.pydata.org/pandas-docs/stable/user_guide/indexing.html#returning-a-view-versus-a-copy\n",
            "  after removing the cwd from sys.path.\n",
            "/usr/local/lib/python3.7/dist-packages/ipykernel_launcher.py:5: SettingWithCopyWarning: \n",
            "A value is trying to be set on a copy of a slice from a DataFrame.\n",
            "Try using .loc[row_indexer,col_indexer] = value instead\n",
            "\n",
            "See the caveats in the documentation: https://pandas.pydata.org/pandas-docs/stable/user_guide/indexing.html#returning-a-view-versus-a-copy\n",
            "  \"\"\"\n"
          ]
        },
        {
          "output_type": "execute_result",
          "data": {
            "text/plain": [
              "[Text(0, 0.5, 'Predicted marijuana new user rate'),\n",
              " Text(0.5, 0, 'Time relative to 2016'),\n",
              " Text(0.5, 1.0, 'Marijuana new user rate vs. time relative to 2016')]"
            ]
          },
          "metadata": {},
          "execution_count": 33
        },
        {
          "output_type": "display_data",
          "data": {
            "text/plain": [
              "<Figure size 432x288 with 1 Axes>"
            ],
            "image/png": "[encoded data removed]"
          },
          "metadata": {
            "needs_background": "light"
          }
        }
      ]
    },
    {
      "cell_type": "markdown",
      "source": [
        "In the figure above with the predicted new user rate of marijuana for the 18-25 age group over time, we see a sharp spike in 2017 with the legalization of marijuana in 2016, which was evidenced with the highly statistically significant treatment variable. Prior to 2016, the rates of new users were relatively constant. Between 2017 and 2018, this trend does appear to decrease slightly. Again, we see that the usage rates are the highest in Massachusetts, then Maine, followed by Nevada and California. This may be due to some state-wide factors that impact the new usage rates of marijuana, for example, prior availability of the drug or other drug policies in each state. Overall this indicates that legalization had a strong impact on increasing the rates of new individuals using marijuana. "
      ],
      "metadata": {
        "id": "dJ6gdDt2ANtM"
      }
    },
    {
      "cell_type": "markdown",
      "source": [
        "## RDD for tobacco (cigarette) usage\n",
        "\n"
      ],
      "metadata": {
        "id": "tdHExWWxwRS6"
      }
    },
    {
      "cell_type": "code",
      "source": [
        "y = states_model.loc[:, \"Rates.Tobacco.Cigarette Past Month.18-25\"]\n",
        "\n",
        "#fit the linear model (including the intercept)\n",
        "x_int = sm.add_constant(x)\n",
        "reg = sm.OLS(y, x_int)\n",
        "reg_fitted = reg.fit()\n",
        "\n",
        "#print the regression output\n",
        "print(reg_fitted.summary())"
      ],
      "metadata": {
        "colab": {
          "base_uri": "https://localhost:8080/"
        },
        "id": "WTz74tdExQ06",
        "outputId": "b30dd58d-a3b8-40fc-8c74-7f2762c11cdc"
      },
      "execution_count": null,
      "outputs": [
        {
          "output_type": "stream",
          "name": "stdout",
          "text": [
            "                                       OLS Regression Results                                       \n",
            "====================================================================================================\n",
            "Dep. Variable:     Rates.Tobacco.Cigarette Past Month.18-25   R-squared:                       0.963\n",
            "Model:                                                  OLS   Adj. R-squared:                  0.953\n",
            "Method:                                       Least Squares   F-statistic:                     91.77\n",
            "Date:                                      Mon, 25 Apr 2022   Prob (F-statistic):           5.76e-14\n",
            "Time:                                              18:29:16   Log-Likelihood:                 88.224\n",
            "No. Observations:                                        28   AIC:                            -162.4\n",
            "Df Residuals:                                            21   BIC:                            -153.1\n",
            "Df Model:                                                 6                                         \n",
            "Covariance Type:                                  nonrobust                                         \n",
            "========================================================================================\n",
            "                           coef    std err          t      P>|t|      [0.025      0.975]\n",
            "----------------------------------------------------------------------------------------\n",
            "const                    0.1754      0.004     47.322      0.000       0.168       0.183\n",
            "state__California       -0.0012      0.004     -0.289      0.776      -0.010       0.007\n",
            "state__Maine             0.0872      0.004     21.662      0.000       0.079       0.096\n",
            "state__Massachusetts     0.0352      0.004      8.743      0.000       0.027       0.044\n",
            "state__Nevada            0.0542      0.004     13.473      0.000       0.046       0.063\n",
            "time                    -0.0204      0.002    -10.800      0.000      -0.024      -0.016\n",
            "treatment                0.0215      0.014      1.516      0.144      -0.008       0.051\n",
            "interaction             -0.0157      0.009     -1.807      0.085      -0.034       0.002\n",
            "==============================================================================\n",
            "Omnibus:                        0.879   Durbin-Watson:                   2.416\n",
            "Prob(Omnibus):                  0.644   Jarque-Bera (JB):                0.795\n",
            "Skew:                          -0.136   Prob(JB):                        0.672\n",
            "Kurtosis:                       2.220   Cond. No.                     1.49e+16\n",
            "==============================================================================\n",
            "\n",
            "Warnings:\n",
            "[1] Standard Errors assume that the covariance matrix of the errors is correctly specified.\n",
            "[2] The smallest eigenvalue is 6.82e-31. This might indicate that there are\n",
            "strong multicollinearity problems or that the design matrix is singular.\n"
          ]
        },
        {
          "output_type": "stream",
          "name": "stderr",
          "text": [
            "/usr/local/lib/python3.7/dist-packages/statsmodels/tsa/tsatools.py:117: FutureWarning: In a future version of pandas all arguments of concat except for the argument 'objs' will be keyword-only\n",
            "  x = pd.concat(x[::order], 1)\n"
          ]
        }
      ]
    },
    {
      "cell_type": "markdown",
      "source": [
        "For cigarette usage rates, the indicator variables for the states of Maine, Massachusetts, and Nevada as well as the time variable, are all highly significant. The statistically significant and negative coefficient of the time variable indicates decreasing usage rates of cigarettes over time. The coefficient for treatment, although not significant, indicates that the isolated treatment effect of marijuana legalization created a 0.02 increase in cigarette usage rates. The interaction coefficient is negative thus indicating a potential downward trend in the usage rate; however, this variable is not statistically significant."
      ],
      "metadata": {
        "id": "9sGs8A38j7GT"
      }
    },
    {
      "cell_type": "code",
      "source": [
        "#create the predicted rates based on coefficient output\n",
        "cal[\"pred_cig\"] = (0.1754 - 0.0012) + (-0.0204 * cal[\"time\"]) + 0.0215 * cal[\"treatment\"] + (-0.0157 * cal[\"interaction\"])\n",
        "maine[\"pred_cig\"] = (0.1754 + 0.0872) + (-0.0204 * maine[\"time\"]) + 0.0215 * maine[\"treatment\"] + (-0.0157 * maine[\"interaction\"])\n",
        "mass[\"pred_cig\"] = (0.1754 + 0.0352) + (-0.0204 * mass[\"time\"]) + 0.0215 * mass[\"treatment\"] + (-0.0157 * mass[\"interaction\"])\n",
        "nev[\"pred_cig\"] = (0.1754 + 0.0542) + (-0.0204 * nev[\"time\"]) + 0.0215 * nev[\"treatment\"] + (-0.0157 * nev[\"interaction\"])\n",
        "\n",
        "#plot all predicted reates on the same graph\n",
        "c = sns.lineplot(data=cal, x=\"time\", y=\"pred_cig\", label=\"California\")\n",
        "c.set(xlabel = \"Time relative to 2016\", ylabel = \"Predicted cigarette usage rate\", title='Predicted cigarette usage rate vs. time relative to 2016')\n",
        "\n",
        "ma = sns.lineplot(data=maine, x=\"time\", y=\"pred_cig\", label=\"Maine\")\n",
        "ma.set(xlabel = \"Time relative to 2016\", ylabel = \"Predicted cigarette usage rate\", title='Predicted cigarette usage rate vs. time relative to 2016')\n",
        "\n",
        "mas = sns.lineplot(data=mass, x=\"time\", y=\"pred_cig\", label=\"Massachusetts\")\n",
        "mas.set(xlabel = \"Time relative to 2016\", ylabel = \"Predicted cigarette usage rate\", title='Predicted cigarette usage rate vs. time relative to 2016')\n",
        "\n",
        "n = sns.lineplot(data=nev, x=\"time\", y=\"pred_cig\", label=\"Nevada\")\n",
        "n.set(xlabel = \"Time relative to 2016\", ylabel = \"Predicted cigarette usage rate\", title='Predicted cigarette usage rate vs. time relative to 2016')"
      ],
      "metadata": {
        "colab": {
          "base_uri": "https://localhost:8080/",
          "height": 764
        },
        "id": "tE9jICIJj8kU",
        "outputId": "ef81b819-4c6c-4bef-e63f-f1c7cad91deb"
      },
      "execution_count": null,
      "outputs": [
        {
          "output_type": "stream",
          "name": "stderr",
          "text": [
            "/usr/local/lib/python3.7/dist-packages/ipykernel_launcher.py:2: SettingWithCopyWarning: \n",
            "A value is trying to be set on a copy of a slice from a DataFrame.\n",
            "Try using .loc[row_indexer,col_indexer] = value instead\n",
            "\n",
            "See the caveats in the documentation: https://pandas.pydata.org/pandas-docs/stable/user_guide/indexing.html#returning-a-view-versus-a-copy\n",
            "  \n",
            "/usr/local/lib/python3.7/dist-packages/ipykernel_launcher.py:3: SettingWithCopyWarning: \n",
            "A value is trying to be set on a copy of a slice from a DataFrame.\n",
            "Try using .loc[row_indexer,col_indexer] = value instead\n",
            "\n",
            "See the caveats in the documentation: https://pandas.pydata.org/pandas-docs/stable/user_guide/indexing.html#returning-a-view-versus-a-copy\n",
            "  This is separate from the ipykernel package so we can avoid doing imports until\n",
            "/usr/local/lib/python3.7/dist-packages/ipykernel_launcher.py:4: SettingWithCopyWarning: \n",
            "A value is trying to be set on a copy of a slice from a DataFrame.\n",
            "Try using .loc[row_indexer,col_indexer] = value instead\n",
            "\n",
            "See the caveats in the documentation: https://pandas.pydata.org/pandas-docs/stable/user_guide/indexing.html#returning-a-view-versus-a-copy\n",
            "  after removing the cwd from sys.path.\n",
            "/usr/local/lib/python3.7/dist-packages/ipykernel_launcher.py:5: SettingWithCopyWarning: \n",
            "A value is trying to be set on a copy of a slice from a DataFrame.\n",
            "Try using .loc[row_indexer,col_indexer] = value instead\n",
            "\n",
            "See the caveats in the documentation: https://pandas.pydata.org/pandas-docs/stable/user_guide/indexing.html#returning-a-view-versus-a-copy\n",
            "  \"\"\"\n"
          ]
        },
        {
          "output_type": "execute_result",
          "data": {
            "text/plain": [
              "[Text(0, 0.5, 'Predicted cigarette usage rate'),\n",
              " Text(0.5, 0, 'Time relative to 2016'),\n",
              " Text(0.5, 1.0, 'Predicted cigarette usage rate vs. time relative to 2016')]"
            ]
          },
          "metadata": {},
          "execution_count": 35
        },
        {
          "output_type": "display_data",
          "data": {
            "text/plain": [
              "<Figure size 432x288 with 1 Axes>"
            ],
            "image/png": "[encoded data removed]"
          },
          "metadata": {
            "needs_background": "light"
          }
        }
      ]
    },
    {
      "cell_type": "markdown",
      "source": [
        "Our model predicts a relatively consistent downward trend with cigarette usage over time. Because the treatment effect is not significant, we don't see much change after 2016; in fact, between 2016 to 2017, we see less of a decrease in cigarette usage. With the legalization of marijuana in 2016, the slope of the line is very steep between 2017 and 2018, indicating less usage of tobacco in the two years after legalization. We continue to see the strong differentiated effects across states as well. "
      ],
      "metadata": {
        "id": "Y9JoFnCQCyTb"
      }
    },
    {
      "cell_type": "markdown",
      "source": [
        "## RDD for tobacco (general) usage"
      ],
      "metadata": {
        "id": "Qi4QbrogkBey"
      }
    },
    {
      "cell_type": "code",
      "source": [
        "y = states_model.loc[:, \"Rates.Tobacco.Use Past Month.18-25\"]\n",
        "\n",
        "#fit the linear model (including the intercept)\n",
        "x_int = sm.add_constant(x)\n",
        "reg = sm.OLS(y, x_int)\n",
        "reg_fitted = reg.fit()\n",
        "\n",
        "#print the regression output\n",
        "print(reg_fitted.summary())"
      ],
      "metadata": {
        "colab": {
          "base_uri": "https://localhost:8080/"
        },
        "id": "2MfLKgeExw6E",
        "outputId": "bfbd2c0e-15b8-4b37-d411-5e4dd6be896c"
      },
      "execution_count": null,
      "outputs": [
        {
          "output_type": "stream",
          "name": "stdout",
          "text": [
            "                                    OLS Regression Results                                    \n",
            "==============================================================================================\n",
            "Dep. Variable:     Rates.Tobacco.Use Past Month.18-25   R-squared:                       0.977\n",
            "Model:                                            OLS   Adj. R-squared:                  0.971\n",
            "Method:                                 Least Squares   F-statistic:                     149.4\n",
            "Date:                                Mon, 25 Apr 2022   Prob (F-statistic):           4.11e-16\n",
            "Time:                                        18:29:16   Log-Likelihood:                 90.061\n",
            "No. Observations:                                  28   AIC:                            -166.1\n",
            "Df Residuals:                                      21   BIC:                            -156.8\n",
            "Df Model:                                           6                                         \n",
            "Covariance Type:                            nonrobust                                         \n",
            "========================================================================================\n",
            "                           coef    std err          t      P>|t|      [0.025      0.975]\n",
            "----------------------------------------------------------------------------------------\n",
            "const                    0.2236      0.003     64.425      0.000       0.216       0.231\n",
            "state__California       -0.0111      0.004     -2.945      0.008      -0.019      -0.003\n",
            "state__Maine             0.1192      0.004     31.635      0.000       0.111       0.127\n",
            "state__Massachusetts     0.0544      0.004     14.437      0.000       0.047       0.062\n",
            "state__Nevada            0.0611      0.004     16.216      0.000       0.053       0.069\n",
            "time                    -0.0203      0.002    -11.488      0.000      -0.024      -0.017\n",
            "treatment                0.0278      0.013      2.099      0.048       0.000       0.055\n",
            "interaction             -0.0215      0.008     -2.654      0.015      -0.038      -0.005\n",
            "==============================================================================\n",
            "Omnibus:                        1.227   Durbin-Watson:                   2.660\n",
            "Prob(Omnibus):                  0.541   Jarque-Bera (JB):                1.115\n",
            "Skew:                          -0.329   Prob(JB):                        0.573\n",
            "Kurtosis:                       2.277   Cond. No.                     1.49e+16\n",
            "==============================================================================\n",
            "\n",
            "Warnings:\n",
            "[1] Standard Errors assume that the covariance matrix of the errors is correctly specified.\n",
            "[2] The smallest eigenvalue is 6.82e-31. This might indicate that there are\n",
            "strong multicollinearity problems or that the design matrix is singular.\n"
          ]
        },
        {
          "output_type": "stream",
          "name": "stderr",
          "text": [
            "/usr/local/lib/python3.7/dist-packages/statsmodels/tsa/tsatools.py:117: FutureWarning: In a future version of pandas all arguments of concat except for the argument 'objs' will be keyword-only\n",
            "  x = pd.concat(x[::order], 1)\n"
          ]
        }
      ]
    },
    {
      "cell_type": "markdown",
      "source": [
        "With usage rates of tobacco products, all variables are highly significant with t-statistics greater than 1.96. The time variable \n",
        "likewise indicates a decreasing usage over time, and the legalization of marijuana shows a significant effect on increasing usage of tobacco products. \n",
        "We also confirm a significant effect with each state, thus reaffirming a local influence on tobacco rates."
      ],
      "metadata": {
        "id": "V-pW22eskHxC"
      }
    },
    {
      "cell_type": "code",
      "source": [
        "#create the predicted rates based on coefficient output\n",
        "cal[\"pred_tob_gen\"] = (0.2236 - 0.0111) + (-0.0203 * cal[\"time\"]) + 0.0278 * cal[\"treatment\"] + (-0.0215 * cal[\"interaction\"])\n",
        "maine[\"pred_tob_gen\"] = (0.2236 + 0.1192) + (-0.0203 * maine[\"time\"]) + 0.0278 * maine[\"treatment\"] + (-0.0215 * maine[\"interaction\"])\n",
        "mass[\"pred_tob_gen\"] = (0.2236 + 0.0544) + (-0.0203 * mass[\"time\"]) + 0.0278 * mass[\"treatment\"] + (-0.0215 * mass[\"interaction\"])\n",
        "nev[\"pred_tob_gen\"] = (0.2236 + 0.0611) + (-0.0203 * nev[\"time\"]) + 0.0278 * nev[\"treatment\"] + (-0.0215 * nev[\"interaction\"])\n",
        "\n",
        "#plot all predicted rates on the same graph\n",
        "c = sns.lineplot(data=cal, x=\"time\", y=\"pred_tob_gen\", label=\"California\")\n",
        "c.set(xlabel = \"Time relative to 2016\", ylabel = \"Predicted tobacco usage rate\", title='Predicted tobacco usage rate vs. time relative to 2016')\n",
        "\n",
        "ma = sns.lineplot(data=maine, x=\"time\", y=\"pred_tob_gen\", label=\"Maine\")\n",
        "ma.set(xlabel = \"Time relative to 2016\", ylabel = \"Predicted tobacco usage rate\", title='Predicted tobacco usage rate vs. time relative to 2016')\n",
        "\n",
        "mas = sns.lineplot(data=mass, x=\"time\", y=\"pred_tob_gen\", label=\"Massachusetts\")\n",
        "mas.set(xlabel = \"Time relative to 2016\", ylabel = \"Predicted tobacco usage rate\", title='Predicted tobacco usage rate vs. time relative to 2016')\n",
        "\n",
        "n = sns.lineplot(data=nev, x=\"time\", y=\"pred_tob_gen\", label=\"Nevada\")\n",
        "n.set(xlabel = \"Time relative to 2016\", ylabel = \"Predicted tobacco usage rate\", title='Predicted tobacco usage rate vs. time relative to 2016')"
      ],
      "metadata": {
        "colab": {
          "base_uri": "https://localhost:8080/",
          "height": 764
        },
        "id": "fJ_eyLdkkI1x",
        "outputId": "639dbfcf-93e0-40b3-db52-6609f6bf349d"
      },
      "execution_count": null,
      "outputs": [
        {
          "output_type": "stream",
          "name": "stderr",
          "text": [
            "/usr/local/lib/python3.7/dist-packages/ipykernel_launcher.py:2: SettingWithCopyWarning: \n",
            "A value is trying to be set on a copy of a slice from a DataFrame.\n",
            "Try using .loc[row_indexer,col_indexer] = value instead\n",
            "\n",
            "See the caveats in the documentation: https://pandas.pydata.org/pandas-docs/stable/user_guide/indexing.html#returning-a-view-versus-a-copy\n",
            "  \n",
            "/usr/local/lib/python3.7/dist-packages/ipykernel_launcher.py:3: SettingWithCopyWarning: \n",
            "A value is trying to be set on a copy of a slice from a DataFrame.\n",
            "Try using .loc[row_indexer,col_indexer] = value instead\n",
            "\n",
            "See the caveats in the documentation: https://pandas.pydata.org/pandas-docs/stable/user_guide/indexing.html#returning-a-view-versus-a-copy\n",
            "  This is separate from the ipykernel package so we can avoid doing imports until\n",
            "/usr/local/lib/python3.7/dist-packages/ipykernel_launcher.py:4: SettingWithCopyWarning: \n",
            "A value is trying to be set on a copy of a slice from a DataFrame.\n",
            "Try using .loc[row_indexer,col_indexer] = value instead\n",
            "\n",
            "See the caveats in the documentation: https://pandas.pydata.org/pandas-docs/stable/user_guide/indexing.html#returning-a-view-versus-a-copy\n",
            "  after removing the cwd from sys.path.\n",
            "/usr/local/lib/python3.7/dist-packages/ipykernel_launcher.py:5: SettingWithCopyWarning: \n",
            "A value is trying to be set on a copy of a slice from a DataFrame.\n",
            "Try using .loc[row_indexer,col_indexer] = value instead\n",
            "\n",
            "See the caveats in the documentation: https://pandas.pydata.org/pandas-docs/stable/user_guide/indexing.html#returning-a-view-versus-a-copy\n",
            "  \"\"\"\n"
          ]
        },
        {
          "output_type": "execute_result",
          "data": {
            "text/plain": [
              "[Text(0, 0.5, 'Predicted tobacco usage rate'),\n",
              " Text(0.5, 0, 'Time relative to 2016'),\n",
              " Text(0.5, 1.0, 'Predicted tobacco usage rate vs. time relative to 2016')]"
            ]
          },
          "metadata": {},
          "execution_count": 37
        },
        {
          "output_type": "display_data",
          "data": {
            "text/plain": [
              "<Figure size 432x288 with 1 Axes>"
            ],
            "image/png": "[encoded data removed]"
          },
          "metadata": {
            "needs_background": "light"
          }
        }
      ]
    },
    {
      "cell_type": "markdown",
      "source": [
        "Trends for general tobacco usage appear to be very similar to cigarette usage, with decreasing usage rates and strong state-wide effects. The effect of marijuana legalization is significant and has a positive coefficient, however the interaction and time variables are also negative and significant. Overall this points to declining usage of tobacco products over time, with a slightly steeper decline in usage in 2018. "
      ],
      "metadata": {
        "id": "RzxhgxY7ExbA"
      }
    },
    {
      "cell_type": "markdown",
      "source": [
        "## RDD for alcohol usage"
      ],
      "metadata": {
        "id": "QQ0XJL6FkNsv"
      }
    },
    {
      "cell_type": "code",
      "source": [
        "y = states_model.loc[:, \"Rates.Alcohol.Use Past Month.18-25\"]\n",
        "\n",
        "#fit the linear model (including the intercept)\n",
        "x_int = sm.add_constant(x)\n",
        "reg = sm.OLS(y, x_int)\n",
        "reg_fitted = reg.fit()\n",
        "\n",
        "#print the regression output\n",
        "print(reg_fitted.summary())"
      ],
      "metadata": {
        "colab": {
          "base_uri": "https://localhost:8080/"
        },
        "id": "VIyUL6xoyPtQ",
        "outputId": "9ef3c026-edf9-4882-c7f2-be1b826a998c"
      },
      "execution_count": null,
      "outputs": [
        {
          "output_type": "stream",
          "name": "stdout",
          "text": [
            "                                    OLS Regression Results                                    \n",
            "==============================================================================================\n",
            "Dep. Variable:     Rates.Alcohol.Use Past Month.18-25   R-squared:                       0.944\n",
            "Model:                                            OLS   Adj. R-squared:                  0.928\n",
            "Method:                                 Least Squares   F-statistic:                     58.89\n",
            "Date:                                Mon, 25 Apr 2022   Prob (F-statistic):           4.73e-12\n",
            "Time:                                        18:29:17   Log-Likelihood:                 77.834\n",
            "No. Observations:                                  28   AIC:                            -141.7\n",
            "Df Residuals:                                      21   BIC:                            -132.3\n",
            "Df Model:                                           6                                         \n",
            "Covariance Type:                            nonrobust                                         \n",
            "========================================================================================\n",
            "                           coef    std err          t      P>|t|      [0.025      0.975]\n",
            "----------------------------------------------------------------------------------------\n",
            "const                    0.4788      0.005     89.126      0.000       0.468       0.490\n",
            "state__California        0.0675      0.006     11.576      0.000       0.055       0.080\n",
            "state__Maine             0.1531      0.006     26.249      0.000       0.141       0.165\n",
            "state__Massachusetts     0.1999      0.006     34.272      0.000       0.188       0.212\n",
            "state__Nevada            0.0583      0.006     10.000      0.000       0.046       0.070\n",
            "time                    -0.0090      0.003     -3.268      0.004      -0.015      -0.003\n",
            "treatment                0.0160      0.021      0.779      0.445      -0.027       0.059\n",
            "interaction             -0.0078      0.013     -0.624      0.539      -0.034       0.018\n",
            "==============================================================================\n",
            "Omnibus:                        1.526   Durbin-Watson:                   2.454\n",
            "Prob(Omnibus):                  0.466   Jarque-Bera (JB):                1.268\n",
            "Skew:                          -0.498   Prob(JB):                        0.530\n",
            "Kurtosis:                       2.693   Cond. No.                     1.49e+16\n",
            "==============================================================================\n",
            "\n",
            "Warnings:\n",
            "[1] Standard Errors assume that the covariance matrix of the errors is correctly specified.\n",
            "[2] The smallest eigenvalue is 6.82e-31. This might indicate that there are\n",
            "strong multicollinearity problems or that the design matrix is singular.\n"
          ]
        },
        {
          "output_type": "stream",
          "name": "stderr",
          "text": [
            "/usr/local/lib/python3.7/dist-packages/statsmodels/tsa/tsatools.py:117: FutureWarning: In a future version of pandas all arguments of concat except for the argument 'objs' will be keyword-only\n",
            "  x = pd.concat(x[::order], 1)\n"
          ]
        }
      ]
    },
    {
      "cell_type": "markdown",
      "source": [
        "The time and state indicator variables are highly significant in explaining alcohol usage rates based on their t-statistics. Time indicates decreasing alcohol usage over time. The treatment and interaction variables however are not significant, indicating that the legalization of marijuana did not have a statistically significant effect on the alcohol usage rate. "
      ],
      "metadata": {
        "id": "spqQmikCkT8E"
      }
    },
    {
      "cell_type": "code",
      "source": [
        "#create the predicted rates based on coefficient output\n",
        "cal[\"pred_alc_rate\"] = (0.4788 + 0.0675) + (-0.0090 * cal[\"time\"]) + 0.0160 * cal[\"treatment\"] + (-0.0078 * cal[\"interaction\"])\n",
        "maine[\"pred_alc_rate\"] = (0.4788 + 0.1531) + (-0.0090 * maine[\"time\"]) + 0.0160 * maine[\"treatment\"] + (-0.0078 * maine[\"interaction\"])\n",
        "mass[\"pred_alc_rate\"] = (0.4788 + 0.1999) + (-0.0090 * mass[\"time\"]) + 0.0160 * mass[\"treatment\"] + (-0.0078 * mass[\"interaction\"])\n",
        "nev[\"pred_alc_rate\"] = (0.4788 + 0.0583) + (-0.0090 * nev[\"time\"]) + 0.0160 * nev[\"treatment\"] + (-0.0078 * nev[\"interaction\"])\n",
        "\n",
        "#plot all predicted rates on the same graph\n",
        "c = sns.lineplot(data=cal, x=\"time\", y=\"pred_alc_rate\", label=\"California\")\n",
        "c.set(xlabel = \"Time relative to 2016\", ylabel = \"Predicted alcohol usage rate\", title='Predicted alcohol usage rate vs. time relative to 2016')\n",
        "\n",
        "ma = sns.lineplot(data=maine, x=\"time\", y=\"pred_alc_rate\", label=\"Maine\")\n",
        "ma.set(xlabel = \"Time relative to 2016\", ylabel = \"Predicted alcohol usage rate\", title='Predicted alcohol usage rate vs. time relative to 2016')\n",
        "\n",
        "mas = sns.lineplot(data=mass, x=\"time\", y=\"pred_alc_rate\", label=\"Massachusetts\")\n",
        "mas.set(xlabel = \"Time relative to 2016\", ylabel = \"Predicted alcohol usage rate\", title='Predicted alcohol usage rate vs. time relative to 2016')\n",
        "\n",
        "n = sns.lineplot(data=nev, x=\"time\", y=\"pred_alc_rate\", label=\"Nevada\")\n",
        "n.set(xlabel = \"Time relative to 2016\", ylabel = \"Predicted alcohol usage rate\", title='Predicted alcohol usage rate vs. time relative to 2016')"
      ],
      "metadata": {
        "colab": {
          "base_uri": "https://localhost:8080/",
          "height": 764
        },
        "id": "Ak2vXAqpkVi0",
        "outputId": "92c28869-9348-4049-822d-fad0da066406"
      },
      "execution_count": null,
      "outputs": [
        {
          "output_type": "stream",
          "name": "stderr",
          "text": [
            "/usr/local/lib/python3.7/dist-packages/ipykernel_launcher.py:2: SettingWithCopyWarning: \n",
            "A value is trying to be set on a copy of a slice from a DataFrame.\n",
            "Try using .loc[row_indexer,col_indexer] = value instead\n",
            "\n",
            "See the caveats in the documentation: https://pandas.pydata.org/pandas-docs/stable/user_guide/indexing.html#returning-a-view-versus-a-copy\n",
            "  \n",
            "/usr/local/lib/python3.7/dist-packages/ipykernel_launcher.py:3: SettingWithCopyWarning: \n",
            "A value is trying to be set on a copy of a slice from a DataFrame.\n",
            "Try using .loc[row_indexer,col_indexer] = value instead\n",
            "\n",
            "See the caveats in the documentation: https://pandas.pydata.org/pandas-docs/stable/user_guide/indexing.html#returning-a-view-versus-a-copy\n",
            "  This is separate from the ipykernel package so we can avoid doing imports until\n",
            "/usr/local/lib/python3.7/dist-packages/ipykernel_launcher.py:4: SettingWithCopyWarning: \n",
            "A value is trying to be set on a copy of a slice from a DataFrame.\n",
            "Try using .loc[row_indexer,col_indexer] = value instead\n",
            "\n",
            "See the caveats in the documentation: https://pandas.pydata.org/pandas-docs/stable/user_guide/indexing.html#returning-a-view-versus-a-copy\n",
            "  after removing the cwd from sys.path.\n",
            "/usr/local/lib/python3.7/dist-packages/ipykernel_launcher.py:5: SettingWithCopyWarning: \n",
            "A value is trying to be set on a copy of a slice from a DataFrame.\n",
            "Try using .loc[row_indexer,col_indexer] = value instead\n",
            "\n",
            "See the caveats in the documentation: https://pandas.pydata.org/pandas-docs/stable/user_guide/indexing.html#returning-a-view-versus-a-copy\n",
            "  \"\"\"\n"
          ]
        },
        {
          "output_type": "execute_result",
          "data": {
            "text/plain": [
              "[Text(0, 0.5, 'Predicted alcohol usage rate'),\n",
              " Text(0.5, 0, 'Time relative to 2016'),\n",
              " Text(0.5, 1.0, 'Predicted alcohol usage rate vs. time relative to 2016')]"
            ]
          },
          "metadata": {},
          "execution_count": 39
        },
        {
          "output_type": "display_data",
          "data": {
            "text/plain": [
              "<Figure size 432x288 with 1 Axes>"
            ],
            "image/png": "[encoded data removed]"
          },
          "metadata": {
            "needs_background": "light"
          }
        }
      ]
    },
    {
      "cell_type": "markdown",
      "source": [
        "With alcohol usage rates, we see declining usage rates with time, with a slightly steeper decline in usage in 2018. Like the other drugs, states have a strong influence over predicting the overall usage rates. This model result is not as compelling however, as generally alcohol usage tends to be relatively static over time. "
      ],
      "metadata": {
        "id": "zkQslwfOHpa5"
      }
    },
    {
      "cell_type": "markdown",
      "source": [
        "## Difference in Difference (DiD)"
      ],
      "metadata": {
        "id": "Kp6Srujvki6R"
      }
    },
    {
      "cell_type": "markdown",
      "source": [
        "We also want to consider using the difference in difference model to control for broader national and regional level factors that may impact the usage of alcohol, tobacco, and marijuana, thus separating out the effect of legalization from other factors that may increase drug usage. Revisiting our data science pipeline, we construct some exploratory plots to compare our 4 states with states that have not legalized marijuana. In exploring for a control state (a state that has not legalized marijuana), we choose New Hampshire as a state that is similar to Maine (state that has legalized marijuana) based on geographic proximity, population, and political affiliation. "
      ],
      "metadata": {
        "id": "2kGhc5IMnY0X"
      }
    },
    {
      "cell_type": "code",
      "source": [
        "#filter for New Hampshire \n",
        "df_nh = raw_df.loc[raw_df['State'].isin(['New Hampshire'])]\n",
        "#plot New Hampshire marijuana rate\n",
        "sns.lineplot(data=df_nh, x='Year', y='Rates.Marijuana.Used Past Month.18-25', label = 'New Hampshire')\n",
        "\n",
        "#filter for Maine\n",
        "df_ma = raw_df.loc[raw_df['State'].isin(['Maine'])]\n",
        "#plot Maine marijuana rate\n",
        "sns.lineplot(data=df_ma, x='Year', y='Rates.Marijuana.Used Past Month.18-25', label = 'Maine').set(title = 'Rates Marijuana Used Past Month 18-25')"
      ],
      "metadata": {
        "colab": {
          "base_uri": "https://localhost:8080/",
          "height": 312
        },
        "outputId": "a6fef14f-a04c-4f25-a85b-d2fa262cf3d0",
        "id": "8qqcnMP26aRC"
      },
      "execution_count": null,
      "outputs": [
        {
          "output_type": "execute_result",
          "data": {
            "text/plain": [
              "[Text(0.5, 1.0, 'Rates Marijuana Used Past Month 18-25')]"
            ]
          },
          "metadata": {},
          "execution_count": 40
        },
        {
          "output_type": "display_data",
          "data": {
            "text/plain": [
              "<Figure size 432x288 with 1 Axes>"
            ],
            "image/png": "[encoded data removed]"
          },
          "metadata": {
            "needs_background": "light"
          }
        }
      ]
    },
    {
      "cell_type": "markdown",
      "source": [
        "Both Maine and New Hampshire see an increase in marijuana usage rates post-2016; however, the trends in usage pre-legalization are not similar. Maine, not surprisingly, does show a larger increase in usage. "
      ],
      "metadata": {
        "id": "LcRL2wveR4Mo"
      }
    },
    {
      "cell_type": "code",
      "source": [
        "sns.lineplot(data=df_nh, x='Year', y='Rates.Marijuana.New Users.18-25', label = 'New Hampshire')\n",
        "sns.lineplot(data=df_ma, x='Year', y='Rates.Marijuana.New Users.18-25', label = 'Maine').set(title = 'Rates.Marijuana.New Users')"
      ],
      "metadata": {
        "colab": {
          "base_uri": "https://localhost:8080/",
          "height": 312
        },
        "outputId": "3354c806-b44a-4809-ff3e-b2511a33eea8",
        "id": "wzKRSzouLqW5"
      },
      "execution_count": null,
      "outputs": [
        {
          "output_type": "execute_result",
          "data": {
            "text/plain": [
              "[Text(0.5, 1.0, 'Rates.Marijuana.New Users')]"
            ]
          },
          "metadata": {},
          "execution_count": 41
        },
        {
          "output_type": "display_data",
          "data": {
            "text/plain": [
              "<Figure size 432x288 with 1 Axes>"
            ],
            "image/png": "[encoded data removed]"
          },
          "metadata": {
            "needs_background": "light"
          }
        }
      ]
    },
    {
      "cell_type": "markdown",
      "source": [
        "In Maine and New Hampshire, the trends in new users, however, are a bit more similar across states.\n"
      ],
      "metadata": {
        "id": "EvUAmf1tSXMY"
      }
    },
    {
      "cell_type": "code",
      "source": [
        "sns.lineplot(data=df_nh, x='Year', y='Rates.Alcohol.Use Past Month.18-25', label = 'New Hampshire')\n",
        "sns.lineplot(data=df_ma, x='Year', y='Rates.Alcohol.Use Past Month.18-25', label = 'Maine').set(title = 'Rates Alcohol Used Past Month 18-25')"
      ],
      "metadata": {
        "colab": {
          "base_uri": "https://localhost:8080/",
          "height": 312
        },
        "outputId": "dcdd2806-a5af-4a4b-cf37-4ed7d7931ae3",
        "id": "EYiwj8gKLyf1"
      },
      "execution_count": null,
      "outputs": [
        {
          "output_type": "execute_result",
          "data": {
            "text/plain": [
              "[Text(0.5, 1.0, 'Rates Alcohol Used Past Month 18-25')]"
            ]
          },
          "metadata": {},
          "execution_count": 25
        },
        {
          "output_type": "display_data",
          "data": {
            "text/plain": [
              "<Figure size 432x288 with 1 Axes>"
            ],
            "image/png": "[encoded data removed]"
          },
          "metadata": {
            "needs_background": "light"
          }
        }
      ]
    },
    {
      "cell_type": "markdown",
      "source": [
        "Again, we see that rates of alcohol usage are very state-specific, as the trends are widely different across states.\n"
      ],
      "metadata": {
        "id": "hkeq6ULMSj9V"
      }
    },
    {
      "cell_type": "code",
      "source": [
        "sns.lineplot(data=df_nh, x='Year', y='Rates.Tobacco.Use Past Month.18-25', label = 'New Hampshire')\n",
        "sns.lineplot(data=df_ma, x='Year', y='Rates.Tobacco.Use Past Month.18-25', label = 'Maine').set(title = 'Rates.Tobacco.Use Past Month.18-25')"
      ],
      "metadata": {
        "colab": {
          "base_uri": "https://localhost:8080/",
          "height": 312
        },
        "outputId": "b3f31966-099d-4505-d0be-f071965f3605",
        "id": "MkgrBuBEL7ql"
      },
      "execution_count": null,
      "outputs": [
        {
          "output_type": "execute_result",
          "data": {
            "text/plain": [
              "[Text(0.5, 1.0, 'Rates.Tobacco.Use Past Month.18-25')]"
            ]
          },
          "metadata": {},
          "execution_count": 42
        },
        {
          "output_type": "display_data",
          "data": {
            "text/plain": [
              "<Figure size 432x288 with 1 Axes>"
            ],
            "image/png": "[encoded data removed]"
          },
          "metadata": {
            "needs_background": "light"
          }
        }
      ]
    },
    {
      "cell_type": "markdown",
      "source": [
        "Tobacco usage rates nationally are on the decline, so it is not surprising that both states exhibit a sharp decline in usage. \n"
      ],
      "metadata": {
        "id": "uGz0DHs5SvWc"
      }
    },
    {
      "cell_type": "code",
      "source": [
        "sns.lineplot(data=df_nh, x='Year', y='Rates.Tobacco.Cigarette Past Month.18-25', label = 'New Hampshire')\n",
        "sns.lineplot(data=df_ma, x='Year', y='Rates.Tobacco.Cigarette Past Month.18-25', label = 'Maine').set(title = 'Rates.Tobacco.Cigarette Past Month.18-25')"
      ],
      "metadata": {
        "colab": {
          "base_uri": "https://localhost:8080/",
          "height": 312
        },
        "id": "j5SebKndLqKK",
        "outputId": "0f8f2c8f-d388-4513-8f3f-3b0bf7781e97"
      },
      "execution_count": null,
      "outputs": [
        {
          "output_type": "execute_result",
          "data": {
            "text/plain": [
              "[Text(0.5, 1.0, 'Rates.Tobacco.Cigarette Past Month.18-25')]"
            ]
          },
          "metadata": {},
          "execution_count": 43
        },
        {
          "output_type": "display_data",
          "data": {
            "text/plain": [
              "<Figure size 432x288 with 1 Axes>"
            ],
            "image/png": "[encoded data removed]"
          },
          "metadata": {
            "needs_background": "light"
          }
        }
      ]
    },
    {
      "cell_type": "markdown",
      "source": [
        "As noted in the plots for tobacco usage rates, cigarette usage has also been on the decline across the US; however the rate declines are not similar pre- and post- treatment across states."
      ],
      "metadata": {
        "id": "7g5Q_UR3S3AA"
      }
    },
    {
      "cell_type": "markdown",
      "source": [
        "With these graphs comparing Maine (state that legalized marijuana) and New Hampshire (state that has not legalized marijuana), we see several differences in the drug usage rates, particularly for marijuana usage and alcohol. Thus, these graphs, along with the high statistical significance of the state variables in our regression discontinuity design, suggest that drug usage rates are highly linked to the characteristics of each state. We cannot assume that the outcome of the treatment group would be that of the control group when states do not follow similar trends pre-treatment. Therefore, we decided against implementing a difference in difference model. \n"
      ],
      "metadata": {
        "id": "ww4Gz7KbtRDM"
      }
    },
    {
      "cell_type": "markdown",
      "source": [
        "# DISCUSSION #"
      ],
      "metadata": {
        "id": "brrqxh-S4Jvb"
      }
    },
    {
      "cell_type": "markdown",
      "source": [
        "We now summarize our key findings and present a discussion of our study limitations. From here, we discuss the impact of our work in a broader policy context and suggest areas of future work."
      ],
      "metadata": {
        "id": "aGwYjVGJnZ4r"
      }
    },
    {
      "cell_type": "markdown",
      "source": [
        "## Summary of Findings"
      ],
      "metadata": {
        "id": "5RVOATWtlkZK"
      }
    },
    {
      "cell_type": "markdown",
      "source": [
        "1. We found that with the legalization of marijuana in 2016, the states of Nevada, Massachusetts, Maine, and California exhibited a statistically significant increase in the rate of new users of marijuana for 18-25 year olds. This indicates that the legalization of recreational marijuana led to an increase in the new people using marijuana, rather than increasing the intensity of usage for existing users. This is an intuitive finding as individuals who were already using marijuana were not as likely to increase their usage rapidly with the legalization; rather, legalization increased new user rates.\n",
        "\n",
        "2. Across all the metrics we considered in our model - marijuana, tobacco (cigarette), tobacco (general), and alcohol usage rates in the past month, as well as new user rates of marijuana for the age group of 18-25 - we see highly statistically significant effects from the local state level. This indicates that characteristics within each state influence the usage of the drugs. While our regression discontinuity design doesn't capture the specific trends localized to each state, we can however compare the overall usage rates in each state. We find that Maine and Massuchusetts have overall higher drug usage relative to the usage rates of Nevada and California.\n",
        "\n",
        "3. With cigarette usage in particular, we see a sharp decline in usage rates from 2017 to 2018 (post-legalization). This suggests that with legalization, we see a moderate (although not statistically significant) trend with declining cigarette usage, although not immediately after 2016. In terms of a broader safety perspective, legalization of marijuana may not necessarily lower the usage of more harmful drugs like tobacco and alcohol. Mainly due to data limitations, we were not able to confirm this relationship."
      ],
      "metadata": {
        "id": "3gRxBgHsnJqx"
      }
    },
    {
      "cell_type": "markdown",
      "source": [
        "## Study Limitations"
      ],
      "metadata": {
        "id": "BCsezrcXQTWB"
      }
    },
    {
      "cell_type": "markdown",
      "source": [
        "Due to the nature of our data, we had several limitations in our model that we hope can be addressed in future work.\n",
        "\n",
        "1. Our analysis only focused on a few states. Recall that we did this because we needed a sufficient amount of data pre- and post- legalization for our regression discontinuity design. However, even with the four states we used, there only have a few years of data pre- and post- legalization.  This is a limitation which cannot be changed by our study as currently there are only a few states that have legalized recreational marijuana.  However, many legislations are still deciding and there is the potential for more data points in the future.  Data points are collected by the year so as we wait, more post- legalization data will be available for use.\n",
        "\n",
        "2. Because survey data was collected voluntarily, alcohol and tobacco data are most likely more accurate than marijuana data pre-marijauna legalization.  We could address this limitation by allowing all surveys to be conducted anonymously rather than linking each individual to a unique participation code. \n",
        "\n",
        "3. With the regression discontinuity design, we can not necessarily state a causal relationship between the legalization of marijuana and the trends in marijuana, alcohol, and tobacco use due to outside variables that are not accounted for. There may have been events in a particular state that, aside from marijuana legalization, may have disrupted alcohol/tobacco consumption trends.  It would be beneficial to our study to have enough states which legalized marijuana in the same year and average their data points so that state-specific events carry a lesser impact on the overall trend."
      ],
      "metadata": {
        "id": "WydJ_ypfPUmX"
      }
    },
    {
      "cell_type": "markdown",
      "source": [
        "## Impact of Our Conclusions"
      ],
      "metadata": {
        "id": "P5vM-gIKuZx8"
      }
    },
    {
      "cell_type": "markdown",
      "source": [
        "Although we did not arrive at a statistically significant trend of a decrease in cigarette and alcohol usage due to marijuana leagalization (primarily due to a lack of data), our study approach could be applicable in serving as motivating reasons for marijuana legalization in future states. For example, with more sufficient data, we could potentially find that legalization of marijuana would encourage alcohol and tobacco users to decrease their consumption, switching over to marijuana usage. In light of medical research that shows that the risks of regular marijuana use appear to be lower than the risks of regular alcohol and tobacco use, such a result could serve to motivate why marijuana legalization could promote safer drug usage. However, if with more nuanced data, we still do not find conclusive results with decreases in cigarette and alcohol usage due to marijuana leagalization, then we may question the safety effects of marijuana legalization on overall drug usage patterns, potentially demotivating marijuana legalization."
      ],
      "metadata": {
        "id": "DGV-x-5vue4e"
      }
    },
    {
      "cell_type": "markdown",
      "source": [
        "## Future Work #"
      ],
      "metadata": {
        "id": "3_IdqW5LTu8F"
      }
    },
    {
      "cell_type": "markdown",
      "source": [
        "In addressing the limitations outlined above, we want to collect more data pre- and post- marijuana legalization at a monthly level to get an increased longitudinal view on the effects of marijuana legalization on marijuana, alcohol, and tobacco use over a more fine-grained time frame. This would address some of the data issues we faced with regards to grouping several states together in order to create a larger dataset for regression. Additionally, we want to collect data via testing rather than voluntary surveying for more accurate and generalizable results.\n",
        "\n"
      ],
      "metadata": {
        "id": "8ntN6C6LV970"
      }
    },
    {
      "cell_type": "markdown",
      "source": [
        "# REFERENCES #"
      ],
      "metadata": {
        "id": "KLb6KlfsTvHC"
      }
    },
    {
      "cell_type": "markdown",
      "source": [
        "1. National Survey on Drug Use and Health (NSDUH). CMS. (2021, December 1). Retrieved April 14, 2022, from https://www.cms.gov/About-CMS/Agency-Information/OMH/resource-center/hcps-and-researchers/data-tools/sgm-clearinghouse/nsduh#:~:text=NSDUH%20collects%20information%20from%20residents,bases%2C%20ages%2012%20and%20older \n",
        "\n",
        "2. Comparative risk assessment of alcohol, tobacco, cannabis and other illicit drugs using the margin of exposure approach. Nature. (2015 January 30). Retrieved April 18, 2022, from\n",
        "https://www.nature.com/articles/srep08126\n",
        " \n",
        "3. Global statistics on addictive behaviours: 2014 status report. Addiction. (2015, May 11). Retrieved April 18, 2022, fromhttps://onlinelibrary.wiley.com/doi/full/10.1111/add.12899\n",
        "\n",
        "4. Survey of Marijuana Law in the United States: History of Marijuana Regulation in the United States. University of Georgia School of Law. (2020, September 8). Retrieved April 18, 2022, https://libguides.law.uga.edu/c.php?g=522835&p=3575350#:~:text=In%20the%20late%2019th%20Century,the%20recreational%20use%20of%20marijuana. \n"
      ],
      "metadata": {
        "id": "O9csMyJhWIEL"
      }
    }
  ],
  "metadata": {
    "colab": {
      "collapsed_sections": [],
      "name": "Copy of ENGR 344 Final Project",
      "provenance": []
    },
    "kernelspec": {
      "display_name": "Python 3",
      "name": "python3"
    },
    "language_info": {
      "name": "python"
    }
  },
  "nbformat": 4,
  "nbformat_minor": 0
}